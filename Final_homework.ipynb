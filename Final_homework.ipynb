{
 "cells": [
  {
   "cell_type": "markdown",
   "metadata": {},
   "source": [
    "## Цели и план работы"
   ]
  },
  {
   "cell_type": "markdown",
   "metadata": {},
   "source": [
    " \n",
    "* ознакомление с предоставленными датасетами и описаниями представленных данных;\n",
    "* оценка чистоты и полноты данных;  \n",
    "* приведение данных в удобный вид для дальнейшей работы;\n",
    "* проведение базовой чистки (дубликаты, пустые значения, типизация данных, ненужные атрибуты);\n",
    "* анализ ключевых распределений данных и их взаимосвязей. \n",
    "\n",
    "**Цель проекта**: разработать модель предсказания совершения одного из целевых действий (\"Заказать звонок\", \"Оставить заявку\") для сессий по введенным атрибутам типа utm_*, device_*, geo_* и упаковать модель в сервис."
   ]
  },
  {
   "cell_type": "markdown",
   "metadata": {},
   "source": [
    "![title](data/Цель.png)"
   ]
  },
  {
   "cell_type": "markdown",
   "metadata": {},
   "source": [
    "![title](data/Формат.png)"
   ]
  },
  {
   "cell_type": "markdown",
   "metadata": {},
   "source": [
    "## *Импорт библиотек и модулей*"
   ]
  },
  {
   "cell_type": "code",
   "execution_count": 3,
   "metadata": {},
   "outputs": [],
   "source": [
    "import pandas as pd\n",
    "import json\n",
    "import gc\n",
    "import pickle\n",
    "\n",
    "from geopy.geocoders import Nominatim\n",
    "from geopy.extra.rate_limiter import RateLimiter\n",
    "from geopy import distance\n",
    "from sklearn.ensemble import RandomForestClassifier\n",
    "from sklearn.linear_model import LogisticRegression\n",
    "from sklearn.neural_network import MLPClassifier\n",
    "from sklearn.preprocessing import StandardScaler, OneHotEncoder\n",
    "from sklearn.metrics import roc_auc_score\n",
    "from sklearn.model_selection import train_test_split, cross_val_score\n",
    "from sklearn.model_selection import RandomizedSearchCV"
   ]
  },
  {
   "cell_type": "markdown",
   "metadata": {},
   "source": [
    "## *Загрузка данных*"
   ]
  },
  {
   "cell_type": "code",
   "execution_count": 142,
   "metadata": {},
   "outputs": [
    {
     "name": "stdout",
     "output_type": "stream",
     "text": [
      "Размеры датасета: (15726470, 11)\n"
     ]
    }
   ],
   "source": [
    "df_hits = pd.read_csv('data/ga_hits.csv')\n",
    "print(f'Размеры датасета: {df_hits.shape}')"
   ]
  },
  {
   "cell_type": "code",
   "execution_count": 143,
   "metadata": {},
   "outputs": [
    {
     "name": "stdout",
     "output_type": "stream",
     "text": [
      "Размеры датасета: (1860042, 18)\n"
     ]
    }
   ],
   "source": [
    "df_session = pd.read_csv('data/ga_sessions.csv', low_memory=False)\n",
    "print(f'Размеры датасета: {df_session.shape}')"
   ]
  },
  {
   "cell_type": "markdown",
   "metadata": {},
   "source": [
    "## *Анализ и описание датасетов*"
   ]
  },
  {
   "cell_type": "code",
   "execution_count": 4,
   "metadata": {},
   "outputs": [
    {
     "data": {
      "text/html": [
       "<div>\n",
       "<style scoped>\n",
       "    .dataframe tbody tr th:only-of-type {\n",
       "        vertical-align: middle;\n",
       "    }\n",
       "\n",
       "    .dataframe tbody tr th {\n",
       "        vertical-align: top;\n",
       "    }\n",
       "\n",
       "    .dataframe thead th {\n",
       "        text-align: right;\n",
       "    }\n",
       "</style>\n",
       "<table border=\"1\" class=\"dataframe\">\n",
       "  <thead>\n",
       "    <tr style=\"text-align: right;\">\n",
       "      <th></th>\n",
       "      <th>session_id</th>\n",
       "      <th>hit_date</th>\n",
       "      <th>hit_time</th>\n",
       "      <th>hit_number</th>\n",
       "      <th>hit_type</th>\n",
       "      <th>hit_referer</th>\n",
       "      <th>hit_page_path</th>\n",
       "      <th>event_category</th>\n",
       "      <th>event_action</th>\n",
       "      <th>event_label</th>\n",
       "      <th>event_value</th>\n",
       "    </tr>\n",
       "  </thead>\n",
       "  <tbody>\n",
       "    <tr>\n",
       "      <th>0</th>\n",
       "      <td>5639623078712724064.1640254056.1640254056</td>\n",
       "      <td>2021-12-23</td>\n",
       "      <td>597864.0</td>\n",
       "      <td>30</td>\n",
       "      <td>event</td>\n",
       "      <td>NaN</td>\n",
       "      <td>sberauto.com/cars?utm_source_initial=google&amp;ut...</td>\n",
       "      <td>quiz</td>\n",
       "      <td>quiz_show</td>\n",
       "      <td>NaN</td>\n",
       "      <td>NaN</td>\n",
       "    </tr>\n",
       "    <tr>\n",
       "      <th>1</th>\n",
       "      <td>7750352294969115059.1640271109.1640271109</td>\n",
       "      <td>2021-12-23</td>\n",
       "      <td>597331.0</td>\n",
       "      <td>41</td>\n",
       "      <td>event</td>\n",
       "      <td>NaN</td>\n",
       "      <td>sberauto.com/cars/fiat?city=1&amp;city=18&amp;rental_c...</td>\n",
       "      <td>quiz</td>\n",
       "      <td>quiz_show</td>\n",
       "      <td>NaN</td>\n",
       "      <td>NaN</td>\n",
       "    </tr>\n",
       "    <tr>\n",
       "      <th>2</th>\n",
       "      <td>885342191847998240.1640235807.1640235807</td>\n",
       "      <td>2021-12-23</td>\n",
       "      <td>796252.0</td>\n",
       "      <td>49</td>\n",
       "      <td>event</td>\n",
       "      <td>NaN</td>\n",
       "      <td>sberauto.com/cars/all/volkswagen/polo/e994838f...</td>\n",
       "      <td>quiz</td>\n",
       "      <td>quiz_show</td>\n",
       "      <td>NaN</td>\n",
       "      <td>NaN</td>\n",
       "    </tr>\n",
       "    <tr>\n",
       "      <th>3</th>\n",
       "      <td>142526202120934167.1640211014.1640211014</td>\n",
       "      <td>2021-12-23</td>\n",
       "      <td>934292.0</td>\n",
       "      <td>46</td>\n",
       "      <td>event</td>\n",
       "      <td>NaN</td>\n",
       "      <td>sberauto.com/cars?utm_source_initial=yandex&amp;ut...</td>\n",
       "      <td>quiz</td>\n",
       "      <td>quiz_show</td>\n",
       "      <td>NaN</td>\n",
       "      <td>NaN</td>\n",
       "    </tr>\n",
       "    <tr>\n",
       "      <th>4</th>\n",
       "      <td>3450086108837475701.1640265078.1640265078</td>\n",
       "      <td>2021-12-23</td>\n",
       "      <td>768741.0</td>\n",
       "      <td>79</td>\n",
       "      <td>event</td>\n",
       "      <td>NaN</td>\n",
       "      <td>sberauto.com/cars/all/mercedes-benz/cla-klasse...</td>\n",
       "      <td>quiz</td>\n",
       "      <td>quiz_show</td>\n",
       "      <td>NaN</td>\n",
       "      <td>NaN</td>\n",
       "    </tr>\n",
       "    <tr>\n",
       "      <th>...</th>\n",
       "      <td>...</td>\n",
       "      <td>...</td>\n",
       "      <td>...</td>\n",
       "      <td>...</td>\n",
       "      <td>...</td>\n",
       "      <td>...</td>\n",
       "      <td>...</td>\n",
       "      <td>...</td>\n",
       "      <td>...</td>\n",
       "      <td>...</td>\n",
       "      <td>...</td>\n",
       "    </tr>\n",
       "    <tr>\n",
       "      <th>15726465</th>\n",
       "      <td>6866159858916559617.1640270865.1640270865</td>\n",
       "      <td>2021-12-23</td>\n",
       "      <td>810589.0</td>\n",
       "      <td>43</td>\n",
       "      <td>event</td>\n",
       "      <td>NaN</td>\n",
       "      <td>sberauto.com/cars/all/toyota/fortuner/24cb5af2...</td>\n",
       "      <td>quiz</td>\n",
       "      <td>quiz_show</td>\n",
       "      <td>NaN</td>\n",
       "      <td>NaN</td>\n",
       "    </tr>\n",
       "    <tr>\n",
       "      <th>15726466</th>\n",
       "      <td>7310304587364460692.1640261783.1640261783</td>\n",
       "      <td>2021-12-23</td>\n",
       "      <td>904927.0</td>\n",
       "      <td>40</td>\n",
       "      <td>event</td>\n",
       "      <td>NaN</td>\n",
       "      <td>sberauto.com/cars/all/mercedes-benz/gla-klasse...</td>\n",
       "      <td>quiz</td>\n",
       "      <td>quiz_show</td>\n",
       "      <td>NaN</td>\n",
       "      <td>NaN</td>\n",
       "    </tr>\n",
       "    <tr>\n",
       "      <th>15726467</th>\n",
       "      <td>8013702685784312179.1640270195.1640270195</td>\n",
       "      <td>2021-12-23</td>\n",
       "      <td>2172865.0</td>\n",
       "      <td>43</td>\n",
       "      <td>event</td>\n",
       "      <td>NaN</td>\n",
       "      <td>sberauto.com/cars/all/toyota/alphard/2ebe4871?...</td>\n",
       "      <td>quiz</td>\n",
       "      <td>quiz_show</td>\n",
       "      <td>NaN</td>\n",
       "      <td>NaN</td>\n",
       "    </tr>\n",
       "    <tr>\n",
       "      <th>15726468</th>\n",
       "      <td>8021505554734405918.1640257821.1640257821</td>\n",
       "      <td>2021-12-23</td>\n",
       "      <td>713325.0</td>\n",
       "      <td>45</td>\n",
       "      <td>event</td>\n",
       "      <td>NaN</td>\n",
       "      <td>sberauto.com/cars/all/bmw/x3/6a660f0a?rental_p...</td>\n",
       "      <td>quiz</td>\n",
       "      <td>quiz_show</td>\n",
       "      <td>NaN</td>\n",
       "      <td>NaN</td>\n",
       "    </tr>\n",
       "    <tr>\n",
       "      <th>15726469</th>\n",
       "      <td>1569014437485249865.1640269129.1640269129</td>\n",
       "      <td>2021-12-23</td>\n",
       "      <td>742820.0</td>\n",
       "      <td>46</td>\n",
       "      <td>event</td>\n",
       "      <td>NaN</td>\n",
       "      <td>sberauto.com/cars/all/bmw/7-serii/399ac530?utm...</td>\n",
       "      <td>quiz</td>\n",
       "      <td>quiz_show</td>\n",
       "      <td>NaN</td>\n",
       "      <td>NaN</td>\n",
       "    </tr>\n",
       "  </tbody>\n",
       "</table>\n",
       "<p>15726470 rows × 11 columns</p>\n",
       "</div>"
      ],
      "text/plain": [
       "                                         session_id    hit_date   hit_time  \\\n",
       "0         5639623078712724064.1640254056.1640254056  2021-12-23   597864.0   \n",
       "1         7750352294969115059.1640271109.1640271109  2021-12-23   597331.0   \n",
       "2          885342191847998240.1640235807.1640235807  2021-12-23   796252.0   \n",
       "3          142526202120934167.1640211014.1640211014  2021-12-23   934292.0   \n",
       "4         3450086108837475701.1640265078.1640265078  2021-12-23   768741.0   \n",
       "...                                             ...         ...        ...   \n",
       "15726465  6866159858916559617.1640270865.1640270865  2021-12-23   810589.0   \n",
       "15726466  7310304587364460692.1640261783.1640261783  2021-12-23   904927.0   \n",
       "15726467  8013702685784312179.1640270195.1640270195  2021-12-23  2172865.0   \n",
       "15726468  8021505554734405918.1640257821.1640257821  2021-12-23   713325.0   \n",
       "15726469  1569014437485249865.1640269129.1640269129  2021-12-23   742820.0   \n",
       "\n",
       "          hit_number hit_type hit_referer  \\\n",
       "0                 30    event         NaN   \n",
       "1                 41    event         NaN   \n",
       "2                 49    event         NaN   \n",
       "3                 46    event         NaN   \n",
       "4                 79    event         NaN   \n",
       "...              ...      ...         ...   \n",
       "15726465          43    event         NaN   \n",
       "15726466          40    event         NaN   \n",
       "15726467          43    event         NaN   \n",
       "15726468          45    event         NaN   \n",
       "15726469          46    event         NaN   \n",
       "\n",
       "                                              hit_page_path event_category  \\\n",
       "0         sberauto.com/cars?utm_source_initial=google&ut...           quiz   \n",
       "1         sberauto.com/cars/fiat?city=1&city=18&rental_c...           quiz   \n",
       "2         sberauto.com/cars/all/volkswagen/polo/e994838f...           quiz   \n",
       "3         sberauto.com/cars?utm_source_initial=yandex&ut...           quiz   \n",
       "4         sberauto.com/cars/all/mercedes-benz/cla-klasse...           quiz   \n",
       "...                                                     ...            ...   \n",
       "15726465  sberauto.com/cars/all/toyota/fortuner/24cb5af2...           quiz   \n",
       "15726466  sberauto.com/cars/all/mercedes-benz/gla-klasse...           quiz   \n",
       "15726467  sberauto.com/cars/all/toyota/alphard/2ebe4871?...           quiz   \n",
       "15726468  sberauto.com/cars/all/bmw/x3/6a660f0a?rental_p...           quiz   \n",
       "15726469  sberauto.com/cars/all/bmw/7-serii/399ac530?utm...           quiz   \n",
       "\n",
       "         event_action event_label  event_value  \n",
       "0           quiz_show         NaN          NaN  \n",
       "1           quiz_show         NaN          NaN  \n",
       "2           quiz_show         NaN          NaN  \n",
       "3           quiz_show         NaN          NaN  \n",
       "4           quiz_show         NaN          NaN  \n",
       "...               ...         ...          ...  \n",
       "15726465    quiz_show         NaN          NaN  \n",
       "15726466    quiz_show         NaN          NaN  \n",
       "15726467    quiz_show         NaN          NaN  \n",
       "15726468    quiz_show         NaN          NaN  \n",
       "15726469    quiz_show         NaN          NaN  \n",
       "\n",
       "[15726470 rows x 11 columns]"
      ]
     },
     "execution_count": 4,
     "metadata": {},
     "output_type": "execute_result"
    }
   ],
   "source": [
    "df_hits"
   ]
  },
  {
   "cell_type": "markdown",
   "metadata": {},
   "source": [
    "В датасете `ga_hits.csv` содержатся данные о событиях в рамках каждой сессии из другого датасета `ga_sessions.csv`"
   ]
  },
  {
   "cell_type": "markdown",
   "metadata": {},
   "source": [
    "![title](data/ga_hits1.png)"
   ]
  },
  {
   "cell_type": "code",
   "execution_count": 5,
   "metadata": {},
   "outputs": [
    {
     "data": {
      "text/html": [
       "<div>\n",
       "<style scoped>\n",
       "    .dataframe tbody tr th:only-of-type {\n",
       "        vertical-align: middle;\n",
       "    }\n",
       "\n",
       "    .dataframe tbody tr th {\n",
       "        vertical-align: top;\n",
       "    }\n",
       "\n",
       "    .dataframe thead th {\n",
       "        text-align: right;\n",
       "    }\n",
       "</style>\n",
       "<table border=\"1\" class=\"dataframe\">\n",
       "  <thead>\n",
       "    <tr style=\"text-align: right;\">\n",
       "      <th></th>\n",
       "      <th>session_id</th>\n",
       "      <th>client_id</th>\n",
       "      <th>visit_date</th>\n",
       "      <th>visit_time</th>\n",
       "      <th>visit_number</th>\n",
       "      <th>utm_source</th>\n",
       "      <th>utm_medium</th>\n",
       "      <th>utm_campaign</th>\n",
       "      <th>utm_adcontent</th>\n",
       "      <th>utm_keyword</th>\n",
       "      <th>device_category</th>\n",
       "      <th>device_os</th>\n",
       "      <th>device_brand</th>\n",
       "      <th>device_model</th>\n",
       "      <th>device_screen_resolution</th>\n",
       "      <th>device_browser</th>\n",
       "      <th>geo_country</th>\n",
       "      <th>geo_city</th>\n",
       "    </tr>\n",
       "  </thead>\n",
       "  <tbody>\n",
       "    <tr>\n",
       "      <th>0</th>\n",
       "      <td>9055434745589932991.1637753792.1637753792</td>\n",
       "      <td>2108382700.1637753791</td>\n",
       "      <td>2021-11-24</td>\n",
       "      <td>14:36:32</td>\n",
       "      <td>1</td>\n",
       "      <td>ZpYIoDJMcFzVoPFsHGJL</td>\n",
       "      <td>banner</td>\n",
       "      <td>LEoPHuyFvzoNfnzGgfcd</td>\n",
       "      <td>vCIpmpaGBnIQhyYNkXqp</td>\n",
       "      <td>puhZPIYqKXeFPaUviSjo</td>\n",
       "      <td>mobile</td>\n",
       "      <td>Android</td>\n",
       "      <td>Huawei</td>\n",
       "      <td>NaN</td>\n",
       "      <td>360x720</td>\n",
       "      <td>Chrome</td>\n",
       "      <td>Russia</td>\n",
       "      <td>Zlatoust</td>\n",
       "    </tr>\n",
       "    <tr>\n",
       "      <th>1</th>\n",
       "      <td>905544597018549464.1636867290.1636867290</td>\n",
       "      <td>210838531.1636867288</td>\n",
       "      <td>2021-11-14</td>\n",
       "      <td>08:21:30</td>\n",
       "      <td>1</td>\n",
       "      <td>MvfHsxITijuriZxsqZqt</td>\n",
       "      <td>cpm</td>\n",
       "      <td>FTjNLDyTrXaWYgZymFkV</td>\n",
       "      <td>xhoenQgDQsgfEPYNPwKO</td>\n",
       "      <td>IGUCNvHlhfHpROGclCit</td>\n",
       "      <td>mobile</td>\n",
       "      <td>Android</td>\n",
       "      <td>Samsung</td>\n",
       "      <td>NaN</td>\n",
       "      <td>385x854</td>\n",
       "      <td>Samsung Internet</td>\n",
       "      <td>Russia</td>\n",
       "      <td>Moscow</td>\n",
       "    </tr>\n",
       "    <tr>\n",
       "      <th>2</th>\n",
       "      <td>9055446045651783499.1640648526.1640648526</td>\n",
       "      <td>2108385331.1640648523</td>\n",
       "      <td>2021-12-28</td>\n",
       "      <td>02:42:06</td>\n",
       "      <td>1</td>\n",
       "      <td>ZpYIoDJMcFzVoPFsHGJL</td>\n",
       "      <td>banner</td>\n",
       "      <td>LEoPHuyFvzoNfnzGgfcd</td>\n",
       "      <td>vCIpmpaGBnIQhyYNkXqp</td>\n",
       "      <td>puhZPIYqKXeFPaUviSjo</td>\n",
       "      <td>mobile</td>\n",
       "      <td>Android</td>\n",
       "      <td>Huawei</td>\n",
       "      <td>NaN</td>\n",
       "      <td>360x720</td>\n",
       "      <td>Chrome</td>\n",
       "      <td>Russia</td>\n",
       "      <td>Krasnoyarsk</td>\n",
       "    </tr>\n",
       "    <tr>\n",
       "      <th>3</th>\n",
       "      <td>9055447046360770272.1622255328.1622255328</td>\n",
       "      <td>2108385564.1622255328</td>\n",
       "      <td>2021-05-29</td>\n",
       "      <td>05:00:00</td>\n",
       "      <td>1</td>\n",
       "      <td>kjsLglQLzykiRbcDiGcD</td>\n",
       "      <td>cpc</td>\n",
       "      <td>NaN</td>\n",
       "      <td>NOBKLgtuvqYWkXQHeYWM</td>\n",
       "      <td>NaN</td>\n",
       "      <td>mobile</td>\n",
       "      <td>NaN</td>\n",
       "      <td>Xiaomi</td>\n",
       "      <td>NaN</td>\n",
       "      <td>393x786</td>\n",
       "      <td>Chrome</td>\n",
       "      <td>Russia</td>\n",
       "      <td>Moscow</td>\n",
       "    </tr>\n",
       "    <tr>\n",
       "      <th>4</th>\n",
       "      <td>9055447046360770272.1622255345.1622255345</td>\n",
       "      <td>2108385564.1622255328</td>\n",
       "      <td>2021-05-29</td>\n",
       "      <td>05:00:00</td>\n",
       "      <td>2</td>\n",
       "      <td>kjsLglQLzykiRbcDiGcD</td>\n",
       "      <td>cpc</td>\n",
       "      <td>NaN</td>\n",
       "      <td>NaN</td>\n",
       "      <td>NaN</td>\n",
       "      <td>mobile</td>\n",
       "      <td>NaN</td>\n",
       "      <td>Xiaomi</td>\n",
       "      <td>NaN</td>\n",
       "      <td>393x786</td>\n",
       "      <td>Chrome</td>\n",
       "      <td>Russia</td>\n",
       "      <td>Moscow</td>\n",
       "    </tr>\n",
       "    <tr>\n",
       "      <th>...</th>\n",
       "      <td>...</td>\n",
       "      <td>...</td>\n",
       "      <td>...</td>\n",
       "      <td>...</td>\n",
       "      <td>...</td>\n",
       "      <td>...</td>\n",
       "      <td>...</td>\n",
       "      <td>...</td>\n",
       "      <td>...</td>\n",
       "      <td>...</td>\n",
       "      <td>...</td>\n",
       "      <td>...</td>\n",
       "      <td>...</td>\n",
       "      <td>...</td>\n",
       "      <td>...</td>\n",
       "      <td>...</td>\n",
       "      <td>...</td>\n",
       "      <td>...</td>\n",
       "    </tr>\n",
       "    <tr>\n",
       "      <th>1860037</th>\n",
       "      <td>9055415581448263752.1640159305.1640159305</td>\n",
       "      <td>2108378238.1640159304</td>\n",
       "      <td>2021-12-22</td>\n",
       "      <td>10:48:25</td>\n",
       "      <td>1</td>\n",
       "      <td>BHcvLfOaCWvWTykYqHVe</td>\n",
       "      <td>cpc</td>\n",
       "      <td>NaN</td>\n",
       "      <td>NaN</td>\n",
       "      <td>VlqBmecIOXWjCWUmQkLd</td>\n",
       "      <td>desktop</td>\n",
       "      <td>Windows</td>\n",
       "      <td>NaN</td>\n",
       "      <td>NaN</td>\n",
       "      <td>1920x1080</td>\n",
       "      <td>Chrome</td>\n",
       "      <td>Russia</td>\n",
       "      <td>Moscow</td>\n",
       "    </tr>\n",
       "    <tr>\n",
       "      <th>1860038</th>\n",
       "      <td>9055421130527858185.1622007305.1622007305</td>\n",
       "      <td>2108379530.1622007305</td>\n",
       "      <td>2021-05-26</td>\n",
       "      <td>08:00:00</td>\n",
       "      <td>1</td>\n",
       "      <td>fDLlAcSmythWSCVMvqvL</td>\n",
       "      <td>(none)</td>\n",
       "      <td>LTuZkdKfxRGVceoWkVyg</td>\n",
       "      <td>JNHcPlZPxEMWDnRiyoBf</td>\n",
       "      <td>NaN</td>\n",
       "      <td>mobile</td>\n",
       "      <td>NaN</td>\n",
       "      <td>Apple</td>\n",
       "      <td>NaN</td>\n",
       "      <td>390x844</td>\n",
       "      <td>Safari</td>\n",
       "      <td>Russia</td>\n",
       "      <td>Stavropol</td>\n",
       "    </tr>\n",
       "    <tr>\n",
       "      <th>1860039</th>\n",
       "      <td>9055422955903931195.1636979515.1636979515</td>\n",
       "      <td>2108379955.1636979515</td>\n",
       "      <td>2021-11-15</td>\n",
       "      <td>15:31:55</td>\n",
       "      <td>1</td>\n",
       "      <td>fDLlAcSmythWSCVMvqvL</td>\n",
       "      <td>(none)</td>\n",
       "      <td>LTuZkdKfxRGVceoWkVyg</td>\n",
       "      <td>JNHcPlZPxEMWDnRiyoBf</td>\n",
       "      <td>puhZPIYqKXeFPaUviSjo</td>\n",
       "      <td>mobile</td>\n",
       "      <td>iOS</td>\n",
       "      <td>Apple</td>\n",
       "      <td>NaN</td>\n",
       "      <td>375x667</td>\n",
       "      <td>Safari</td>\n",
       "      <td>Russia</td>\n",
       "      <td>Moscow</td>\n",
       "    </tr>\n",
       "    <tr>\n",
       "      <th>1860040</th>\n",
       "      <td>905543020766873816.1638189404.1638189404</td>\n",
       "      <td>210838164.1638189272</td>\n",
       "      <td>2021-11-29</td>\n",
       "      <td>15:36:44</td>\n",
       "      <td>1</td>\n",
       "      <td>ZpYIoDJMcFzVoPFsHGJL</td>\n",
       "      <td>banner</td>\n",
       "      <td>LEoPHuyFvzoNfnzGgfcd</td>\n",
       "      <td>JNHcPlZPxEMWDnRiyoBf</td>\n",
       "      <td>puhZPIYqKXeFPaUviSjo</td>\n",
       "      <td>mobile</td>\n",
       "      <td>Android</td>\n",
       "      <td>Xiaomi</td>\n",
       "      <td>NaN</td>\n",
       "      <td>393x851</td>\n",
       "      <td>Chrome</td>\n",
       "      <td>Russia</td>\n",
       "      <td>Chelyabinsk</td>\n",
       "    </tr>\n",
       "    <tr>\n",
       "      <th>1860041</th>\n",
       "      <td>9055430416266113553.1640968742.1640968742</td>\n",
       "      <td>2108381692.1640968721</td>\n",
       "      <td>2021-12-31</td>\n",
       "      <td>19:39:02</td>\n",
       "      <td>1</td>\n",
       "      <td>fgymSoTvjKPEgaIJqsiH</td>\n",
       "      <td>cpm</td>\n",
       "      <td>FTjNLDyTrXaWYgZymFkV</td>\n",
       "      <td>yYdBRbPmBMUZHXwqGxNx</td>\n",
       "      <td>oKjXDUsycmahkgMhGdAR</td>\n",
       "      <td>desktop</td>\n",
       "      <td>Linux</td>\n",
       "      <td>NaN</td>\n",
       "      <td>NaN</td>\n",
       "      <td>1366x768</td>\n",
       "      <td>Chrome</td>\n",
       "      <td>Russia</td>\n",
       "      <td>Moscow</td>\n",
       "    </tr>\n",
       "  </tbody>\n",
       "</table>\n",
       "<p>1860042 rows × 18 columns</p>\n",
       "</div>"
      ],
      "text/plain": [
       "                                        session_id              client_id  \\\n",
       "0        9055434745589932991.1637753792.1637753792  2108382700.1637753791   \n",
       "1         905544597018549464.1636867290.1636867290   210838531.1636867288   \n",
       "2        9055446045651783499.1640648526.1640648526  2108385331.1640648523   \n",
       "3        9055447046360770272.1622255328.1622255328  2108385564.1622255328   \n",
       "4        9055447046360770272.1622255345.1622255345  2108385564.1622255328   \n",
       "...                                            ...                    ...   \n",
       "1860037  9055415581448263752.1640159305.1640159305  2108378238.1640159304   \n",
       "1860038  9055421130527858185.1622007305.1622007305  2108379530.1622007305   \n",
       "1860039  9055422955903931195.1636979515.1636979515  2108379955.1636979515   \n",
       "1860040   905543020766873816.1638189404.1638189404   210838164.1638189272   \n",
       "1860041  9055430416266113553.1640968742.1640968742  2108381692.1640968721   \n",
       "\n",
       "         visit_date visit_time  visit_number            utm_source utm_medium  \\\n",
       "0        2021-11-24   14:36:32             1  ZpYIoDJMcFzVoPFsHGJL     banner   \n",
       "1        2021-11-14   08:21:30             1  MvfHsxITijuriZxsqZqt        cpm   \n",
       "2        2021-12-28   02:42:06             1  ZpYIoDJMcFzVoPFsHGJL     banner   \n",
       "3        2021-05-29   05:00:00             1  kjsLglQLzykiRbcDiGcD        cpc   \n",
       "4        2021-05-29   05:00:00             2  kjsLglQLzykiRbcDiGcD        cpc   \n",
       "...             ...        ...           ...                   ...        ...   \n",
       "1860037  2021-12-22   10:48:25             1  BHcvLfOaCWvWTykYqHVe        cpc   \n",
       "1860038  2021-05-26   08:00:00             1  fDLlAcSmythWSCVMvqvL     (none)   \n",
       "1860039  2021-11-15   15:31:55             1  fDLlAcSmythWSCVMvqvL     (none)   \n",
       "1860040  2021-11-29   15:36:44             1  ZpYIoDJMcFzVoPFsHGJL     banner   \n",
       "1860041  2021-12-31   19:39:02             1  fgymSoTvjKPEgaIJqsiH        cpm   \n",
       "\n",
       "                 utm_campaign         utm_adcontent           utm_keyword  \\\n",
       "0        LEoPHuyFvzoNfnzGgfcd  vCIpmpaGBnIQhyYNkXqp  puhZPIYqKXeFPaUviSjo   \n",
       "1        FTjNLDyTrXaWYgZymFkV  xhoenQgDQsgfEPYNPwKO  IGUCNvHlhfHpROGclCit   \n",
       "2        LEoPHuyFvzoNfnzGgfcd  vCIpmpaGBnIQhyYNkXqp  puhZPIYqKXeFPaUviSjo   \n",
       "3                         NaN  NOBKLgtuvqYWkXQHeYWM                   NaN   \n",
       "4                         NaN                   NaN                   NaN   \n",
       "...                       ...                   ...                   ...   \n",
       "1860037                   NaN                   NaN  VlqBmecIOXWjCWUmQkLd   \n",
       "1860038  LTuZkdKfxRGVceoWkVyg  JNHcPlZPxEMWDnRiyoBf                   NaN   \n",
       "1860039  LTuZkdKfxRGVceoWkVyg  JNHcPlZPxEMWDnRiyoBf  puhZPIYqKXeFPaUviSjo   \n",
       "1860040  LEoPHuyFvzoNfnzGgfcd  JNHcPlZPxEMWDnRiyoBf  puhZPIYqKXeFPaUviSjo   \n",
       "1860041  FTjNLDyTrXaWYgZymFkV  yYdBRbPmBMUZHXwqGxNx  oKjXDUsycmahkgMhGdAR   \n",
       "\n",
       "        device_category device_os device_brand device_model  \\\n",
       "0                mobile   Android       Huawei          NaN   \n",
       "1                mobile   Android      Samsung          NaN   \n",
       "2                mobile   Android       Huawei          NaN   \n",
       "3                mobile       NaN       Xiaomi          NaN   \n",
       "4                mobile       NaN       Xiaomi          NaN   \n",
       "...                 ...       ...          ...          ...   \n",
       "1860037         desktop   Windows          NaN          NaN   \n",
       "1860038          mobile       NaN        Apple          NaN   \n",
       "1860039          mobile       iOS        Apple          NaN   \n",
       "1860040          mobile   Android       Xiaomi          NaN   \n",
       "1860041         desktop     Linux          NaN          NaN   \n",
       "\n",
       "        device_screen_resolution    device_browser geo_country     geo_city  \n",
       "0                        360x720            Chrome      Russia     Zlatoust  \n",
       "1                        385x854  Samsung Internet      Russia       Moscow  \n",
       "2                        360x720            Chrome      Russia  Krasnoyarsk  \n",
       "3                        393x786            Chrome      Russia       Moscow  \n",
       "4                        393x786            Chrome      Russia       Moscow  \n",
       "...                          ...               ...         ...          ...  \n",
       "1860037                1920x1080            Chrome      Russia       Moscow  \n",
       "1860038                  390x844            Safari      Russia    Stavropol  \n",
       "1860039                  375x667            Safari      Russia       Moscow  \n",
       "1860040                  393x851            Chrome      Russia  Chelyabinsk  \n",
       "1860041                 1366x768            Chrome      Russia       Moscow  \n",
       "\n",
       "[1860042 rows x 18 columns]"
      ]
     },
     "execution_count": 5,
     "metadata": {},
     "output_type": "execute_result"
    }
   ],
   "source": [
    "df_session"
   ]
  },
  {
   "cell_type": "markdown",
   "metadata": {},
   "source": [
    "Описание атрибутов `ga_sessions.csv`"
   ]
  },
  {
   "cell_type": "markdown",
   "metadata": {},
   "source": [
    "![title](data/ga_sessions.png)"
   ]
  },
  {
   "cell_type": "markdown",
   "metadata": {},
   "source": [
    "Целевые действия находятся в колонке `event_action`.\n",
    "\n",
    "Целевое действие — события типа «Оставить заявку» и «Заказать звонок»\n",
    "(ga_hits.event_action in ['sub_car_claim_click', 'sub_car_claim_submit_click',\n",
    "'sub_open_dialog_click', 'sub_custom_question_submit_click',\n",
    "'sub_call_number_click', 'sub_callback_submit_click', 'sub_submit_success',\n",
    "'sub_car_request_submit_click']).\n",
    "\n",
    "Целевое действие считается выполненым, если для сессии из `sessions` есть хотя бы одно целевое событие в `hits`. "
   ]
  },
  {
   "cell_type": "markdown",
   "metadata": {},
   "source": [
    "## *Data Preparation*"
   ]
  },
  {
   "cell_type": "markdown",
   "metadata": {},
   "source": [
    "переменная с целевыми действиями"
   ]
  },
  {
   "cell_type": "code",
   "execution_count": 144,
   "metadata": {},
   "outputs": [],
   "source": [
    "# переменная с целевыми действиями\n",
    "all_targets = ['sub_car_claim_click',\n",
    "\n",
    "'sub_car_claim_submit_click',\n",
    "\n",
    "'sub_open_dialog_click',\n",
    "\n",
    "'sub_custom_question_submit_click',\n",
    "\n",
    "'sub_call_number_click',\n",
    "\n",
    "'sub_callback_submit_click',\n",
    "\n",
    "'sub_submit_success',\n",
    "\n",
    "'sub_car_request_submit_click']"
   ]
  },
  {
   "cell_type": "markdown",
   "metadata": {},
   "source": [
    "проверим наличие пропусков в колонках `session_id` и `event_action` в датасете `df_hits`"
   ]
  },
  {
   "cell_type": "code",
   "execution_count": 145,
   "metadata": {},
   "outputs": [
    {
     "data": {
      "text/plain": [
       "session_id      0\n",
       "event_action    0\n",
       "dtype: int64"
      ]
     },
     "execution_count": 145,
     "metadata": {},
     "output_type": "execute_result"
    }
   ],
   "source": [
    "# проверим наличие пропусков в колонках 'session_id' и 'event_action'\n",
    "df_hits[['session_id', 'event_action']].isna().sum().sort_values(ascending=False)"
   ]
  },
  {
   "cell_type": "markdown",
   "metadata": {},
   "source": [
    "проверим наличие пропусков в датасете `df_session`"
   ]
  },
  {
   "cell_type": "code",
   "execution_count": 146,
   "metadata": {},
   "outputs": [
    {
     "data": {
      "text/plain": [
       "device_model                1843704\n",
       "utm_keyword                 1082061\n",
       "device_os                   1070138\n",
       "device_brand                 367178\n",
       "utm_adcontent                335615\n",
       "utm_campaign                 219603\n",
       "utm_source                       97\n",
       "geo_country                       0\n",
       "device_browser                    0\n",
       "device_screen_resolution          0\n",
       "session_id                        0\n",
       "device_category                   0\n",
       "client_id                         0\n",
       "utm_medium                        0\n",
       "visit_number                      0\n",
       "visit_time                        0\n",
       "visit_date                        0\n",
       "geo_city                          0\n",
       "dtype: int64"
      ]
     },
     "execution_count": 146,
     "metadata": {},
     "output_type": "execute_result"
    }
   ],
   "source": [
    "# проверим наличие пропусков в датасете `df_session`\n",
    "df_session.isna().sum().sort_values(ascending=False)"
   ]
  },
  {
   "cell_type": "code",
   "execution_count": 147,
   "metadata": {},
   "outputs": [
    {
     "data": {
      "text/plain": [
       "target\n",
       "0    15621562\n",
       "1      104908\n",
       "Name: count, dtype: int64"
      ]
     },
     "execution_count": 147,
     "metadata": {},
     "output_type": "execute_result"
    }
   ],
   "source": [
    "# заполняем столбец df_hits['target'] \"1\", если df_ga_hits['event_action'] содержит целевую, иначе \"0\"\n",
    "df_hits['target'] = df_hits['event_action'].apply(lambda x: 1 if x in all_targets else 0)\n",
    "df_hits['target'].value_counts()"
   ]
  },
  {
   "cell_type": "markdown",
   "metadata": {},
   "source": [
    "распределение целого действия:\n",
    "\n",
    "*Всего целевых действий 104908 из 15726470, т.е процент не велик, т.к. продукт новый и не дешёвый*"
   ]
  },
  {
   "cell_type": "markdown",
   "metadata": {},
   "source": [
    "Дополним датасет `df_session` целевыми переменными из столбеца `target` датасета `df_hits`"
   ]
  },
  {
   "cell_type": "code",
   "execution_count": 148,
   "metadata": {},
   "outputs": [
    {
     "data": {
      "text/html": [
       "<div>\n",
       "<style scoped>\n",
       "    .dataframe tbody tr th:only-of-type {\n",
       "        vertical-align: middle;\n",
       "    }\n",
       "\n",
       "    .dataframe tbody tr th {\n",
       "        vertical-align: top;\n",
       "    }\n",
       "\n",
       "    .dataframe thead th {\n",
       "        text-align: right;\n",
       "    }\n",
       "</style>\n",
       "<table border=\"1\" class=\"dataframe\">\n",
       "  <thead>\n",
       "    <tr style=\"text-align: right;\">\n",
       "      <th></th>\n",
       "      <th>session_id</th>\n",
       "      <th>target</th>\n",
       "    </tr>\n",
       "  </thead>\n",
       "  <tbody>\n",
       "    <tr>\n",
       "      <th>0</th>\n",
       "      <td>1000009318903347362.1632663668.1632663668</td>\n",
       "      <td>0</td>\n",
       "    </tr>\n",
       "    <tr>\n",
       "      <th>1</th>\n",
       "      <td>1000010177899156286.1635013443.1635013443</td>\n",
       "      <td>0</td>\n",
       "    </tr>\n",
       "    <tr>\n",
       "      <th>2</th>\n",
       "      <td>1000013386240115915.1635402956.1635402956</td>\n",
       "      <td>0</td>\n",
       "    </tr>\n",
       "    <tr>\n",
       "      <th>3</th>\n",
       "      <td>1000017303238376207.1623489300.1623489300</td>\n",
       "      <td>0</td>\n",
       "    </tr>\n",
       "    <tr>\n",
       "      <th>4</th>\n",
       "      <td>1000020580299877109.1624943350.1624943350</td>\n",
       "      <td>0</td>\n",
       "    </tr>\n",
       "    <tr>\n",
       "      <th>...</th>\n",
       "      <td>...</td>\n",
       "      <td>...</td>\n",
       "    </tr>\n",
       "    <tr>\n",
       "      <th>1734605</th>\n",
       "      <td>999960188766601545.1626816843.1626816843</td>\n",
       "      <td>0</td>\n",
       "    </tr>\n",
       "    <tr>\n",
       "      <th>1734606</th>\n",
       "      <td>99996598443387715.1626811203.1626811203</td>\n",
       "      <td>0</td>\n",
       "    </tr>\n",
       "    <tr>\n",
       "      <th>1734607</th>\n",
       "      <td>999966717128502952.1638428330.1638428330</td>\n",
       "      <td>0</td>\n",
       "    </tr>\n",
       "    <tr>\n",
       "      <th>1734608</th>\n",
       "      <td>999988617151873171.1623556243.1623556243</td>\n",
       "      <td>0</td>\n",
       "    </tr>\n",
       "    <tr>\n",
       "      <th>1734609</th>\n",
       "      <td>999989480451054428.1634311006.1634311006</td>\n",
       "      <td>0</td>\n",
       "    </tr>\n",
       "  </tbody>\n",
       "</table>\n",
       "<p>1734610 rows × 2 columns</p>\n",
       "</div>"
      ],
      "text/plain": [
       "                                        session_id  target\n",
       "0        1000009318903347362.1632663668.1632663668       0\n",
       "1        1000010177899156286.1635013443.1635013443       0\n",
       "2        1000013386240115915.1635402956.1635402956       0\n",
       "3        1000017303238376207.1623489300.1623489300       0\n",
       "4        1000020580299877109.1624943350.1624943350       0\n",
       "...                                            ...     ...\n",
       "1734605   999960188766601545.1626816843.1626816843       0\n",
       "1734606    99996598443387715.1626811203.1626811203       0\n",
       "1734607   999966717128502952.1638428330.1638428330       0\n",
       "1734608   999988617151873171.1623556243.1623556243       0\n",
       "1734609   999989480451054428.1634311006.1634311006       0\n",
       "\n",
       "[1734610 rows x 2 columns]"
      ]
     },
     "execution_count": 148,
     "metadata": {},
     "output_type": "execute_result"
    }
   ],
   "source": [
    "# группируем по 'session_id' и по столбцу 'target'\n",
    "target = df_hits.groupby('session_id')[['target']].max().reset_index()\n",
    "target"
   ]
  },
  {
   "cell_type": "code",
   "execution_count": 149,
   "metadata": {},
   "outputs": [
    {
     "data": {
      "text/plain": [
       "(1732266, 19)"
      ]
     },
     "execution_count": 149,
     "metadata": {},
     "output_type": "execute_result"
    }
   ],
   "source": [
    "# добавляем к df_session столбец target\n",
    "df_session_target = pd.merge(target, df_session)\n",
    "df_session_target.shape"
   ]
  },
  {
   "cell_type": "code",
   "execution_count": 150,
   "metadata": {},
   "outputs": [
    {
     "data": {
      "text/html": [
       "<div>\n",
       "<style scoped>\n",
       "    .dataframe tbody tr th:only-of-type {\n",
       "        vertical-align: middle;\n",
       "    }\n",
       "\n",
       "    .dataframe tbody tr th {\n",
       "        vertical-align: top;\n",
       "    }\n",
       "\n",
       "    .dataframe thead th {\n",
       "        text-align: right;\n",
       "    }\n",
       "</style>\n",
       "<table border=\"1\" class=\"dataframe\">\n",
       "  <thead>\n",
       "    <tr style=\"text-align: right;\">\n",
       "      <th></th>\n",
       "      <th>session_id</th>\n",
       "      <th>target</th>\n",
       "      <th>client_id</th>\n",
       "      <th>visit_date</th>\n",
       "      <th>visit_time</th>\n",
       "      <th>visit_number</th>\n",
       "      <th>utm_source</th>\n",
       "      <th>utm_medium</th>\n",
       "      <th>utm_campaign</th>\n",
       "      <th>utm_adcontent</th>\n",
       "      <th>utm_keyword</th>\n",
       "      <th>device_category</th>\n",
       "      <th>device_os</th>\n",
       "      <th>device_brand</th>\n",
       "      <th>device_model</th>\n",
       "      <th>device_screen_resolution</th>\n",
       "      <th>device_browser</th>\n",
       "      <th>geo_country</th>\n",
       "      <th>geo_city</th>\n",
       "    </tr>\n",
       "  </thead>\n",
       "  <tbody>\n",
       "    <tr>\n",
       "      <th>0</th>\n",
       "      <td>1000009318903347362.1632663668.1632663668</td>\n",
       "      <td>0</td>\n",
       "      <td>232832813.1632663714</td>\n",
       "      <td>2021-09-26</td>\n",
       "      <td>16:00:00</td>\n",
       "      <td>1</td>\n",
       "      <td>MvfHsxITijuriZxsqZqt</td>\n",
       "      <td>cpm</td>\n",
       "      <td>FTjNLDyTrXaWYgZymFkV</td>\n",
       "      <td>PkybGvWbaqORmxjNunqZ</td>\n",
       "      <td>NaN</td>\n",
       "      <td>mobile</td>\n",
       "      <td>NaN</td>\n",
       "      <td>Samsung</td>\n",
       "      <td>NaN</td>\n",
       "      <td>412x869</td>\n",
       "      <td>Chrome</td>\n",
       "      <td>Russia</td>\n",
       "      <td>Gelendzhik</td>\n",
       "    </tr>\n",
       "    <tr>\n",
       "      <th>1</th>\n",
       "      <td>1000010177899156286.1635013443.1635013443</td>\n",
       "      <td>0</td>\n",
       "      <td>232833013.1635013438</td>\n",
       "      <td>2021-10-23</td>\n",
       "      <td>21:24:03</td>\n",
       "      <td>1</td>\n",
       "      <td>fDLlAcSmythWSCVMvqvL</td>\n",
       "      <td>(none)</td>\n",
       "      <td>LTuZkdKfxRGVceoWkVyg</td>\n",
       "      <td>JNHcPlZPxEMWDnRiyoBf</td>\n",
       "      <td>puhZPIYqKXeFPaUviSjo</td>\n",
       "      <td>mobile</td>\n",
       "      <td>Android</td>\n",
       "      <td>Samsung</td>\n",
       "      <td>NaN</td>\n",
       "      <td>360x640</td>\n",
       "      <td>Samsung Internet</td>\n",
       "      <td>Russia</td>\n",
       "      <td>Voronezh</td>\n",
       "    </tr>\n",
       "    <tr>\n",
       "      <th>2</th>\n",
       "      <td>1000013386240115915.1635402956.1635402956</td>\n",
       "      <td>0</td>\n",
       "      <td>232833760.1635402955</td>\n",
       "      <td>2021-10-28</td>\n",
       "      <td>09:35:56</td>\n",
       "      <td>1</td>\n",
       "      <td>ZpYIoDJMcFzVoPFsHGJL</td>\n",
       "      <td>banner</td>\n",
       "      <td>gecBYcKZCPMcVYdSSzKP</td>\n",
       "      <td>JNHcPlZPxEMWDnRiyoBf</td>\n",
       "      <td>puhZPIYqKXeFPaUviSjo</td>\n",
       "      <td>mobile</td>\n",
       "      <td>Android</td>\n",
       "      <td>Samsung</td>\n",
       "      <td>NaN</td>\n",
       "      <td>412x846</td>\n",
       "      <td>Chrome</td>\n",
       "      <td>Russia</td>\n",
       "      <td>Cherkessk</td>\n",
       "    </tr>\n",
       "    <tr>\n",
       "      <th>3</th>\n",
       "      <td>1000017303238376207.1623489300.1623489300</td>\n",
       "      <td>0</td>\n",
       "      <td>232834672.1623489295</td>\n",
       "      <td>2021-06-12</td>\n",
       "      <td>12:00:00</td>\n",
       "      <td>1</td>\n",
       "      <td>ZpYIoDJMcFzVoPFsHGJL</td>\n",
       "      <td>banner</td>\n",
       "      <td>LEoPHuyFvzoNfnzGgfcd</td>\n",
       "      <td>JNHcPlZPxEMWDnRiyoBf</td>\n",
       "      <td>NaN</td>\n",
       "      <td>mobile</td>\n",
       "      <td>NaN</td>\n",
       "      <td>Realme</td>\n",
       "      <td>NaN</td>\n",
       "      <td>360x780</td>\n",
       "      <td>Chrome</td>\n",
       "      <td>Russia</td>\n",
       "      <td>Irkutsk</td>\n",
       "    </tr>\n",
       "    <tr>\n",
       "      <th>4</th>\n",
       "      <td>1000020580299877109.1624943350.1624943350</td>\n",
       "      <td>0</td>\n",
       "      <td>232835435.1624943349</td>\n",
       "      <td>2021-06-29</td>\n",
       "      <td>08:00:00</td>\n",
       "      <td>1</td>\n",
       "      <td>fDLlAcSmythWSCVMvqvL</td>\n",
       "      <td>(none)</td>\n",
       "      <td>LTuZkdKfxRGVceoWkVyg</td>\n",
       "      <td>JNHcPlZPxEMWDnRiyoBf</td>\n",
       "      <td>NaN</td>\n",
       "      <td>mobile</td>\n",
       "      <td>NaN</td>\n",
       "      <td>Apple</td>\n",
       "      <td>NaN</td>\n",
       "      <td>414x736</td>\n",
       "      <td>Safari</td>\n",
       "      <td>Russia</td>\n",
       "      <td>Moscow</td>\n",
       "    </tr>\n",
       "    <tr>\n",
       "      <th>...</th>\n",
       "      <td>...</td>\n",
       "      <td>...</td>\n",
       "      <td>...</td>\n",
       "      <td>...</td>\n",
       "      <td>...</td>\n",
       "      <td>...</td>\n",
       "      <td>...</td>\n",
       "      <td>...</td>\n",
       "      <td>...</td>\n",
       "      <td>...</td>\n",
       "      <td>...</td>\n",
       "      <td>...</td>\n",
       "      <td>...</td>\n",
       "      <td>...</td>\n",
       "      <td>...</td>\n",
       "      <td>...</td>\n",
       "      <td>...</td>\n",
       "      <td>...</td>\n",
       "      <td>...</td>\n",
       "    </tr>\n",
       "    <tr>\n",
       "      <th>1732261</th>\n",
       "      <td>999960188766601545.1626816843.1626816843</td>\n",
       "      <td>0</td>\n",
       "      <td>232821374.1626816841</td>\n",
       "      <td>2021-07-21</td>\n",
       "      <td>00:00:00</td>\n",
       "      <td>1</td>\n",
       "      <td>MvfHsxITijuriZxsqZqt</td>\n",
       "      <td>cpm</td>\n",
       "      <td>FTjNLDyTrXaWYgZymFkV</td>\n",
       "      <td>dUuXlWzvmhDSyclWRhNP</td>\n",
       "      <td>NaN</td>\n",
       "      <td>mobile</td>\n",
       "      <td>NaN</td>\n",
       "      <td>Huawei</td>\n",
       "      <td>NaN</td>\n",
       "      <td>360x780</td>\n",
       "      <td>Chrome</td>\n",
       "      <td>Russia</td>\n",
       "      <td>Moscow</td>\n",
       "    </tr>\n",
       "    <tr>\n",
       "      <th>1732262</th>\n",
       "      <td>99996598443387715.1626811203.1626811203</td>\n",
       "      <td>0</td>\n",
       "      <td>23282272.1626811203</td>\n",
       "      <td>2021-07-20</td>\n",
       "      <td>23:00:00</td>\n",
       "      <td>1</td>\n",
       "      <td>ZpYIoDJMcFzVoPFsHGJL</td>\n",
       "      <td>banner</td>\n",
       "      <td>LEoPHuyFvzoNfnzGgfcd</td>\n",
       "      <td>JNHcPlZPxEMWDnRiyoBf</td>\n",
       "      <td>NaN</td>\n",
       "      <td>mobile</td>\n",
       "      <td>NaN</td>\n",
       "      <td>Apple</td>\n",
       "      <td>NaN</td>\n",
       "      <td>375x667</td>\n",
       "      <td>Safari</td>\n",
       "      <td>Russia</td>\n",
       "      <td>Saint Petersburg</td>\n",
       "    </tr>\n",
       "    <tr>\n",
       "      <th>1732263</th>\n",
       "      <td>999966717128502952.1638428330.1638428330</td>\n",
       "      <td>0</td>\n",
       "      <td>232822894.1638428328</td>\n",
       "      <td>2021-12-02</td>\n",
       "      <td>09:58:50</td>\n",
       "      <td>1</td>\n",
       "      <td>ZpYIoDJMcFzVoPFsHGJL</td>\n",
       "      <td>banner</td>\n",
       "      <td>LEoPHuyFvzoNfnzGgfcd</td>\n",
       "      <td>vCIpmpaGBnIQhyYNkXqp</td>\n",
       "      <td>puhZPIYqKXeFPaUviSjo</td>\n",
       "      <td>mobile</td>\n",
       "      <td>Android</td>\n",
       "      <td>Xiaomi</td>\n",
       "      <td>NaN</td>\n",
       "      <td>393x873</td>\n",
       "      <td>Chrome</td>\n",
       "      <td>Russia</td>\n",
       "      <td>Nizhny Novgorod</td>\n",
       "    </tr>\n",
       "    <tr>\n",
       "      <th>1732264</th>\n",
       "      <td>999988617151873171.1623556243.1623556243</td>\n",
       "      <td>0</td>\n",
       "      <td>232827993.1623556243</td>\n",
       "      <td>2021-06-13</td>\n",
       "      <td>06:00:00</td>\n",
       "      <td>1</td>\n",
       "      <td>ZpYIoDJMcFzVoPFsHGJL</td>\n",
       "      <td>banner</td>\n",
       "      <td>LEoPHuyFvzoNfnzGgfcd</td>\n",
       "      <td>JNHcPlZPxEMWDnRiyoBf</td>\n",
       "      <td>NaN</td>\n",
       "      <td>mobile</td>\n",
       "      <td>NaN</td>\n",
       "      <td>Samsung</td>\n",
       "      <td>NaN</td>\n",
       "      <td>412x732</td>\n",
       "      <td>Samsung Internet</td>\n",
       "      <td>Russia</td>\n",
       "      <td>Chelyabinsk</td>\n",
       "    </tr>\n",
       "    <tr>\n",
       "      <th>1732265</th>\n",
       "      <td>999989480451054428.1634311006.1634311006</td>\n",
       "      <td>0</td>\n",
       "      <td>232828194.1634311004</td>\n",
       "      <td>2021-10-15</td>\n",
       "      <td>18:00:00</td>\n",
       "      <td>1</td>\n",
       "      <td>MvfHsxITijuriZxsqZqt</td>\n",
       "      <td>cpm</td>\n",
       "      <td>FTjNLDyTrXaWYgZymFkV</td>\n",
       "      <td>xhoenQgDQsgfEPYNPwKO</td>\n",
       "      <td>NaN</td>\n",
       "      <td>mobile</td>\n",
       "      <td>NaN</td>\n",
       "      <td>(not set)</td>\n",
       "      <td>NaN</td>\n",
       "      <td>458x732</td>\n",
       "      <td>YaBrowser</td>\n",
       "      <td>Russia</td>\n",
       "      <td>Zheleznodorozhny</td>\n",
       "    </tr>\n",
       "  </tbody>\n",
       "</table>\n",
       "<p>1732266 rows × 19 columns</p>\n",
       "</div>"
      ],
      "text/plain": [
       "                                        session_id  target  \\\n",
       "0        1000009318903347362.1632663668.1632663668       0   \n",
       "1        1000010177899156286.1635013443.1635013443       0   \n",
       "2        1000013386240115915.1635402956.1635402956       0   \n",
       "3        1000017303238376207.1623489300.1623489300       0   \n",
       "4        1000020580299877109.1624943350.1624943350       0   \n",
       "...                                            ...     ...   \n",
       "1732261   999960188766601545.1626816843.1626816843       0   \n",
       "1732262    99996598443387715.1626811203.1626811203       0   \n",
       "1732263   999966717128502952.1638428330.1638428330       0   \n",
       "1732264   999988617151873171.1623556243.1623556243       0   \n",
       "1732265   999989480451054428.1634311006.1634311006       0   \n",
       "\n",
       "                    client_id  visit_date visit_time  visit_number  \\\n",
       "0        232832813.1632663714  2021-09-26   16:00:00             1   \n",
       "1        232833013.1635013438  2021-10-23   21:24:03             1   \n",
       "2        232833760.1635402955  2021-10-28   09:35:56             1   \n",
       "3        232834672.1623489295  2021-06-12   12:00:00             1   \n",
       "4        232835435.1624943349  2021-06-29   08:00:00             1   \n",
       "...                       ...         ...        ...           ...   \n",
       "1732261  232821374.1626816841  2021-07-21   00:00:00             1   \n",
       "1732262   23282272.1626811203  2021-07-20   23:00:00             1   \n",
       "1732263  232822894.1638428328  2021-12-02   09:58:50             1   \n",
       "1732264  232827993.1623556243  2021-06-13   06:00:00             1   \n",
       "1732265  232828194.1634311004  2021-10-15   18:00:00             1   \n",
       "\n",
       "                   utm_source utm_medium          utm_campaign  \\\n",
       "0        MvfHsxITijuriZxsqZqt        cpm  FTjNLDyTrXaWYgZymFkV   \n",
       "1        fDLlAcSmythWSCVMvqvL     (none)  LTuZkdKfxRGVceoWkVyg   \n",
       "2        ZpYIoDJMcFzVoPFsHGJL     banner  gecBYcKZCPMcVYdSSzKP   \n",
       "3        ZpYIoDJMcFzVoPFsHGJL     banner  LEoPHuyFvzoNfnzGgfcd   \n",
       "4        fDLlAcSmythWSCVMvqvL     (none)  LTuZkdKfxRGVceoWkVyg   \n",
       "...                       ...        ...                   ...   \n",
       "1732261  MvfHsxITijuriZxsqZqt        cpm  FTjNLDyTrXaWYgZymFkV   \n",
       "1732262  ZpYIoDJMcFzVoPFsHGJL     banner  LEoPHuyFvzoNfnzGgfcd   \n",
       "1732263  ZpYIoDJMcFzVoPFsHGJL     banner  LEoPHuyFvzoNfnzGgfcd   \n",
       "1732264  ZpYIoDJMcFzVoPFsHGJL     banner  LEoPHuyFvzoNfnzGgfcd   \n",
       "1732265  MvfHsxITijuriZxsqZqt        cpm  FTjNLDyTrXaWYgZymFkV   \n",
       "\n",
       "                utm_adcontent           utm_keyword device_category device_os  \\\n",
       "0        PkybGvWbaqORmxjNunqZ                   NaN          mobile       NaN   \n",
       "1        JNHcPlZPxEMWDnRiyoBf  puhZPIYqKXeFPaUviSjo          mobile   Android   \n",
       "2        JNHcPlZPxEMWDnRiyoBf  puhZPIYqKXeFPaUviSjo          mobile   Android   \n",
       "3        JNHcPlZPxEMWDnRiyoBf                   NaN          mobile       NaN   \n",
       "4        JNHcPlZPxEMWDnRiyoBf                   NaN          mobile       NaN   \n",
       "...                       ...                   ...             ...       ...   \n",
       "1732261  dUuXlWzvmhDSyclWRhNP                   NaN          mobile       NaN   \n",
       "1732262  JNHcPlZPxEMWDnRiyoBf                   NaN          mobile       NaN   \n",
       "1732263  vCIpmpaGBnIQhyYNkXqp  puhZPIYqKXeFPaUviSjo          mobile   Android   \n",
       "1732264  JNHcPlZPxEMWDnRiyoBf                   NaN          mobile       NaN   \n",
       "1732265  xhoenQgDQsgfEPYNPwKO                   NaN          mobile       NaN   \n",
       "\n",
       "        device_brand device_model device_screen_resolution    device_browser  \\\n",
       "0            Samsung          NaN                  412x869            Chrome   \n",
       "1            Samsung          NaN                  360x640  Samsung Internet   \n",
       "2            Samsung          NaN                  412x846            Chrome   \n",
       "3             Realme          NaN                  360x780            Chrome   \n",
       "4              Apple          NaN                  414x736            Safari   \n",
       "...              ...          ...                      ...               ...   \n",
       "1732261       Huawei          NaN                  360x780            Chrome   \n",
       "1732262        Apple          NaN                  375x667            Safari   \n",
       "1732263       Xiaomi          NaN                  393x873            Chrome   \n",
       "1732264      Samsung          NaN                  412x732  Samsung Internet   \n",
       "1732265    (not set)          NaN                  458x732         YaBrowser   \n",
       "\n",
       "        geo_country          geo_city  \n",
       "0            Russia        Gelendzhik  \n",
       "1            Russia          Voronezh  \n",
       "2            Russia         Cherkessk  \n",
       "3            Russia           Irkutsk  \n",
       "4            Russia            Moscow  \n",
       "...             ...               ...  \n",
       "1732261      Russia            Moscow  \n",
       "1732262      Russia  Saint Petersburg  \n",
       "1732263      Russia   Nizhny Novgorod  \n",
       "1732264      Russia       Chelyabinsk  \n",
       "1732265      Russia  Zheleznodorozhny  \n",
       "\n",
       "[1732266 rows x 19 columns]"
      ]
     },
     "execution_count": 150,
     "metadata": {},
     "output_type": "execute_result"
    }
   ],
   "source": [
    "df_session_target"
   ]
  },
  {
   "cell_type": "code",
   "execution_count": 151,
   "metadata": {},
   "outputs": [
    {
     "data": {
      "text/plain": [
       "target\n",
       "0    97.10%\n",
       "1     2.90%\n",
       "Name: proportion, dtype: object"
      ]
     },
     "execution_count": 151,
     "metadata": {},
     "output_type": "execute_result"
    }
   ],
   "source": [
    "df_session_target[\"target\"].value_counts(dropna=False, normalize=True).apply(lambda x: f'{x:0.2%}')"
   ]
  },
  {
   "cell_type": "markdown",
   "metadata": {},
   "source": [
    "2.9% всех сессий закончилось совершением целевого действия"
   ]
  },
  {
   "cell_type": "code",
   "execution_count": 15,
   "metadata": {},
   "outputs": [
    {
     "name": "stdout",
     "output_type": "stream",
     "text": [
      "«Сборщик мусора: собрано» 40 objects.\n"
     ]
    }
   ],
   "source": [
    "collected = gc.collect()\n",
    "print(\"«Сборщик мусора: собрано»\",\n",
    "          \"%d objects.\" % collected)"
   ]
  },
  {
   "cell_type": "markdown",
   "metadata": {},
   "source": [
    "удалим не используемые датафреймы, чтобы не занимал много памяти"
   ]
  },
  {
   "cell_type": "code",
   "execution_count": 16,
   "metadata": {},
   "outputs": [
    {
     "name": "stdout",
     "output_type": "stream",
     "text": [
      "«Сборщик мусора: собрано» 0 objects.\n"
     ]
    }
   ],
   "source": [
    "del df_hits\n",
    "del df_session\n",
    "del target\n",
    "\n",
    "collected = gc.collect()\n",
    "print(\"«Сборщик мусора: собрано»\",\n",
    "          \"%d objects.\" % collected)"
   ]
  },
  {
   "cell_type": "code",
   "execution_count": 18,
   "metadata": {},
   "outputs": [],
   "source": [
    "# запишем в файл csv соединенный датасет\n",
    "df_session_target.to_csv('data/df_session_target.csv', index=False)\n",
    "# загрузим подготовленный df_session2\n",
    "df = pd.read_csv('data/df_session_target.csv', low_memory=False)"
   ]
  },
  {
   "cell_type": "code",
   "execution_count": 152,
   "metadata": {},
   "outputs": [
    {
     "data": {
      "text/html": [
       "<div>\n",
       "<style scoped>\n",
       "    .dataframe tbody tr th:only-of-type {\n",
       "        vertical-align: middle;\n",
       "    }\n",
       "\n",
       "    .dataframe tbody tr th {\n",
       "        vertical-align: top;\n",
       "    }\n",
       "\n",
       "    .dataframe thead th {\n",
       "        text-align: right;\n",
       "    }\n",
       "</style>\n",
       "<table border=\"1\" class=\"dataframe\">\n",
       "  <thead>\n",
       "    <tr style=\"text-align: right;\">\n",
       "      <th></th>\n",
       "      <th>session_id</th>\n",
       "      <th>target</th>\n",
       "      <th>client_id</th>\n",
       "      <th>visit_date</th>\n",
       "      <th>visit_time</th>\n",
       "      <th>visit_number</th>\n",
       "      <th>utm_source</th>\n",
       "      <th>utm_medium</th>\n",
       "      <th>utm_campaign</th>\n",
       "      <th>utm_adcontent</th>\n",
       "      <th>utm_keyword</th>\n",
       "      <th>device_category</th>\n",
       "      <th>device_os</th>\n",
       "      <th>device_brand</th>\n",
       "      <th>device_model</th>\n",
       "      <th>device_screen_resolution</th>\n",
       "      <th>device_browser</th>\n",
       "      <th>geo_country</th>\n",
       "      <th>geo_city</th>\n",
       "    </tr>\n",
       "  </thead>\n",
       "  <tbody>\n",
       "    <tr>\n",
       "      <th>0</th>\n",
       "      <td>1000009318903347362.1632663668.1632663668</td>\n",
       "      <td>0</td>\n",
       "      <td>232832813.1632663714</td>\n",
       "      <td>2021-09-26</td>\n",
       "      <td>16:00:00</td>\n",
       "      <td>1</td>\n",
       "      <td>MvfHsxITijuriZxsqZqt</td>\n",
       "      <td>cpm</td>\n",
       "      <td>FTjNLDyTrXaWYgZymFkV</td>\n",
       "      <td>PkybGvWbaqORmxjNunqZ</td>\n",
       "      <td>NaN</td>\n",
       "      <td>mobile</td>\n",
       "      <td>NaN</td>\n",
       "      <td>Samsung</td>\n",
       "      <td>NaN</td>\n",
       "      <td>412x869</td>\n",
       "      <td>Chrome</td>\n",
       "      <td>Russia</td>\n",
       "      <td>Gelendzhik</td>\n",
       "    </tr>\n",
       "    <tr>\n",
       "      <th>1</th>\n",
       "      <td>1000010177899156286.1635013443.1635013443</td>\n",
       "      <td>0</td>\n",
       "      <td>232833013.1635013438</td>\n",
       "      <td>2021-10-23</td>\n",
       "      <td>21:24:03</td>\n",
       "      <td>1</td>\n",
       "      <td>fDLlAcSmythWSCVMvqvL</td>\n",
       "      <td>(none)</td>\n",
       "      <td>LTuZkdKfxRGVceoWkVyg</td>\n",
       "      <td>JNHcPlZPxEMWDnRiyoBf</td>\n",
       "      <td>puhZPIYqKXeFPaUviSjo</td>\n",
       "      <td>mobile</td>\n",
       "      <td>Android</td>\n",
       "      <td>Samsung</td>\n",
       "      <td>NaN</td>\n",
       "      <td>360x640</td>\n",
       "      <td>Samsung Internet</td>\n",
       "      <td>Russia</td>\n",
       "      <td>Voronezh</td>\n",
       "    </tr>\n",
       "    <tr>\n",
       "      <th>2</th>\n",
       "      <td>1000013386240115915.1635402956.1635402956</td>\n",
       "      <td>0</td>\n",
       "      <td>232833760.1635402955</td>\n",
       "      <td>2021-10-28</td>\n",
       "      <td>09:35:56</td>\n",
       "      <td>1</td>\n",
       "      <td>ZpYIoDJMcFzVoPFsHGJL</td>\n",
       "      <td>banner</td>\n",
       "      <td>gecBYcKZCPMcVYdSSzKP</td>\n",
       "      <td>JNHcPlZPxEMWDnRiyoBf</td>\n",
       "      <td>puhZPIYqKXeFPaUviSjo</td>\n",
       "      <td>mobile</td>\n",
       "      <td>Android</td>\n",
       "      <td>Samsung</td>\n",
       "      <td>NaN</td>\n",
       "      <td>412x846</td>\n",
       "      <td>Chrome</td>\n",
       "      <td>Russia</td>\n",
       "      <td>Cherkessk</td>\n",
       "    </tr>\n",
       "    <tr>\n",
       "      <th>3</th>\n",
       "      <td>1000017303238376207.1623489300.1623489300</td>\n",
       "      <td>0</td>\n",
       "      <td>232834672.1623489295</td>\n",
       "      <td>2021-06-12</td>\n",
       "      <td>12:00:00</td>\n",
       "      <td>1</td>\n",
       "      <td>ZpYIoDJMcFzVoPFsHGJL</td>\n",
       "      <td>banner</td>\n",
       "      <td>LEoPHuyFvzoNfnzGgfcd</td>\n",
       "      <td>JNHcPlZPxEMWDnRiyoBf</td>\n",
       "      <td>NaN</td>\n",
       "      <td>mobile</td>\n",
       "      <td>NaN</td>\n",
       "      <td>Realme</td>\n",
       "      <td>NaN</td>\n",
       "      <td>360x780</td>\n",
       "      <td>Chrome</td>\n",
       "      <td>Russia</td>\n",
       "      <td>Irkutsk</td>\n",
       "    </tr>\n",
       "    <tr>\n",
       "      <th>4</th>\n",
       "      <td>1000020580299877109.1624943350.1624943350</td>\n",
       "      <td>0</td>\n",
       "      <td>232835435.1624943349</td>\n",
       "      <td>2021-06-29</td>\n",
       "      <td>08:00:00</td>\n",
       "      <td>1</td>\n",
       "      <td>fDLlAcSmythWSCVMvqvL</td>\n",
       "      <td>(none)</td>\n",
       "      <td>LTuZkdKfxRGVceoWkVyg</td>\n",
       "      <td>JNHcPlZPxEMWDnRiyoBf</td>\n",
       "      <td>NaN</td>\n",
       "      <td>mobile</td>\n",
       "      <td>NaN</td>\n",
       "      <td>Apple</td>\n",
       "      <td>NaN</td>\n",
       "      <td>414x736</td>\n",
       "      <td>Safari</td>\n",
       "      <td>Russia</td>\n",
       "      <td>Moscow</td>\n",
       "    </tr>\n",
       "    <tr>\n",
       "      <th>...</th>\n",
       "      <td>...</td>\n",
       "      <td>...</td>\n",
       "      <td>...</td>\n",
       "      <td>...</td>\n",
       "      <td>...</td>\n",
       "      <td>...</td>\n",
       "      <td>...</td>\n",
       "      <td>...</td>\n",
       "      <td>...</td>\n",
       "      <td>...</td>\n",
       "      <td>...</td>\n",
       "      <td>...</td>\n",
       "      <td>...</td>\n",
       "      <td>...</td>\n",
       "      <td>...</td>\n",
       "      <td>...</td>\n",
       "      <td>...</td>\n",
       "      <td>...</td>\n",
       "      <td>...</td>\n",
       "    </tr>\n",
       "    <tr>\n",
       "      <th>1732261</th>\n",
       "      <td>999960188766601545.1626816843.1626816843</td>\n",
       "      <td>0</td>\n",
       "      <td>232821374.1626816841</td>\n",
       "      <td>2021-07-21</td>\n",
       "      <td>00:00:00</td>\n",
       "      <td>1</td>\n",
       "      <td>MvfHsxITijuriZxsqZqt</td>\n",
       "      <td>cpm</td>\n",
       "      <td>FTjNLDyTrXaWYgZymFkV</td>\n",
       "      <td>dUuXlWzvmhDSyclWRhNP</td>\n",
       "      <td>NaN</td>\n",
       "      <td>mobile</td>\n",
       "      <td>NaN</td>\n",
       "      <td>Huawei</td>\n",
       "      <td>NaN</td>\n",
       "      <td>360x780</td>\n",
       "      <td>Chrome</td>\n",
       "      <td>Russia</td>\n",
       "      <td>Moscow</td>\n",
       "    </tr>\n",
       "    <tr>\n",
       "      <th>1732262</th>\n",
       "      <td>99996598443387715.1626811203.1626811203</td>\n",
       "      <td>0</td>\n",
       "      <td>23282272.1626811203</td>\n",
       "      <td>2021-07-20</td>\n",
       "      <td>23:00:00</td>\n",
       "      <td>1</td>\n",
       "      <td>ZpYIoDJMcFzVoPFsHGJL</td>\n",
       "      <td>banner</td>\n",
       "      <td>LEoPHuyFvzoNfnzGgfcd</td>\n",
       "      <td>JNHcPlZPxEMWDnRiyoBf</td>\n",
       "      <td>NaN</td>\n",
       "      <td>mobile</td>\n",
       "      <td>NaN</td>\n",
       "      <td>Apple</td>\n",
       "      <td>NaN</td>\n",
       "      <td>375x667</td>\n",
       "      <td>Safari</td>\n",
       "      <td>Russia</td>\n",
       "      <td>Saint Petersburg</td>\n",
       "    </tr>\n",
       "    <tr>\n",
       "      <th>1732263</th>\n",
       "      <td>999966717128502952.1638428330.1638428330</td>\n",
       "      <td>0</td>\n",
       "      <td>232822894.1638428328</td>\n",
       "      <td>2021-12-02</td>\n",
       "      <td>09:58:50</td>\n",
       "      <td>1</td>\n",
       "      <td>ZpYIoDJMcFzVoPFsHGJL</td>\n",
       "      <td>banner</td>\n",
       "      <td>LEoPHuyFvzoNfnzGgfcd</td>\n",
       "      <td>vCIpmpaGBnIQhyYNkXqp</td>\n",
       "      <td>puhZPIYqKXeFPaUviSjo</td>\n",
       "      <td>mobile</td>\n",
       "      <td>Android</td>\n",
       "      <td>Xiaomi</td>\n",
       "      <td>NaN</td>\n",
       "      <td>393x873</td>\n",
       "      <td>Chrome</td>\n",
       "      <td>Russia</td>\n",
       "      <td>Nizhny Novgorod</td>\n",
       "    </tr>\n",
       "    <tr>\n",
       "      <th>1732264</th>\n",
       "      <td>999988617151873171.1623556243.1623556243</td>\n",
       "      <td>0</td>\n",
       "      <td>232827993.1623556243</td>\n",
       "      <td>2021-06-13</td>\n",
       "      <td>06:00:00</td>\n",
       "      <td>1</td>\n",
       "      <td>ZpYIoDJMcFzVoPFsHGJL</td>\n",
       "      <td>banner</td>\n",
       "      <td>LEoPHuyFvzoNfnzGgfcd</td>\n",
       "      <td>JNHcPlZPxEMWDnRiyoBf</td>\n",
       "      <td>NaN</td>\n",
       "      <td>mobile</td>\n",
       "      <td>NaN</td>\n",
       "      <td>Samsung</td>\n",
       "      <td>NaN</td>\n",
       "      <td>412x732</td>\n",
       "      <td>Samsung Internet</td>\n",
       "      <td>Russia</td>\n",
       "      <td>Chelyabinsk</td>\n",
       "    </tr>\n",
       "    <tr>\n",
       "      <th>1732265</th>\n",
       "      <td>999989480451054428.1634311006.1634311006</td>\n",
       "      <td>0</td>\n",
       "      <td>232828194.1634311004</td>\n",
       "      <td>2021-10-15</td>\n",
       "      <td>18:00:00</td>\n",
       "      <td>1</td>\n",
       "      <td>MvfHsxITijuriZxsqZqt</td>\n",
       "      <td>cpm</td>\n",
       "      <td>FTjNLDyTrXaWYgZymFkV</td>\n",
       "      <td>xhoenQgDQsgfEPYNPwKO</td>\n",
       "      <td>NaN</td>\n",
       "      <td>mobile</td>\n",
       "      <td>NaN</td>\n",
       "      <td>(not set)</td>\n",
       "      <td>NaN</td>\n",
       "      <td>458x732</td>\n",
       "      <td>YaBrowser</td>\n",
       "      <td>Russia</td>\n",
       "      <td>Zheleznodorozhny</td>\n",
       "    </tr>\n",
       "  </tbody>\n",
       "</table>\n",
       "<p>1732266 rows × 19 columns</p>\n",
       "</div>"
      ],
      "text/plain": [
       "                                        session_id  target  \\\n",
       "0        1000009318903347362.1632663668.1632663668       0   \n",
       "1        1000010177899156286.1635013443.1635013443       0   \n",
       "2        1000013386240115915.1635402956.1635402956       0   \n",
       "3        1000017303238376207.1623489300.1623489300       0   \n",
       "4        1000020580299877109.1624943350.1624943350       0   \n",
       "...                                            ...     ...   \n",
       "1732261   999960188766601545.1626816843.1626816843       0   \n",
       "1732262    99996598443387715.1626811203.1626811203       0   \n",
       "1732263   999966717128502952.1638428330.1638428330       0   \n",
       "1732264   999988617151873171.1623556243.1623556243       0   \n",
       "1732265   999989480451054428.1634311006.1634311006       0   \n",
       "\n",
       "                    client_id  visit_date visit_time  visit_number  \\\n",
       "0        232832813.1632663714  2021-09-26   16:00:00             1   \n",
       "1        232833013.1635013438  2021-10-23   21:24:03             1   \n",
       "2        232833760.1635402955  2021-10-28   09:35:56             1   \n",
       "3        232834672.1623489295  2021-06-12   12:00:00             1   \n",
       "4        232835435.1624943349  2021-06-29   08:00:00             1   \n",
       "...                       ...         ...        ...           ...   \n",
       "1732261  232821374.1626816841  2021-07-21   00:00:00             1   \n",
       "1732262   23282272.1626811203  2021-07-20   23:00:00             1   \n",
       "1732263  232822894.1638428328  2021-12-02   09:58:50             1   \n",
       "1732264  232827993.1623556243  2021-06-13   06:00:00             1   \n",
       "1732265  232828194.1634311004  2021-10-15   18:00:00             1   \n",
       "\n",
       "                   utm_source utm_medium          utm_campaign  \\\n",
       "0        MvfHsxITijuriZxsqZqt        cpm  FTjNLDyTrXaWYgZymFkV   \n",
       "1        fDLlAcSmythWSCVMvqvL     (none)  LTuZkdKfxRGVceoWkVyg   \n",
       "2        ZpYIoDJMcFzVoPFsHGJL     banner  gecBYcKZCPMcVYdSSzKP   \n",
       "3        ZpYIoDJMcFzVoPFsHGJL     banner  LEoPHuyFvzoNfnzGgfcd   \n",
       "4        fDLlAcSmythWSCVMvqvL     (none)  LTuZkdKfxRGVceoWkVyg   \n",
       "...                       ...        ...                   ...   \n",
       "1732261  MvfHsxITijuriZxsqZqt        cpm  FTjNLDyTrXaWYgZymFkV   \n",
       "1732262  ZpYIoDJMcFzVoPFsHGJL     banner  LEoPHuyFvzoNfnzGgfcd   \n",
       "1732263  ZpYIoDJMcFzVoPFsHGJL     banner  LEoPHuyFvzoNfnzGgfcd   \n",
       "1732264  ZpYIoDJMcFzVoPFsHGJL     banner  LEoPHuyFvzoNfnzGgfcd   \n",
       "1732265  MvfHsxITijuriZxsqZqt        cpm  FTjNLDyTrXaWYgZymFkV   \n",
       "\n",
       "                utm_adcontent           utm_keyword device_category device_os  \\\n",
       "0        PkybGvWbaqORmxjNunqZ                   NaN          mobile       NaN   \n",
       "1        JNHcPlZPxEMWDnRiyoBf  puhZPIYqKXeFPaUviSjo          mobile   Android   \n",
       "2        JNHcPlZPxEMWDnRiyoBf  puhZPIYqKXeFPaUviSjo          mobile   Android   \n",
       "3        JNHcPlZPxEMWDnRiyoBf                   NaN          mobile       NaN   \n",
       "4        JNHcPlZPxEMWDnRiyoBf                   NaN          mobile       NaN   \n",
       "...                       ...                   ...             ...       ...   \n",
       "1732261  dUuXlWzvmhDSyclWRhNP                   NaN          mobile       NaN   \n",
       "1732262  JNHcPlZPxEMWDnRiyoBf                   NaN          mobile       NaN   \n",
       "1732263  vCIpmpaGBnIQhyYNkXqp  puhZPIYqKXeFPaUviSjo          mobile   Android   \n",
       "1732264  JNHcPlZPxEMWDnRiyoBf                   NaN          mobile       NaN   \n",
       "1732265  xhoenQgDQsgfEPYNPwKO                   NaN          mobile       NaN   \n",
       "\n",
       "        device_brand device_model device_screen_resolution    device_browser  \\\n",
       "0            Samsung          NaN                  412x869            Chrome   \n",
       "1            Samsung          NaN                  360x640  Samsung Internet   \n",
       "2            Samsung          NaN                  412x846            Chrome   \n",
       "3             Realme          NaN                  360x780            Chrome   \n",
       "4              Apple          NaN                  414x736            Safari   \n",
       "...              ...          ...                      ...               ...   \n",
       "1732261       Huawei          NaN                  360x780            Chrome   \n",
       "1732262        Apple          NaN                  375x667            Safari   \n",
       "1732263       Xiaomi          NaN                  393x873            Chrome   \n",
       "1732264      Samsung          NaN                  412x732  Samsung Internet   \n",
       "1732265    (not set)          NaN                  458x732         YaBrowser   \n",
       "\n",
       "        geo_country          geo_city  \n",
       "0            Russia        Gelendzhik  \n",
       "1            Russia          Voronezh  \n",
       "2            Russia         Cherkessk  \n",
       "3            Russia           Irkutsk  \n",
       "4            Russia            Moscow  \n",
       "...             ...               ...  \n",
       "1732261      Russia            Moscow  \n",
       "1732262      Russia  Saint Petersburg  \n",
       "1732263      Russia   Nizhny Novgorod  \n",
       "1732264      Russia       Chelyabinsk  \n",
       "1732265      Russia  Zheleznodorozhny  \n",
       "\n",
       "[1732266 rows x 19 columns]"
      ]
     },
     "execution_count": 152,
     "metadata": {},
     "output_type": "execute_result"
    }
   ],
   "source": [
    "df_session_target"
   ]
  },
  {
   "cell_type": "markdown",
   "metadata": {},
   "source": [
    "посмотрим на состав df_session_target и типы признаков и заметим, что почти все признаки категориальные"
   ]
  },
  {
   "cell_type": "code",
   "execution_count": 153,
   "metadata": {},
   "outputs": [
    {
     "name": "stdout",
     "output_type": "stream",
     "text": [
      "<class 'pandas.core.frame.DataFrame'>\n",
      "RangeIndex: 1732266 entries, 0 to 1732265\n",
      "Data columns (total 19 columns):\n",
      " #   Column                    Non-Null Count    Dtype \n",
      "---  ------                    --------------    ----- \n",
      " 0   session_id                1732266 non-null  object\n",
      " 1   target                    1732266 non-null  int64 \n",
      " 2   client_id                 1732266 non-null  object\n",
      " 3   visit_date                1732266 non-null  object\n",
      " 4   visit_time                1732266 non-null  object\n",
      " 5   visit_number              1732266 non-null  int64 \n",
      " 6   utm_source                1732190 non-null  object\n",
      " 7   utm_medium                1732266 non-null  object\n",
      " 8   utm_campaign              1536979 non-null  object\n",
      " 9   utm_adcontent             1428129 non-null  object\n",
      " 10  utm_keyword               711514 non-null   object\n",
      " 11  device_category           1732266 non-null  object\n",
      " 12  device_os                 718302 non-null   object\n",
      " 13  device_brand              1385070 non-null  object\n",
      " 14  device_model              15062 non-null    object\n",
      " 15  device_screen_resolution  1732266 non-null  object\n",
      " 16  device_browser            1732266 non-null  object\n",
      " 17  geo_country               1732266 non-null  object\n",
      " 18  geo_city                  1732266 non-null  object\n",
      "dtypes: int64(2), object(17)\n",
      "memory usage: 251.1+ MB\n"
     ]
    }
   ],
   "source": [
    "df_session_target.info(show_counts=True)"
   ]
  },
  {
   "cell_type": "markdown",
   "metadata": {},
   "source": [
    "проверяем на пустые значения"
   ]
  },
  {
   "cell_type": "code",
   "execution_count": 154,
   "metadata": {},
   "outputs": [
    {
     "data": {
      "text/plain": [
       "session_id                  0\n",
       "target                      0\n",
       "client_id                   0\n",
       "visit_date                  0\n",
       "visit_time                  0\n",
       "visit_number                0\n",
       "utm_source                  0\n",
       "utm_medium                  0\n",
       "utm_campaign                0\n",
       "utm_adcontent               0\n",
       "utm_keyword                 0\n",
       "device_category             0\n",
       "device_os                   0\n",
       "device_brand                0\n",
       "device_model                0\n",
       "device_screen_resolution    0\n",
       "device_browser              0\n",
       "geo_country                 0\n",
       "geo_city                    0\n",
       "dtype: int64"
      ]
     },
     "execution_count": 154,
     "metadata": {},
     "output_type": "execute_result"
    }
   ],
   "source": [
    "df_session_target.eq('').sum()"
   ]
  },
  {
   "cell_type": "markdown",
   "metadata": {},
   "source": [
    "Колличество пропущенных значений по колонкам"
   ]
  },
  {
   "cell_type": "code",
   "execution_count": 155,
   "metadata": {},
   "outputs": [
    {
     "data": {
      "text/plain": [
       "device_model                1717204\n",
       "utm_keyword                 1020752\n",
       "device_os                   1013964\n",
       "device_brand                 347196\n",
       "utm_adcontent                304137\n",
       "utm_campaign                 195287\n",
       "utm_source                       76\n",
       "device_category                   0\n",
       "geo_country                       0\n",
       "device_browser                    0\n",
       "device_screen_resolution          0\n",
       "session_id                        0\n",
       "target                            0\n",
       "utm_medium                        0\n",
       "visit_number                      0\n",
       "visit_time                        0\n",
       "visit_date                        0\n",
       "client_id                         0\n",
       "geo_city                          0\n",
       "dtype: int64"
      ]
     },
     "execution_count": 155,
     "metadata": {},
     "output_type": "execute_result"
    }
   ],
   "source": [
    "df_session_target.isna().sum().sort_values(ascending=False)"
   ]
  },
  {
   "cell_type": "markdown",
   "metadata": {},
   "source": [
    "Процент пропущенных значений по колонкам"
   ]
  },
  {
   "cell_type": "code",
   "execution_count": 156,
   "metadata": {},
   "outputs": [
    {
     "name": "stdout",
     "output_type": "stream",
     "text": [
      "Процент пропущенных значений:\n"
     ]
    },
    {
     "data": {
      "text/plain": [
       "device_model                99.13%\n",
       "utm_keyword                 58.93%\n",
       "device_os                   58.53%\n",
       "device_brand                20.04%\n",
       "utm_adcontent               17.56%\n",
       "utm_campaign                11.27%\n",
       "utm_source                   0.00%\n",
       "device_category              0.00%\n",
       "geo_country                  0.00%\n",
       "device_browser               0.00%\n",
       "device_screen_resolution     0.00%\n",
       "session_id                   0.00%\n",
       "target                       0.00%\n",
       "utm_medium                   0.00%\n",
       "visit_number                 0.00%\n",
       "visit_time                   0.00%\n",
       "visit_date                   0.00%\n",
       "client_id                    0.00%\n",
       "geo_city                     0.00%\n",
       "dtype: object"
      ]
     },
     "execution_count": 156,
     "metadata": {},
     "output_type": "execute_result"
    }
   ],
   "source": [
    "print('Процент пропущенных значений:')\n",
    "(df_session_target.isna().sum() / len(df_session_target)).sort_values(ascending=False).apply(lambda x: f'{x:0.2%}')"
   ]
  },
  {
   "cell_type": "markdown",
   "metadata": {},
   "source": [
    "проверим на дубликаты"
   ]
  },
  {
   "cell_type": "code",
   "execution_count": 160,
   "metadata": {},
   "outputs": [
    {
     "name": "stdout",
     "output_type": "stream",
     "text": [
      "Колличество дубликатов 0\n"
     ]
    }
   ],
   "source": [
    "print('Колличество дубликатов', df_session_target.duplicated().sum())"
   ]
  },
  {
   "cell_type": "markdown",
   "metadata": {},
   "source": [
    "Удалим неинформативные колонки в которых процент пропусков слишком велик и посмотрим на распределение"
   ]
  },
  {
   "cell_type": "code",
   "execution_count": 161,
   "metadata": {},
   "outputs": [
    {
     "data": {
      "text/plain": [
       "device_os                   1013964\n",
       "device_brand                 347196\n",
       "utm_adcontent                304137\n",
       "utm_campaign                 195287\n",
       "utm_source                       76\n",
       "session_id                        0\n",
       "target                            0\n",
       "visit_date                        0\n",
       "visit_time                        0\n",
       "visit_number                      0\n",
       "utm_medium                        0\n",
       "device_category                   0\n",
       "device_screen_resolution          0\n",
       "device_browser                    0\n",
       "geo_country                       0\n",
       "geo_city                          0\n",
       "dtype: int64"
      ]
     },
     "execution_count": 161,
     "metadata": {},
     "output_type": "execute_result"
    }
   ],
   "source": [
    "df1 = df_session_target.drop(columns=['device_model', 'utm_keyword', 'client_id'], axis=1)\n",
    "df1.isna().sum().sort_values(ascending=False)"
   ]
  },
  {
   "cell_type": "markdown",
   "metadata": {},
   "source": [
    "Заменим пропущенные значения на '(not set)', т.к. это значения встречается в других колонках и оно не определено"
   ]
  },
  {
   "cell_type": "code",
   "execution_count": 65,
   "metadata": {},
   "outputs": [],
   "source": [
    "# посмотрим сколько неопределенных значений во всех колонках, исходя из значений списка missing_values\n",
    "def omissions(df):\n",
    "    missing_values = ['(not set)']\n",
    "    list_feat = []\n",
    "    for feat in df:\n",
    "        list_feat.append([feat, (df[df[feat].isin(missing_values) == True].shape[0])])\n",
    "    df_omissions = pd.DataFrame(list_feat, columns=['feat', 'omission'])\n",
    "    return df_omissions[(df_omissions['omission'] != 0)].sort_values('omission', ascending=False, ignore_index=True)"
   ]
  },
  {
   "cell_type": "code",
   "execution_count": 66,
   "metadata": {},
   "outputs": [
    {
     "data": {
      "text/html": [
       "<div>\n",
       "<style scoped>\n",
       "    .dataframe tbody tr th:only-of-type {\n",
       "        vertical-align: middle;\n",
       "    }\n",
       "\n",
       "    .dataframe tbody tr th {\n",
       "        vertical-align: top;\n",
       "    }\n",
       "\n",
       "    .dataframe thead th {\n",
       "        text-align: right;\n",
       "    }\n",
       "</style>\n",
       "<table border=\"1\" class=\"dataframe\">\n",
       "  <thead>\n",
       "    <tr style=\"text-align: right;\">\n",
       "      <th></th>\n",
       "      <th>feat</th>\n",
       "      <th>omission</th>\n",
       "    </tr>\n",
       "  </thead>\n",
       "  <tbody>\n",
       "    <tr>\n",
       "      <th>0</th>\n",
       "      <td>geo_city</td>\n",
       "      <td>73297</td>\n",
       "    </tr>\n",
       "    <tr>\n",
       "      <th>1</th>\n",
       "      <td>device_brand</td>\n",
       "      <td>16392</td>\n",
       "    </tr>\n",
       "    <tr>\n",
       "      <th>2</th>\n",
       "      <td>geo_country</td>\n",
       "      <td>1071</td>\n",
       "    </tr>\n",
       "    <tr>\n",
       "      <th>3</th>\n",
       "      <td>utm_medium</td>\n",
       "      <td>405</td>\n",
       "    </tr>\n",
       "    <tr>\n",
       "      <th>4</th>\n",
       "      <td>device_os</td>\n",
       "      <td>309</td>\n",
       "    </tr>\n",
       "    <tr>\n",
       "      <th>5</th>\n",
       "      <td>device_browser</td>\n",
       "      <td>11</td>\n",
       "    </tr>\n",
       "  </tbody>\n",
       "</table>\n",
       "</div>"
      ],
      "text/plain": [
       "             feat  omission\n",
       "0        geo_city     73297\n",
       "1    device_brand     16392\n",
       "2     geo_country      1071\n",
       "3      utm_medium       405\n",
       "4       device_os       309\n",
       "5  device_browser        11"
      ]
     },
     "execution_count": 66,
     "metadata": {},
     "output_type": "execute_result"
    }
   ],
   "source": [
    "omissions(df1)"
   ]
  },
  {
   "cell_type": "code",
   "execution_count": 67,
   "metadata": {},
   "outputs": [
    {
     "data": {
      "text/plain": [
       "session_id                  0\n",
       "target                      0\n",
       "visit_date                  0\n",
       "visit_time                  0\n",
       "visit_number                0\n",
       "utm_source                  0\n",
       "utm_medium                  0\n",
       "utm_campaign                0\n",
       "utm_adcontent               0\n",
       "device_category             0\n",
       "device_os                   0\n",
       "device_brand                0\n",
       "device_screen_resolution    0\n",
       "device_browser              0\n",
       "geo_country                 0\n",
       "geo_city                    0\n",
       "dtype: int64"
      ]
     },
     "execution_count": 67,
     "metadata": {},
     "output_type": "execute_result"
    }
   ],
   "source": [
    "df2 = df1.fillna('(not set)')\n",
    "df2.isna().sum().sort_values(ascending=False)"
   ]
  },
  {
   "cell_type": "code",
   "execution_count": 72,
   "metadata": {},
   "outputs": [
    {
     "name": "stdout",
     "output_type": "stream",
     "text": [
      "«Сборщик мусора: собрано» 8975 objects.\n"
     ]
    }
   ],
   "source": [
    "collected = gc.collect()\n",
    "print(\"«Сборщик мусора: собрано»\",\n",
    "          \"%d objects.\" % collected)"
   ]
  },
  {
   "cell_type": "code",
   "execution_count": 73,
   "metadata": {},
   "outputs": [
    {
     "name": "stdout",
     "output_type": "stream",
     "text": [
      "«Сборщик мусора: собрано» 33 objects.\n"
     ]
    }
   ],
   "source": [
    "del df_session_target\n",
    "del df1\n",
    "\n",
    "collected = gc.collect()\n",
    "print(\"«Сборщик мусора: собрано»\",\n",
    "          \"%d objects.\" % collected)"
   ]
  },
  {
   "cell_type": "markdown",
   "metadata": {},
   "source": [
    "## *Feature engineering*"
   ]
  },
  {
   "cell_type": "markdown",
   "metadata": {},
   "source": [
    "### Cоздание новых признаков на основе информации в датафрейме"
   ]
  },
  {
   "cell_type": "markdown",
   "metadata": {},
   "source": [
    "переведем visit_time в нужный формат и создим новые признаки времени"
   ]
  },
  {
   "cell_type": "code",
   "execution_count": 74,
   "metadata": {},
   "outputs": [],
   "source": [
    "# переведев в нужный формат\n",
    "df2['visit_time'] = pd.to_datetime(df2['visit_time'], format='%H:%M:%S')"
   ]
  },
  {
   "cell_type": "code",
   "execution_count": 75,
   "metadata": {},
   "outputs": [],
   "source": [
    "# час визита\n",
    "df2['visit_hour'] = df2['visit_time'].dt.hour"
   ]
  },
  {
   "cell_type": "markdown",
   "metadata": {},
   "source": [
    "будем считать \"день\" если посщение было в промежутке с 8 до 21 часов, \"ночь\" остальной промежуток времени суток"
   ]
  },
  {
   "cell_type": "code",
   "execution_count": 76,
   "metadata": {},
   "outputs": [],
   "source": [
    "# день или ночь визита\n",
    "df2['visit_day_night'] = df2['visit_time'].dt.hour.apply(lambda x: 'day' if x > 8 and x < 21 else 'night')"
   ]
  },
  {
   "cell_type": "markdown",
   "metadata": {},
   "source": [
    "переведем visit_date в нужный формат и создим новые признаки даты"
   ]
  },
  {
   "cell_type": "code",
   "execution_count": 86,
   "metadata": {},
   "outputs": [],
   "source": [
    "# переведем колонку visit_date в datetime64\n",
    "df2['visit_date'] = pd.to_datetime(df2['visit_date'])"
   ]
  },
  {
   "cell_type": "code",
   "execution_count": 87,
   "metadata": {},
   "outputs": [],
   "source": [
    "# создадим новый признак день недели визита\n",
    "df2['dayofweek'] = df2['visit_date'].dt.weekday"
   ]
  },
  {
   "cell_type": "code",
   "execution_count": 88,
   "metadata": {},
   "outputs": [],
   "source": [
    "# создадим новый признак день визита\n",
    "df2['visit_day'] = df2['visit_date'].dt.day"
   ]
  },
  {
   "cell_type": "code",
   "execution_count": 94,
   "metadata": {},
   "outputs": [],
   "source": [
    "# создадим новый признак месяц визита\n",
    "df2['visit_month'] = df2['visit_date'].dt.month"
   ]
  },
  {
   "cell_type": "markdown",
   "metadata": {},
   "source": [
    "Согласно указаниям к работе источниками рекламмы в соцсетях из 'utm_source' являются:\n",
    " \n",
    "'QxAxdyPLuQMEcrdZWdWb', 'MvfHsxITijuriZxsqZqt', 'ISrKoXQCxqqYvAZICvjs', 'IZEXUFLARCUMynmHNBGo', 'PlbkrSYoHuZBWfYjYnfw', 'gVRrcxiDQubJiljoTbGm'"
   ]
  },
  {
   "cell_type": "code",
   "execution_count": 93,
   "metadata": {},
   "outputs": [],
   "source": [
    "# создадим переменную\n",
    "social_media_source = ['QxAxdyPLuQMEcrdZWdWb', 'MvfHsxITijuriZxsqZqt',\n",
    "                        'ISrKoXQCxqqYvAZICvjs', 'IZEXUFLARCUMynmHNBGo',\n",
    "                        'PlbkrSYoHuZBWfYjYnfw', 'gVRrcxiDQubJiljoTbGm']"
   ]
  },
  {
   "cell_type": "markdown",
   "metadata": {},
   "source": [
    "создадим новый признак источники рекламмы в соцсетях или нет из 'utm_source'"
   ]
  },
  {
   "cell_type": "code",
   "execution_count": 90,
   "metadata": {},
   "outputs": [],
   "source": [
    "# создадим новый признак источники рекламмы в соцсетях или нет из 'utm_source'\n",
    "df2['social_media_source'] = df2['utm_source'].apply(lambda x: 'social' if x in social_media_source else 'no_social')"
   ]
  },
  {
   "cell_type": "markdown",
   "metadata": {},
   "source": [
    "Согласно указаниям к работе источниками рекламмы в соцсетях из 'utm_medium' являются: 'organic', 'referral', '(none)'"
   ]
  },
  {
   "cell_type": "code",
   "execution_count": 91,
   "metadata": {},
   "outputs": [],
   "source": [
    "# создадим переменную\n",
    "organic_traf_medium = ['organic', 'referral', '(none)']"
   ]
  },
  {
   "cell_type": "markdown",
   "metadata": {},
   "source": [
    "создадим новый признак органический-не органический трафик по колонке utm_medium"
   ]
  },
  {
   "cell_type": "code",
   "execution_count": 92,
   "metadata": {},
   "outputs": [],
   "source": [
    "# создадим новый признак органический-не органический трафик по колонке utm_medium\n",
    "df2['traf_medium'] = df2['utm_medium'].apply(lambda x: 'organic' if x in organic_traf_medium else 'no_organic')"
   ]
  },
  {
   "cell_type": "markdown",
   "metadata": {},
   "source": [
    "создадим признак площадь экрана"
   ]
  },
  {
   "cell_type": "code",
   "execution_count": 95,
   "metadata": {},
   "outputs": [],
   "source": [
    "df2['device_screen_area'] = df2['device_screen_resolution'].apply(lambda x: int(x.split('x')[0]) * int(x.split('x')[1]))"
   ]
  },
  {
   "cell_type": "markdown",
   "metadata": {},
   "source": [
    "Создание гео признаков"
   ]
  },
  {
   "cell_type": "code",
   "execution_count": 96,
   "metadata": {},
   "outputs": [],
   "source": [
    "# заменим Russia на Rusha, чтобы в дальнейшем если нет координат у города найти координаты страны, а Russia определяеся как город в США\n",
    "df2.loc[:, 'geo_country'] = df2['geo_country'].replace('Russia', 'Rusha')"
   ]
  },
  {
   "cell_type": "markdown",
   "metadata": {},
   "source": [
    "создадим новый признак Россия или нет"
   ]
  },
  {
   "cell_type": "code",
   "execution_count": 98,
   "metadata": {},
   "outputs": [],
   "source": [
    "# создадим новый признак Россия или нет\n",
    "df2['country'] = df2['geo_country'].apply(lambda x: 1.0 if x == 'Rusha' else 0.0)"
   ]
  },
  {
   "cell_type": "markdown",
   "metadata": {},
   "source": [
    "заменим города с (not set) на страну, чтобы в дальнейшем если город пропущен или координаты не определены, определять координаты страны"
   ]
  },
  {
   "cell_type": "code",
   "execution_count": 100,
   "metadata": {},
   "outputs": [],
   "source": [
    "# заменим города с (not set) на страну\n",
    "df2['geo_city'] = df2.apply(lambda x: (x['geo_country'] if x['geo_city'] == '(not set)' else x['geo_city']), axis=1)"
   ]
  },
  {
   "cell_type": "markdown",
   "metadata": {},
   "source": [
    "создадим словарь городов `city_lat_long` с указанием широты и долготы при помощи `Nominatim`, всего получается 2506 уникальных значений"
   ]
  },
  {
   "cell_type": "code",
   "execution_count": 108,
   "metadata": {},
   "outputs": [
    {
     "name": "stdout",
     "output_type": "stream",
     "text": [
      "2506\n"
     ]
    }
   ],
   "source": [
    "# список городов\n",
    "list_city = df2['geo_city'].unique().tolist()\n",
    "print(len(list_city))"
   ]
  },
  {
   "cell_type": "code",
   "execution_count": null,
   "metadata": {},
   "outputs": [],
   "source": [
    "geocoder = RateLimiter(Nominatim(user_agent='tutorial').geocode, min_delay_seconds=1)\n",
    "city_lat_long = dict(zip((x for x in list_city), (geocoder('Moscow')[1] if geocoder(x)==None else geocoder(x)[1] for x in list_city)))"
   ]
  },
  {
   "cell_type": "code",
   "execution_count": null,
   "metadata": {},
   "outputs": [],
   "source": [
    "# запишем в словарь\n",
    "with open(('data/city_lat_long.json'), 'w') as fp:\n",
    "    json.dump(city_lat_long, fp)"
   ]
  },
  {
   "cell_type": "code",
   "execution_count": 109,
   "metadata": {},
   "outputs": [],
   "source": [
    "# загрузим словарь с городами и их координатами из data (ранее был создан с использованием geocode)\n",
    "with open(('data/city_lat_long.json'), 'r') as file:\n",
    "    city_lat_long = json.load(file)"
   ]
  },
  {
   "cell_type": "markdown",
   "metadata": {},
   "source": [
    "создадим новый признак широту города"
   ]
  },
  {
   "cell_type": "code",
   "execution_count": 110,
   "metadata": {},
   "outputs": [],
   "source": [
    "# создадим новый признак широту города\n",
    "df2.loc[:, 'lat_city'] = df2['geo_city'].apply(lambda x: city_lat_long[x][0] if x != '(not set)' else city_lat_long['Moscow'][0])"
   ]
  },
  {
   "cell_type": "markdown",
   "metadata": {},
   "source": [
    "создадим новый признак долготу города"
   ]
  },
  {
   "cell_type": "code",
   "execution_count": 111,
   "metadata": {},
   "outputs": [],
   "source": [
    "# создадим новый признак широту города\n",
    "df2.loc[:, 'long_city'] = df2['geo_city'].apply(lambda x: city_lat_long[x][1] if x != '(not set)' else city_lat_long['Moscow'][1])"
   ]
  },
  {
   "cell_type": "markdown",
   "metadata": {},
   "source": [
    "создадим словарь `distance_to_Moscow` с указанием расстояния до Москвы при помощи `distance`, сервис находится в Москве"
   ]
  },
  {
   "cell_type": "code",
   "execution_count": null,
   "metadata": {},
   "outputs": [],
   "source": [
    "distance_to_Moscow = dict(zip(city_lat_long.keys(), (distance.distance(city_lat_long['Moscow'], city_lat_long[x]).km for x in city_lat_long.keys())))"
   ]
  },
  {
   "cell_type": "code",
   "execution_count": null,
   "metadata": {},
   "outputs": [],
   "source": [
    "# запишем в словарь\n",
    "with open(('data/distance_to_Moscow.json'), 'w') as fp:\n",
    "    json.dump(distance_to_Moscow, fp)"
   ]
  },
  {
   "cell_type": "code",
   "execution_count": 116,
   "metadata": {},
   "outputs": [],
   "source": [
    "# загрузим словарь расстояний от Москвы до города\n",
    "with open(('data/distance_to_Moscow.json'), 'r') as file:\n",
    "    dist_to_Moscow = json.load(file)"
   ]
  },
  {
   "cell_type": "markdown",
   "metadata": {},
   "source": [
    "создадим новый признак расстояние от города до Москвы"
   ]
  },
  {
   "cell_type": "code",
   "execution_count": 118,
   "metadata": {},
   "outputs": [],
   "source": [
    "# создадим новый признак расстояние от города до Москвы\n",
    "df2.loc[:, 'dist_to_Moscow'] = df2['geo_city'].apply(lambda x: dist_to_Moscow[x] if x != '(not set)' else 0.0)"
   ]
  },
  {
   "cell_type": "markdown",
   "metadata": {},
   "source": [
    "Удалим не нужные колонки и посмотрим на датасет"
   ]
  },
  {
   "cell_type": "code",
   "execution_count": 124,
   "metadata": {},
   "outputs": [],
   "source": [
    "# Удаляем ненужные/лишние колонки \n",
    "columns_to_drop = [\n",
    "    'session_id',\n",
    "    'geo_city',\n",
    "    'geo_country',\n",
    "    'device_screen_resolution',\n",
    "    'utm_medium',\n",
    "    'utm_source',\n",
    "    'visit_time',\n",
    "    'visit_date'\n",
    "]"
   ]
  },
  {
   "cell_type": "code",
   "execution_count": 125,
   "metadata": {},
   "outputs": [
    {
     "data": {
      "text/html": [
       "<div>\n",
       "<style scoped>\n",
       "    .dataframe tbody tr th:only-of-type {\n",
       "        vertical-align: middle;\n",
       "    }\n",
       "\n",
       "    .dataframe tbody tr th {\n",
       "        vertical-align: top;\n",
       "    }\n",
       "\n",
       "    .dataframe thead th {\n",
       "        text-align: right;\n",
       "    }\n",
       "</style>\n",
       "<table border=\"1\" class=\"dataframe\">\n",
       "  <thead>\n",
       "    <tr style=\"text-align: right;\">\n",
       "      <th></th>\n",
       "      <th>target</th>\n",
       "      <th>visit_number</th>\n",
       "      <th>utm_campaign</th>\n",
       "      <th>utm_adcontent</th>\n",
       "      <th>device_category</th>\n",
       "      <th>device_os</th>\n",
       "      <th>device_brand</th>\n",
       "      <th>device_browser</th>\n",
       "      <th>visit_hour</th>\n",
       "      <th>visit_day_night</th>\n",
       "      <th>dayofweek</th>\n",
       "      <th>social_media_source</th>\n",
       "      <th>traf_medium</th>\n",
       "      <th>visit_day</th>\n",
       "      <th>visit_month</th>\n",
       "      <th>device_screen_area</th>\n",
       "      <th>country</th>\n",
       "      <th>lat_city</th>\n",
       "      <th>long_city</th>\n",
       "      <th>dist_to_Moscow</th>\n",
       "    </tr>\n",
       "  </thead>\n",
       "  <tbody>\n",
       "    <tr>\n",
       "      <th>0</th>\n",
       "      <td>0</td>\n",
       "      <td>1</td>\n",
       "      <td>FTjNLDyTrXaWYgZymFkV</td>\n",
       "      <td>PkybGvWbaqORmxjNunqZ</td>\n",
       "      <td>mobile</td>\n",
       "      <td>(not set)</td>\n",
       "      <td>Samsung</td>\n",
       "      <td>Chrome</td>\n",
       "      <td>16</td>\n",
       "      <td>day</td>\n",
       "      <td>6</td>\n",
       "      <td>social</td>\n",
       "      <td>no_organic</td>\n",
       "      <td>26</td>\n",
       "      <td>9</td>\n",
       "      <td>358028</td>\n",
       "      <td>1.0</td>\n",
       "      <td>44.560945</td>\n",
       "      <td>38.076683</td>\n",
       "      <td>1231.174609</td>\n",
       "    </tr>\n",
       "    <tr>\n",
       "      <th>1</th>\n",
       "      <td>0</td>\n",
       "      <td>1</td>\n",
       "      <td>LTuZkdKfxRGVceoWkVyg</td>\n",
       "      <td>JNHcPlZPxEMWDnRiyoBf</td>\n",
       "      <td>mobile</td>\n",
       "      <td>Android</td>\n",
       "      <td>Samsung</td>\n",
       "      <td>Samsung Internet</td>\n",
       "      <td>21</td>\n",
       "      <td>night</td>\n",
       "      <td>5</td>\n",
       "      <td>no_social</td>\n",
       "      <td>organic</td>\n",
       "      <td>23</td>\n",
       "      <td>10</td>\n",
       "      <td>230400</td>\n",
       "      <td>1.0</td>\n",
       "      <td>51.679931</td>\n",
       "      <td>39.183756</td>\n",
       "      <td>451.327574</td>\n",
       "    </tr>\n",
       "    <tr>\n",
       "      <th>2</th>\n",
       "      <td>0</td>\n",
       "      <td>1</td>\n",
       "      <td>gecBYcKZCPMcVYdSSzKP</td>\n",
       "      <td>JNHcPlZPxEMWDnRiyoBf</td>\n",
       "      <td>mobile</td>\n",
       "      <td>Android</td>\n",
       "      <td>Samsung</td>\n",
       "      <td>Chrome</td>\n",
       "      <td>9</td>\n",
       "      <td>day</td>\n",
       "      <td>3</td>\n",
       "      <td>no_social</td>\n",
       "      <td>no_organic</td>\n",
       "      <td>28</td>\n",
       "      <td>10</td>\n",
       "      <td>348552</td>\n",
       "      <td>1.0</td>\n",
       "      <td>44.225383</td>\n",
       "      <td>42.068197</td>\n",
       "      <td>1307.166523</td>\n",
       "    </tr>\n",
       "    <tr>\n",
       "      <th>3</th>\n",
       "      <td>0</td>\n",
       "      <td>1</td>\n",
       "      <td>LEoPHuyFvzoNfnzGgfcd</td>\n",
       "      <td>JNHcPlZPxEMWDnRiyoBf</td>\n",
       "      <td>mobile</td>\n",
       "      <td>(not set)</td>\n",
       "      <td>Realme</td>\n",
       "      <td>Chrome</td>\n",
       "      <td>12</td>\n",
       "      <td>day</td>\n",
       "      <td>5</td>\n",
       "      <td>no_social</td>\n",
       "      <td>no_organic</td>\n",
       "      <td>12</td>\n",
       "      <td>6</td>\n",
       "      <td>280800</td>\n",
       "      <td>1.0</td>\n",
       "      <td>56.637012</td>\n",
       "      <td>104.719221</td>\n",
       "      <td>4004.907350</td>\n",
       "    </tr>\n",
       "    <tr>\n",
       "      <th>4</th>\n",
       "      <td>0</td>\n",
       "      <td>1</td>\n",
       "      <td>LTuZkdKfxRGVceoWkVyg</td>\n",
       "      <td>JNHcPlZPxEMWDnRiyoBf</td>\n",
       "      <td>mobile</td>\n",
       "      <td>(not set)</td>\n",
       "      <td>Apple</td>\n",
       "      <td>Safari</td>\n",
       "      <td>8</td>\n",
       "      <td>night</td>\n",
       "      <td>1</td>\n",
       "      <td>no_social</td>\n",
       "      <td>organic</td>\n",
       "      <td>29</td>\n",
       "      <td>6</td>\n",
       "      <td>304704</td>\n",
       "      <td>1.0</td>\n",
       "      <td>55.625578</td>\n",
       "      <td>37.606392</td>\n",
       "      <td>0.000000</td>\n",
       "    </tr>\n",
       "    <tr>\n",
       "      <th>...</th>\n",
       "      <td>...</td>\n",
       "      <td>...</td>\n",
       "      <td>...</td>\n",
       "      <td>...</td>\n",
       "      <td>...</td>\n",
       "      <td>...</td>\n",
       "      <td>...</td>\n",
       "      <td>...</td>\n",
       "      <td>...</td>\n",
       "      <td>...</td>\n",
       "      <td>...</td>\n",
       "      <td>...</td>\n",
       "      <td>...</td>\n",
       "      <td>...</td>\n",
       "      <td>...</td>\n",
       "      <td>...</td>\n",
       "      <td>...</td>\n",
       "      <td>...</td>\n",
       "      <td>...</td>\n",
       "      <td>...</td>\n",
       "    </tr>\n",
       "    <tr>\n",
       "      <th>1732261</th>\n",
       "      <td>0</td>\n",
       "      <td>1</td>\n",
       "      <td>FTjNLDyTrXaWYgZymFkV</td>\n",
       "      <td>dUuXlWzvmhDSyclWRhNP</td>\n",
       "      <td>mobile</td>\n",
       "      <td>(not set)</td>\n",
       "      <td>Huawei</td>\n",
       "      <td>Chrome</td>\n",
       "      <td>0</td>\n",
       "      <td>night</td>\n",
       "      <td>2</td>\n",
       "      <td>social</td>\n",
       "      <td>no_organic</td>\n",
       "      <td>21</td>\n",
       "      <td>7</td>\n",
       "      <td>280800</td>\n",
       "      <td>1.0</td>\n",
       "      <td>55.625578</td>\n",
       "      <td>37.606392</td>\n",
       "      <td>0.000000</td>\n",
       "    </tr>\n",
       "    <tr>\n",
       "      <th>1732262</th>\n",
       "      <td>0</td>\n",
       "      <td>1</td>\n",
       "      <td>LEoPHuyFvzoNfnzGgfcd</td>\n",
       "      <td>JNHcPlZPxEMWDnRiyoBf</td>\n",
       "      <td>mobile</td>\n",
       "      <td>(not set)</td>\n",
       "      <td>Apple</td>\n",
       "      <td>Safari</td>\n",
       "      <td>23</td>\n",
       "      <td>night</td>\n",
       "      <td>1</td>\n",
       "      <td>no_social</td>\n",
       "      <td>no_organic</td>\n",
       "      <td>20</td>\n",
       "      <td>7</td>\n",
       "      <td>250125</td>\n",
       "      <td>1.0</td>\n",
       "      <td>59.960674</td>\n",
       "      <td>30.158655</td>\n",
       "      <td>654.453737</td>\n",
       "    </tr>\n",
       "    <tr>\n",
       "      <th>1732263</th>\n",
       "      <td>0</td>\n",
       "      <td>1</td>\n",
       "      <td>LEoPHuyFvzoNfnzGgfcd</td>\n",
       "      <td>vCIpmpaGBnIQhyYNkXqp</td>\n",
       "      <td>mobile</td>\n",
       "      <td>Android</td>\n",
       "      <td>Xiaomi</td>\n",
       "      <td>Chrome</td>\n",
       "      <td>9</td>\n",
       "      <td>day</td>\n",
       "      <td>3</td>\n",
       "      <td>no_social</td>\n",
       "      <td>no_organic</td>\n",
       "      <td>2</td>\n",
       "      <td>12</td>\n",
       "      <td>343089</td>\n",
       "      <td>1.0</td>\n",
       "      <td>56.276929</td>\n",
       "      <td>43.921298</td>\n",
       "      <td>400.960179</td>\n",
       "    </tr>\n",
       "    <tr>\n",
       "      <th>1732264</th>\n",
       "      <td>0</td>\n",
       "      <td>1</td>\n",
       "      <td>LEoPHuyFvzoNfnzGgfcd</td>\n",
       "      <td>JNHcPlZPxEMWDnRiyoBf</td>\n",
       "      <td>mobile</td>\n",
       "      <td>(not set)</td>\n",
       "      <td>Samsung</td>\n",
       "      <td>Samsung Internet</td>\n",
       "      <td>6</td>\n",
       "      <td>night</td>\n",
       "      <td>6</td>\n",
       "      <td>no_social</td>\n",
       "      <td>no_organic</td>\n",
       "      <td>13</td>\n",
       "      <td>6</td>\n",
       "      <td>301584</td>\n",
       "      <td>1.0</td>\n",
       "      <td>55.159841</td>\n",
       "      <td>61.402555</td>\n",
       "      <td>1501.398788</td>\n",
       "    </tr>\n",
       "    <tr>\n",
       "      <th>1732265</th>\n",
       "      <td>0</td>\n",
       "      <td>1</td>\n",
       "      <td>FTjNLDyTrXaWYgZymFkV</td>\n",
       "      <td>xhoenQgDQsgfEPYNPwKO</td>\n",
       "      <td>mobile</td>\n",
       "      <td>(not set)</td>\n",
       "      <td>(not set)</td>\n",
       "      <td>YaBrowser</td>\n",
       "      <td>18</td>\n",
       "      <td>day</td>\n",
       "      <td>4</td>\n",
       "      <td>social</td>\n",
       "      <td>no_organic</td>\n",
       "      <td>15</td>\n",
       "      <td>10</td>\n",
       "      <td>335256</td>\n",
       "      <td>1.0</td>\n",
       "      <td>54.360799</td>\n",
       "      <td>21.305461</td>\n",
       "      <td>1050.304480</td>\n",
       "    </tr>\n",
       "  </tbody>\n",
       "</table>\n",
       "<p>1732266 rows × 20 columns</p>\n",
       "</div>"
      ],
      "text/plain": [
       "         target  visit_number          utm_campaign         utm_adcontent  \\\n",
       "0             0             1  FTjNLDyTrXaWYgZymFkV  PkybGvWbaqORmxjNunqZ   \n",
       "1             0             1  LTuZkdKfxRGVceoWkVyg  JNHcPlZPxEMWDnRiyoBf   \n",
       "2             0             1  gecBYcKZCPMcVYdSSzKP  JNHcPlZPxEMWDnRiyoBf   \n",
       "3             0             1  LEoPHuyFvzoNfnzGgfcd  JNHcPlZPxEMWDnRiyoBf   \n",
       "4             0             1  LTuZkdKfxRGVceoWkVyg  JNHcPlZPxEMWDnRiyoBf   \n",
       "...         ...           ...                   ...                   ...   \n",
       "1732261       0             1  FTjNLDyTrXaWYgZymFkV  dUuXlWzvmhDSyclWRhNP   \n",
       "1732262       0             1  LEoPHuyFvzoNfnzGgfcd  JNHcPlZPxEMWDnRiyoBf   \n",
       "1732263       0             1  LEoPHuyFvzoNfnzGgfcd  vCIpmpaGBnIQhyYNkXqp   \n",
       "1732264       0             1  LEoPHuyFvzoNfnzGgfcd  JNHcPlZPxEMWDnRiyoBf   \n",
       "1732265       0             1  FTjNLDyTrXaWYgZymFkV  xhoenQgDQsgfEPYNPwKO   \n",
       "\n",
       "        device_category  device_os device_brand    device_browser  visit_hour  \\\n",
       "0                mobile  (not set)      Samsung            Chrome          16   \n",
       "1                mobile    Android      Samsung  Samsung Internet          21   \n",
       "2                mobile    Android      Samsung            Chrome           9   \n",
       "3                mobile  (not set)       Realme            Chrome          12   \n",
       "4                mobile  (not set)        Apple            Safari           8   \n",
       "...                 ...        ...          ...               ...         ...   \n",
       "1732261          mobile  (not set)       Huawei            Chrome           0   \n",
       "1732262          mobile  (not set)        Apple            Safari          23   \n",
       "1732263          mobile    Android       Xiaomi            Chrome           9   \n",
       "1732264          mobile  (not set)      Samsung  Samsung Internet           6   \n",
       "1732265          mobile  (not set)    (not set)         YaBrowser          18   \n",
       "\n",
       "        visit_day_night  dayofweek social_media_source traf_medium  visit_day  \\\n",
       "0                   day          6              social  no_organic         26   \n",
       "1                 night          5           no_social     organic         23   \n",
       "2                   day          3           no_social  no_organic         28   \n",
       "3                   day          5           no_social  no_organic         12   \n",
       "4                 night          1           no_social     organic         29   \n",
       "...                 ...        ...                 ...         ...        ...   \n",
       "1732261           night          2              social  no_organic         21   \n",
       "1732262           night          1           no_social  no_organic         20   \n",
       "1732263             day          3           no_social  no_organic          2   \n",
       "1732264           night          6           no_social  no_organic         13   \n",
       "1732265             day          4              social  no_organic         15   \n",
       "\n",
       "         visit_month  device_screen_area  country   lat_city   long_city  \\\n",
       "0                  9              358028      1.0  44.560945   38.076683   \n",
       "1                 10              230400      1.0  51.679931   39.183756   \n",
       "2                 10              348552      1.0  44.225383   42.068197   \n",
       "3                  6              280800      1.0  56.637012  104.719221   \n",
       "4                  6              304704      1.0  55.625578   37.606392   \n",
       "...              ...                 ...      ...        ...         ...   \n",
       "1732261            7              280800      1.0  55.625578   37.606392   \n",
       "1732262            7              250125      1.0  59.960674   30.158655   \n",
       "1732263           12              343089      1.0  56.276929   43.921298   \n",
       "1732264            6              301584      1.0  55.159841   61.402555   \n",
       "1732265           10              335256      1.0  54.360799   21.305461   \n",
       "\n",
       "         dist_to_Moscow  \n",
       "0           1231.174609  \n",
       "1            451.327574  \n",
       "2           1307.166523  \n",
       "3           4004.907350  \n",
       "4              0.000000  \n",
       "...                 ...  \n",
       "1732261        0.000000  \n",
       "1732262      654.453737  \n",
       "1732263      400.960179  \n",
       "1732264     1501.398788  \n",
       "1732265     1050.304480  \n",
       "\n",
       "[1732266 rows x 20 columns]"
      ]
     },
     "execution_count": 125,
     "metadata": {},
     "output_type": "execute_result"
    }
   ],
   "source": [
    "df_clean = df2.drop(columns_to_drop, axis=1)\n",
    "df_clean"
   ]
  },
  {
   "cell_type": "code",
   "execution_count": 126,
   "metadata": {},
   "outputs": [
    {
     "name": "stdout",
     "output_type": "stream",
     "text": [
      "<class 'pandas.core.frame.DataFrame'>\n",
      "RangeIndex: 1732266 entries, 0 to 1732265\n",
      "Data columns (total 20 columns):\n",
      " #   Column               Non-Null Count    Dtype  \n",
      "---  ------               --------------    -----  \n",
      " 0   target               1732266 non-null  int64  \n",
      " 1   visit_number         1732266 non-null  int64  \n",
      " 2   utm_campaign         1732266 non-null  object \n",
      " 3   utm_adcontent        1732266 non-null  object \n",
      " 4   device_category      1732266 non-null  object \n",
      " 5   device_os            1732266 non-null  object \n",
      " 6   device_brand         1732266 non-null  object \n",
      " 7   device_browser       1732266 non-null  object \n",
      " 8   visit_hour           1732266 non-null  int32  \n",
      " 9   visit_day_night      1732266 non-null  object \n",
      " 10  dayofweek            1732266 non-null  int32  \n",
      " 11  social_media_source  1732266 non-null  object \n",
      " 12  traf_medium          1732266 non-null  object \n",
      " 13  visit_day            1732266 non-null  int32  \n",
      " 14  visit_month          1732266 non-null  int32  \n",
      " 15  device_screen_area   1732266 non-null  int64  \n",
      " 16  country              1732266 non-null  float64\n",
      " 17  lat_city             1732266 non-null  float64\n",
      " 18  long_city            1732266 non-null  float64\n",
      " 19  dist_to_Moscow       1732266 non-null  float64\n",
      "dtypes: float64(4), int32(4), int64(3), object(9)\n",
      "memory usage: 237.9+ MB\n"
     ]
    }
   ],
   "source": [
    "df_clean.info(show_counts=True)"
   ]
  },
  {
   "cell_type": "markdown",
   "metadata": {},
   "source": [
    "## *Преобразование категориальных переменных с помощью OHE и стандартизация данных*"
   ]
  },
  {
   "cell_type": "markdown",
   "metadata": {},
   "source": [
    "Посмотрим сколько уникальных значений во категориальных колонках"
   ]
  },
  {
   "cell_type": "code",
   "execution_count": 132,
   "metadata": {},
   "outputs": [],
   "source": [
    "# посмотрим сколько уникальных значений во категориальных колонках\n",
    "def nunique_feat(df):\n",
    "    list_feat = []\n",
    "    categorical = df.select_dtypes(include=['object']).columns\n",
    "    for feat in categorical:\n",
    "        list_feat.append([feat, (df[feat].nunique())])\n",
    "        df_nunique = pd.DataFrame(list_feat, columns=['feat', 'count_uniq'])\n",
    "    return df_nunique.sort_values('count_uniq', ascending=False, ignore_index=True)"
   ]
  },
  {
   "cell_type": "code",
   "execution_count": 133,
   "metadata": {},
   "outputs": [
    {
     "data": {
      "text/html": [
       "<div>\n",
       "<style scoped>\n",
       "    .dataframe tbody tr th:only-of-type {\n",
       "        vertical-align: middle;\n",
       "    }\n",
       "\n",
       "    .dataframe tbody tr th {\n",
       "        vertical-align: top;\n",
       "    }\n",
       "\n",
       "    .dataframe thead th {\n",
       "        text-align: right;\n",
       "    }\n",
       "</style>\n",
       "<table border=\"1\" class=\"dataframe\">\n",
       "  <thead>\n",
       "    <tr style=\"text-align: right;\">\n",
       "      <th></th>\n",
       "      <th>feat</th>\n",
       "      <th>count_uniq</th>\n",
       "    </tr>\n",
       "  </thead>\n",
       "  <tbody>\n",
       "    <tr>\n",
       "      <th>0</th>\n",
       "      <td>utm_campaign</td>\n",
       "      <td>407</td>\n",
       "    </tr>\n",
       "    <tr>\n",
       "      <th>1</th>\n",
       "      <td>utm_adcontent</td>\n",
       "      <td>281</td>\n",
       "    </tr>\n",
       "    <tr>\n",
       "      <th>2</th>\n",
       "      <td>device_brand</td>\n",
       "      <td>200</td>\n",
       "    </tr>\n",
       "    <tr>\n",
       "      <th>3</th>\n",
       "      <td>device_browser</td>\n",
       "      <td>55</td>\n",
       "    </tr>\n",
       "    <tr>\n",
       "      <th>4</th>\n",
       "      <td>device_os</td>\n",
       "      <td>13</td>\n",
       "    </tr>\n",
       "    <tr>\n",
       "      <th>5</th>\n",
       "      <td>device_category</td>\n",
       "      <td>3</td>\n",
       "    </tr>\n",
       "    <tr>\n",
       "      <th>6</th>\n",
       "      <td>visit_day_night</td>\n",
       "      <td>2</td>\n",
       "    </tr>\n",
       "    <tr>\n",
       "      <th>7</th>\n",
       "      <td>social_media_source</td>\n",
       "      <td>2</td>\n",
       "    </tr>\n",
       "    <tr>\n",
       "      <th>8</th>\n",
       "      <td>traf_medium</td>\n",
       "      <td>2</td>\n",
       "    </tr>\n",
       "  </tbody>\n",
       "</table>\n",
       "</div>"
      ],
      "text/plain": [
       "                  feat  count_uniq\n",
       "0         utm_campaign         407\n",
       "1        utm_adcontent         281\n",
       "2         device_brand         200\n",
       "3       device_browser          55\n",
       "4            device_os          13\n",
       "5      device_category           3\n",
       "6      visit_day_night           2\n",
       "7  social_media_source           2\n",
       "8          traf_medium           2"
      ]
     },
     "execution_count": 133,
     "metadata": {},
     "output_type": "execute_result"
    }
   ],
   "source": [
    "nunique_feat(df_clean)"
   ]
  },
  {
   "cell_type": "markdown",
   "metadata": {},
   "source": [
    "определим категориальные и числовые признаки"
   ]
  },
  {
   "cell_type": "code",
   "execution_count": 134,
   "metadata": {},
   "outputs": [],
   "source": [
    "# Сохраним в переменную numerical имена всех числовых признаков нашего датасета\n",
    "numerical = df_clean.select_dtypes(include=['int64', 'int32', 'float64']).columns.drop('target')\n",
    "\n",
    "# Сохраним в переменную categorical имена всех категориальных признаков нашего датасета\n",
    "categorical = df_clean.select_dtypes(include=['object']).columns"
   ]
  },
  {
   "cell_type": "code",
   "execution_count": 135,
   "metadata": {},
   "outputs": [
    {
     "data": {
      "text/plain": [
       "Index(['visit_number', 'visit_hour', 'dayofweek', 'visit_day', 'visit_month',\n",
       "       'device_screen_area', 'country', 'lat_city', 'long_city',\n",
       "       'dist_to_Moscow'],\n",
       "      dtype='object')"
      ]
     },
     "execution_count": 135,
     "metadata": {},
     "output_type": "execute_result"
    }
   ],
   "source": [
    "numerical"
   ]
  },
  {
   "cell_type": "code",
   "execution_count": 136,
   "metadata": {},
   "outputs": [
    {
     "data": {
      "text/plain": [
       "Index(['utm_campaign', 'utm_adcontent', 'device_category', 'device_os',\n",
       "       'device_brand', 'device_browser', 'visit_day_night',\n",
       "       'social_media_source', 'traf_medium'],\n",
       "      dtype='object')"
      ]
     },
     "execution_count": 136,
     "metadata": {},
     "output_type": "execute_result"
    }
   ],
   "source": [
    "categorical"
   ]
  },
  {
   "cell_type": "markdown",
   "metadata": {},
   "source": [
    "*применим min_frequency = 500 для уменьшения размерности датасета*"
   ]
  },
  {
   "cell_type": "code",
   "execution_count": 89,
   "metadata": {},
   "outputs": [
    {
     "data": {
      "text/html": [
       "<style>#sk-container-id-1 {color: black;}#sk-container-id-1 pre{padding: 0;}#sk-container-id-1 div.sk-toggleable {background-color: white;}#sk-container-id-1 label.sk-toggleable__label {cursor: pointer;display: block;width: 100%;margin-bottom: 0;padding: 0.3em;box-sizing: border-box;text-align: center;}#sk-container-id-1 label.sk-toggleable__label-arrow:before {content: \"▸\";float: left;margin-right: 0.25em;color: #696969;}#sk-container-id-1 label.sk-toggleable__label-arrow:hover:before {color: black;}#sk-container-id-1 div.sk-estimator:hover label.sk-toggleable__label-arrow:before {color: black;}#sk-container-id-1 div.sk-toggleable__content {max-height: 0;max-width: 0;overflow: hidden;text-align: left;background-color: #f0f8ff;}#sk-container-id-1 div.sk-toggleable__content pre {margin: 0.2em;color: black;border-radius: 0.25em;background-color: #f0f8ff;}#sk-container-id-1 input.sk-toggleable__control:checked~div.sk-toggleable__content {max-height: 200px;max-width: 100%;overflow: auto;}#sk-container-id-1 input.sk-toggleable__control:checked~label.sk-toggleable__label-arrow:before {content: \"▾\";}#sk-container-id-1 div.sk-estimator input.sk-toggleable__control:checked~label.sk-toggleable__label {background-color: #d4ebff;}#sk-container-id-1 div.sk-label input.sk-toggleable__control:checked~label.sk-toggleable__label {background-color: #d4ebff;}#sk-container-id-1 input.sk-hidden--visually {border: 0;clip: rect(1px 1px 1px 1px);clip: rect(1px, 1px, 1px, 1px);height: 1px;margin: -1px;overflow: hidden;padding: 0;position: absolute;width: 1px;}#sk-container-id-1 div.sk-estimator {font-family: monospace;background-color: #f0f8ff;border: 1px dotted black;border-radius: 0.25em;box-sizing: border-box;margin-bottom: 0.5em;}#sk-container-id-1 div.sk-estimator:hover {background-color: #d4ebff;}#sk-container-id-1 div.sk-parallel-item::after {content: \"\";width: 100%;border-bottom: 1px solid gray;flex-grow: 1;}#sk-container-id-1 div.sk-label:hover label.sk-toggleable__label {background-color: #d4ebff;}#sk-container-id-1 div.sk-serial::before {content: \"\";position: absolute;border-left: 1px solid gray;box-sizing: border-box;top: 0;bottom: 0;left: 50%;z-index: 0;}#sk-container-id-1 div.sk-serial {display: flex;flex-direction: column;align-items: center;background-color: white;padding-right: 0.2em;padding-left: 0.2em;position: relative;}#sk-container-id-1 div.sk-item {position: relative;z-index: 1;}#sk-container-id-1 div.sk-parallel {display: flex;align-items: stretch;justify-content: center;background-color: white;position: relative;}#sk-container-id-1 div.sk-item::before, #sk-container-id-1 div.sk-parallel-item::before {content: \"\";position: absolute;border-left: 1px solid gray;box-sizing: border-box;top: 0;bottom: 0;left: 50%;z-index: -1;}#sk-container-id-1 div.sk-parallel-item {display: flex;flex-direction: column;z-index: 1;position: relative;background-color: white;}#sk-container-id-1 div.sk-parallel-item:first-child::after {align-self: flex-end;width: 50%;}#sk-container-id-1 div.sk-parallel-item:last-child::after {align-self: flex-start;width: 50%;}#sk-container-id-1 div.sk-parallel-item:only-child::after {width: 0;}#sk-container-id-1 div.sk-dashed-wrapped {border: 1px dashed gray;margin: 0 0.4em 0.5em 0.4em;box-sizing: border-box;padding-bottom: 0.4em;background-color: white;}#sk-container-id-1 div.sk-label label {font-family: monospace;font-weight: bold;display: inline-block;line-height: 1.2em;}#sk-container-id-1 div.sk-label-container {text-align: center;}#sk-container-id-1 div.sk-container {/* jupyter's `normalize.less` sets `[hidden] { display: none; }` but bootstrap.min.css set `[hidden] { display: none !important; }` so we also need the `!important` here to be able to override the default hidden behavior on the sphinx rendered scikit-learn.org. See: https://github.com/scikit-learn/scikit-learn/issues/21755 */display: inline-block !important;position: relative;}#sk-container-id-1 div.sk-text-repr-fallback {display: none;}</style><div id=\"sk-container-id-1\" class=\"sk-top-container\"><div class=\"sk-text-repr-fallback\"><pre>OneHotEncoder(handle_unknown=&#x27;ignore&#x27;, min_frequency=500, sparse_output=False)</pre><b>In a Jupyter environment, please rerun this cell to show the HTML representation or trust the notebook. <br />On GitHub, the HTML representation is unable to render, please try loading this page with nbviewer.org.</b></div><div class=\"sk-container\" hidden><div class=\"sk-item\"><div class=\"sk-estimator sk-toggleable\"><input class=\"sk-toggleable__control sk-hidden--visually\" id=\"sk-estimator-id-1\" type=\"checkbox\" checked><label for=\"sk-estimator-id-1\" class=\"sk-toggleable__label sk-toggleable__label-arrow\">OneHotEncoder</label><div class=\"sk-toggleable__content\"><pre>OneHotEncoder(handle_unknown=&#x27;ignore&#x27;, min_frequency=500, sparse_output=False)</pre></div></div></div></div></div>"
      ],
      "text/plain": [
       "OneHotEncoder(handle_unknown='ignore', min_frequency=500, sparse_output=False)"
      ]
     },
     "execution_count": 89,
     "metadata": {},
     "output_type": "execute_result"
    }
   ],
   "source": [
    "ohe = OneHotEncoder(handle_unknown='ignore', min_frequency = 500, sparse_output=False)\n",
    "\n",
    "ohe.fit(df_clean[categorical])"
   ]
  },
  {
   "cell_type": "code",
   "execution_count": null,
   "metadata": {},
   "outputs": [],
   "source": [
    "df_clean.loc[:, ohe.get_feature_names_out()] = ohe.transform(df_clean[categorical])"
   ]
  },
  {
   "cell_type": "markdown",
   "metadata": {},
   "source": [
    "стандартизируем данные с помощью StandardScaler"
   ]
  },
  {
   "cell_type": "code",
   "execution_count": 92,
   "metadata": {},
   "outputs": [
    {
     "data": {
      "text/html": [
       "<style>#sk-container-id-2 {color: black;}#sk-container-id-2 pre{padding: 0;}#sk-container-id-2 div.sk-toggleable {background-color: white;}#sk-container-id-2 label.sk-toggleable__label {cursor: pointer;display: block;width: 100%;margin-bottom: 0;padding: 0.3em;box-sizing: border-box;text-align: center;}#sk-container-id-2 label.sk-toggleable__label-arrow:before {content: \"▸\";float: left;margin-right: 0.25em;color: #696969;}#sk-container-id-2 label.sk-toggleable__label-arrow:hover:before {color: black;}#sk-container-id-2 div.sk-estimator:hover label.sk-toggleable__label-arrow:before {color: black;}#sk-container-id-2 div.sk-toggleable__content {max-height: 0;max-width: 0;overflow: hidden;text-align: left;background-color: #f0f8ff;}#sk-container-id-2 div.sk-toggleable__content pre {margin: 0.2em;color: black;border-radius: 0.25em;background-color: #f0f8ff;}#sk-container-id-2 input.sk-toggleable__control:checked~div.sk-toggleable__content {max-height: 200px;max-width: 100%;overflow: auto;}#sk-container-id-2 input.sk-toggleable__control:checked~label.sk-toggleable__label-arrow:before {content: \"▾\";}#sk-container-id-2 div.sk-estimator input.sk-toggleable__control:checked~label.sk-toggleable__label {background-color: #d4ebff;}#sk-container-id-2 div.sk-label input.sk-toggleable__control:checked~label.sk-toggleable__label {background-color: #d4ebff;}#sk-container-id-2 input.sk-hidden--visually {border: 0;clip: rect(1px 1px 1px 1px);clip: rect(1px, 1px, 1px, 1px);height: 1px;margin: -1px;overflow: hidden;padding: 0;position: absolute;width: 1px;}#sk-container-id-2 div.sk-estimator {font-family: monospace;background-color: #f0f8ff;border: 1px dotted black;border-radius: 0.25em;box-sizing: border-box;margin-bottom: 0.5em;}#sk-container-id-2 div.sk-estimator:hover {background-color: #d4ebff;}#sk-container-id-2 div.sk-parallel-item::after {content: \"\";width: 100%;border-bottom: 1px solid gray;flex-grow: 1;}#sk-container-id-2 div.sk-label:hover label.sk-toggleable__label {background-color: #d4ebff;}#sk-container-id-2 div.sk-serial::before {content: \"\";position: absolute;border-left: 1px solid gray;box-sizing: border-box;top: 0;bottom: 0;left: 50%;z-index: 0;}#sk-container-id-2 div.sk-serial {display: flex;flex-direction: column;align-items: center;background-color: white;padding-right: 0.2em;padding-left: 0.2em;position: relative;}#sk-container-id-2 div.sk-item {position: relative;z-index: 1;}#sk-container-id-2 div.sk-parallel {display: flex;align-items: stretch;justify-content: center;background-color: white;position: relative;}#sk-container-id-2 div.sk-item::before, #sk-container-id-2 div.sk-parallel-item::before {content: \"\";position: absolute;border-left: 1px solid gray;box-sizing: border-box;top: 0;bottom: 0;left: 50%;z-index: -1;}#sk-container-id-2 div.sk-parallel-item {display: flex;flex-direction: column;z-index: 1;position: relative;background-color: white;}#sk-container-id-2 div.sk-parallel-item:first-child::after {align-self: flex-end;width: 50%;}#sk-container-id-2 div.sk-parallel-item:last-child::after {align-self: flex-start;width: 50%;}#sk-container-id-2 div.sk-parallel-item:only-child::after {width: 0;}#sk-container-id-2 div.sk-dashed-wrapped {border: 1px dashed gray;margin: 0 0.4em 0.5em 0.4em;box-sizing: border-box;padding-bottom: 0.4em;background-color: white;}#sk-container-id-2 div.sk-label label {font-family: monospace;font-weight: bold;display: inline-block;line-height: 1.2em;}#sk-container-id-2 div.sk-label-container {text-align: center;}#sk-container-id-2 div.sk-container {/* jupyter's `normalize.less` sets `[hidden] { display: none; }` but bootstrap.min.css set `[hidden] { display: none !important; }` so we also need the `!important` here to be able to override the default hidden behavior on the sphinx rendered scikit-learn.org. See: https://github.com/scikit-learn/scikit-learn/issues/21755 */display: inline-block !important;position: relative;}#sk-container-id-2 div.sk-text-repr-fallback {display: none;}</style><div id=\"sk-container-id-2\" class=\"sk-top-container\"><div class=\"sk-text-repr-fallback\"><pre>StandardScaler()</pre><b>In a Jupyter environment, please rerun this cell to show the HTML representation or trust the notebook. <br />On GitHub, the HTML representation is unable to render, please try loading this page with nbviewer.org.</b></div><div class=\"sk-container\" hidden><div class=\"sk-item\"><div class=\"sk-estimator sk-toggleable\"><input class=\"sk-toggleable__control sk-hidden--visually\" id=\"sk-estimator-id-2\" type=\"checkbox\" checked><label for=\"sk-estimator-id-2\" class=\"sk-toggleable__label sk-toggleable__label-arrow\">StandardScaler</label><div class=\"sk-toggleable__content\"><pre>StandardScaler()</pre></div></div></div></div></div>"
      ],
      "text/plain": [
       "StandardScaler()"
      ]
     },
     "execution_count": 92,
     "metadata": {},
     "output_type": "execute_result"
    }
   ],
   "source": [
    "scaler = StandardScaler()\n",
    "scaler.fit(df_clean[numerical].values)"
   ]
  },
  {
   "cell_type": "code",
   "execution_count": null,
   "metadata": {},
   "outputs": [],
   "source": [
    "df_clean.loc[:, scaler.get_feature_names_out([i+'_std' for i in numerical])] = scaler.transform(df_clean[numerical].values)"
   ]
  },
  {
   "cell_type": "markdown",
   "metadata": {},
   "source": [
    "удалим не переобразованные колонки"
   ]
  },
  {
   "cell_type": "code",
   "execution_count": null,
   "metadata": {},
   "outputs": [],
   "source": [
    "df_clean = df_clean.drop(columns=[*categorical, *numerical], axis=1)"
   ]
  },
  {
   "cell_type": "code",
   "execution_count": 97,
   "metadata": {},
   "outputs": [],
   "source": [
    "# # запишем в файл csv финальный датасет\n",
    "# df_clean.to_csv('data/df_ohe_std1.csv', index=False)"
   ]
  },
  {
   "cell_type": "markdown",
   "metadata": {},
   "source": [
    "## *Modeling*"
   ]
  },
  {
   "cell_type": "code",
   "execution_count": 3,
   "metadata": {},
   "outputs": [],
   "source": [
    "# # загрузим df_ohe_std\n",
    "# df_clean = pd.read_csv('data/df_ohe_std1.csv')"
   ]
  },
  {
   "cell_type": "markdown",
   "metadata": {},
   "source": [
    "разделение данных на треин и тест и объявление моделей\n"
   ]
  },
  {
   "cell_type": "code",
   "execution_count": 7,
   "metadata": {},
   "outputs": [],
   "source": [
    "X = df_clean.drop(['target'], axis=1)\n",
    "y = df_clean['target']\n",
    "x_train, x_test, y_train, y_test = train_test_split(X, y, test_size=0.2, random_state=42)"
   ]
  },
  {
   "cell_type": "code",
   "execution_count": 137,
   "metadata": {},
   "outputs": [],
   "source": [
    "logreg = LogisticRegression(random_state=42)\n",
    "rf_clf = RandomForestClassifier(random_state=42)\n",
    "mlp = MLPClassifier(random_state=42)"
   ]
  },
  {
   "cell_type": "markdown",
   "metadata": {},
   "source": [
    "логистическая регрессия"
   ]
  },
  {
   "cell_type": "code",
   "execution_count": 12,
   "metadata": {},
   "outputs": [
    {
     "name": "stdout",
     "output_type": "stream",
     "text": [
      "0.6700827562967349\n"
     ]
    }
   ],
   "source": [
    "logreg.fit(x_train, y_train)\n",
    "print(roc_auc_score(y_test, logreg.predict_proba(x_test)[:, 1]))"
   ]
  },
  {
   "cell_type": "markdown",
   "metadata": {},
   "source": [
    "случайный лес"
   ]
  },
  {
   "cell_type": "code",
   "execution_count": null,
   "metadata": {},
   "outputs": [
    {
     "data": {
      "text/html": [
       "<style>#sk-container-id-4 {color: black;}#sk-container-id-4 pre{padding: 0;}#sk-container-id-4 div.sk-toggleable {background-color: white;}#sk-container-id-4 label.sk-toggleable__label {cursor: pointer;display: block;width: 100%;margin-bottom: 0;padding: 0.3em;box-sizing: border-box;text-align: center;}#sk-container-id-4 label.sk-toggleable__label-arrow:before {content: \"▸\";float: left;margin-right: 0.25em;color: #696969;}#sk-container-id-4 label.sk-toggleable__label-arrow:hover:before {color: black;}#sk-container-id-4 div.sk-estimator:hover label.sk-toggleable__label-arrow:before {color: black;}#sk-container-id-4 div.sk-toggleable__content {max-height: 0;max-width: 0;overflow: hidden;text-align: left;background-color: #f0f8ff;}#sk-container-id-4 div.sk-toggleable__content pre {margin: 0.2em;color: black;border-radius: 0.25em;background-color: #f0f8ff;}#sk-container-id-4 input.sk-toggleable__control:checked~div.sk-toggleable__content {max-height: 200px;max-width: 100%;overflow: auto;}#sk-container-id-4 input.sk-toggleable__control:checked~label.sk-toggleable__label-arrow:before {content: \"▾\";}#sk-container-id-4 div.sk-estimator input.sk-toggleable__control:checked~label.sk-toggleable__label {background-color: #d4ebff;}#sk-container-id-4 div.sk-label input.sk-toggleable__control:checked~label.sk-toggleable__label {background-color: #d4ebff;}#sk-container-id-4 input.sk-hidden--visually {border: 0;clip: rect(1px 1px 1px 1px);clip: rect(1px, 1px, 1px, 1px);height: 1px;margin: -1px;overflow: hidden;padding: 0;position: absolute;width: 1px;}#sk-container-id-4 div.sk-estimator {font-family: monospace;background-color: #f0f8ff;border: 1px dotted black;border-radius: 0.25em;box-sizing: border-box;margin-bottom: 0.5em;}#sk-container-id-4 div.sk-estimator:hover {background-color: #d4ebff;}#sk-container-id-4 div.sk-parallel-item::after {content: \"\";width: 100%;border-bottom: 1px solid gray;flex-grow: 1;}#sk-container-id-4 div.sk-label:hover label.sk-toggleable__label {background-color: #d4ebff;}#sk-container-id-4 div.sk-serial::before {content: \"\";position: absolute;border-left: 1px solid gray;box-sizing: border-box;top: 0;bottom: 0;left: 50%;z-index: 0;}#sk-container-id-4 div.sk-serial {display: flex;flex-direction: column;align-items: center;background-color: white;padding-right: 0.2em;padding-left: 0.2em;position: relative;}#sk-container-id-4 div.sk-item {position: relative;z-index: 1;}#sk-container-id-4 div.sk-parallel {display: flex;align-items: stretch;justify-content: center;background-color: white;position: relative;}#sk-container-id-4 div.sk-item::before, #sk-container-id-4 div.sk-parallel-item::before {content: \"\";position: absolute;border-left: 1px solid gray;box-sizing: border-box;top: 0;bottom: 0;left: 50%;z-index: -1;}#sk-container-id-4 div.sk-parallel-item {display: flex;flex-direction: column;z-index: 1;position: relative;background-color: white;}#sk-container-id-4 div.sk-parallel-item:first-child::after {align-self: flex-end;width: 50%;}#sk-container-id-4 div.sk-parallel-item:last-child::after {align-self: flex-start;width: 50%;}#sk-container-id-4 div.sk-parallel-item:only-child::after {width: 0;}#sk-container-id-4 div.sk-dashed-wrapped {border: 1px dashed gray;margin: 0 0.4em 0.5em 0.4em;box-sizing: border-box;padding-bottom: 0.4em;background-color: white;}#sk-container-id-4 div.sk-label label {font-family: monospace;font-weight: bold;display: inline-block;line-height: 1.2em;}#sk-container-id-4 div.sk-label-container {text-align: center;}#sk-container-id-4 div.sk-container {/* jupyter's `normalize.less` sets `[hidden] { display: none; }` but bootstrap.min.css set `[hidden] { display: none !important; }` so we also need the `!important` here to be able to override the default hidden behavior on the sphinx rendered scikit-learn.org. See: https://github.com/scikit-learn/scikit-learn/issues/21755 */display: inline-block !important;position: relative;}#sk-container-id-4 div.sk-text-repr-fallback {display: none;}</style><div id=\"sk-container-id-4\" class=\"sk-top-container\"><div class=\"sk-text-repr-fallback\"><pre>RandomForestClassifier(bootstrap=False, max_features=5, min_samples_split=5,\n",
       "                       n_jobs=-1, random_state=42)</pre><b>In a Jupyter environment, please rerun this cell to show the HTML representation or trust the notebook. <br />On GitHub, the HTML representation is unable to render, please try loading this page with nbviewer.org.</b></div><div class=\"sk-container\" hidden><div class=\"sk-item\"><div class=\"sk-estimator sk-toggleable\"><input class=\"sk-toggleable__control sk-hidden--visually\" id=\"sk-estimator-id-4\" type=\"checkbox\" checked><label for=\"sk-estimator-id-4\" class=\"sk-toggleable__label sk-toggleable__label-arrow\">RandomForestClassifier</label><div class=\"sk-toggleable__content\"><pre>RandomForestClassifier(bootstrap=False, max_features=5, min_samples_split=5,\n",
       "                       n_jobs=-1, random_state=42)</pre></div></div></div></div></div>"
      ],
      "text/plain": [
       "RandomForestClassifier(bootstrap=False, max_features=5, min_samples_split=5,\n",
       "                       n_jobs=-1, random_state=42)"
      ]
     },
     "metadata": {},
     "output_type": "display_data"
    }
   ],
   "source": [
    "rf_clf.fit(x_train,y_train)"
   ]
  },
  {
   "cell_type": "code",
   "execution_count": null,
   "metadata": {},
   "outputs": [
    {
     "data": {
      "text/plain": [
       "0.5988990460909874"
      ]
     },
     "metadata": {},
     "output_type": "display_data"
    }
   ],
   "source": [
    "rf_pred = rf_clf.predict_proba(x_test)\n",
    "roc_auc_score(y_test, rf_pred[:, 1])"
   ]
  },
  {
   "cell_type": "markdown",
   "metadata": {},
   "source": [
    "многослойный персептрон"
   ]
  },
  {
   "cell_type": "code",
   "execution_count": null,
   "metadata": {},
   "outputs": [
    {
     "data": {
      "text/html": [
       "<style>#sk-container-id-7 {color: black;}#sk-container-id-7 pre{padding: 0;}#sk-container-id-7 div.sk-toggleable {background-color: white;}#sk-container-id-7 label.sk-toggleable__label {cursor: pointer;display: block;width: 100%;margin-bottom: 0;padding: 0.3em;box-sizing: border-box;text-align: center;}#sk-container-id-7 label.sk-toggleable__label-arrow:before {content: \"▸\";float: left;margin-right: 0.25em;color: #696969;}#sk-container-id-7 label.sk-toggleable__label-arrow:hover:before {color: black;}#sk-container-id-7 div.sk-estimator:hover label.sk-toggleable__label-arrow:before {color: black;}#sk-container-id-7 div.sk-toggleable__content {max-height: 0;max-width: 0;overflow: hidden;text-align: left;background-color: #f0f8ff;}#sk-container-id-7 div.sk-toggleable__content pre {margin: 0.2em;color: black;border-radius: 0.25em;background-color: #f0f8ff;}#sk-container-id-7 input.sk-toggleable__control:checked~div.sk-toggleable__content {max-height: 200px;max-width: 100%;overflow: auto;}#sk-container-id-7 input.sk-toggleable__control:checked~label.sk-toggleable__label-arrow:before {content: \"▾\";}#sk-container-id-7 div.sk-estimator input.sk-toggleable__control:checked~label.sk-toggleable__label {background-color: #d4ebff;}#sk-container-id-7 div.sk-label input.sk-toggleable__control:checked~label.sk-toggleable__label {background-color: #d4ebff;}#sk-container-id-7 input.sk-hidden--visually {border: 0;clip: rect(1px 1px 1px 1px);clip: rect(1px, 1px, 1px, 1px);height: 1px;margin: -1px;overflow: hidden;padding: 0;position: absolute;width: 1px;}#sk-container-id-7 div.sk-estimator {font-family: monospace;background-color: #f0f8ff;border: 1px dotted black;border-radius: 0.25em;box-sizing: border-box;margin-bottom: 0.5em;}#sk-container-id-7 div.sk-estimator:hover {background-color: #d4ebff;}#sk-container-id-7 div.sk-parallel-item::after {content: \"\";width: 100%;border-bottom: 1px solid gray;flex-grow: 1;}#sk-container-id-7 div.sk-label:hover label.sk-toggleable__label {background-color: #d4ebff;}#sk-container-id-7 div.sk-serial::before {content: \"\";position: absolute;border-left: 1px solid gray;box-sizing: border-box;top: 0;bottom: 0;left: 50%;z-index: 0;}#sk-container-id-7 div.sk-serial {display: flex;flex-direction: column;align-items: center;background-color: white;padding-right: 0.2em;padding-left: 0.2em;position: relative;}#sk-container-id-7 div.sk-item {position: relative;z-index: 1;}#sk-container-id-7 div.sk-parallel {display: flex;align-items: stretch;justify-content: center;background-color: white;position: relative;}#sk-container-id-7 div.sk-item::before, #sk-container-id-7 div.sk-parallel-item::before {content: \"\";position: absolute;border-left: 1px solid gray;box-sizing: border-box;top: 0;bottom: 0;left: 50%;z-index: -1;}#sk-container-id-7 div.sk-parallel-item {display: flex;flex-direction: column;z-index: 1;position: relative;background-color: white;}#sk-container-id-7 div.sk-parallel-item:first-child::after {align-self: flex-end;width: 50%;}#sk-container-id-7 div.sk-parallel-item:last-child::after {align-self: flex-start;width: 50%;}#sk-container-id-7 div.sk-parallel-item:only-child::after {width: 0;}#sk-container-id-7 div.sk-dashed-wrapped {border: 1px dashed gray;margin: 0 0.4em 0.5em 0.4em;box-sizing: border-box;padding-bottom: 0.4em;background-color: white;}#sk-container-id-7 div.sk-label label {font-family: monospace;font-weight: bold;display: inline-block;line-height: 1.2em;}#sk-container-id-7 div.sk-label-container {text-align: center;}#sk-container-id-7 div.sk-container {/* jupyter's `normalize.less` sets `[hidden] { display: none; }` but bootstrap.min.css set `[hidden] { display: none !important; }` so we also need the `!important` here to be able to override the default hidden behavior on the sphinx rendered scikit-learn.org. See: https://github.com/scikit-learn/scikit-learn/issues/21755 */display: inline-block !important;position: relative;}#sk-container-id-7 div.sk-text-repr-fallback {display: none;}</style><div id=\"sk-container-id-7\" class=\"sk-top-container\"><div class=\"sk-text-repr-fallback\"><pre>MLPClassifier(activation=&#x27;logistic&#x27;, hidden_layer_sizes=(10, 5),\n",
       "              n_iter_no_change=3, random_state=42)</pre><b>In a Jupyter environment, please rerun this cell to show the HTML representation or trust the notebook. <br />On GitHub, the HTML representation is unable to render, please try loading this page with nbviewer.org.</b></div><div class=\"sk-container\" hidden><div class=\"sk-item\"><div class=\"sk-estimator sk-toggleable\"><input class=\"sk-toggleable__control sk-hidden--visually\" id=\"sk-estimator-id-7\" type=\"checkbox\" checked><label for=\"sk-estimator-id-7\" class=\"sk-toggleable__label sk-toggleable__label-arrow\">MLPClassifier</label><div class=\"sk-toggleable__content\"><pre>MLPClassifier(activation=&#x27;logistic&#x27;, hidden_layer_sizes=(10, 5),\n",
       "              n_iter_no_change=3, random_state=42)</pre></div></div></div></div></div>"
      ],
      "text/plain": [
       "MLPClassifier(activation='logistic', hidden_layer_sizes=(10, 5),\n",
       "              n_iter_no_change=3, random_state=42)"
      ]
     },
     "metadata": {},
     "output_type": "display_data"
    }
   ],
   "source": [
    "mlp.fit(x_train,y_train)"
   ]
  },
  {
   "cell_type": "code",
   "execution_count": null,
   "metadata": {},
   "outputs": [
    {
     "data": {
      "text/plain": [
       "0.6369697777676482"
      ]
     },
     "metadata": {},
     "output_type": "display_data"
    }
   ],
   "source": [
    "mlp_pred = mlp.predict_proba(x_test)\n",
    "roc_auc_score(y_test, mlp_pred[:, 1])"
   ]
  },
  {
   "cell_type": "markdown",
   "metadata": {},
   "source": [
    "оценим лучшую модель с помощью кросс-валидации на тренировочной выборке"
   ]
  },
  {
   "cell_type": "code",
   "execution_count": 9,
   "metadata": {},
   "outputs": [
    {
     "name": "stdout",
     "output_type": "stream",
     "text": [
      "model: LogisticRegression, acc_mean: 0.6653, acc_std: 0.0027\n"
     ]
    }
   ],
   "source": [
    "score_logreg = cross_val_score(logreg, X, y, cv=4, scoring='roc_auc')\n",
    "print(f'model: {type(logreg).__name__}, acc_mean: {score_logreg.mean():.4f}, acc_std: {score_logreg.std():.4f}')"
   ]
  },
  {
   "cell_type": "markdown",
   "metadata": {},
   "source": [
    "#### Model tuning с помощью RandomizedSearchCV"
   ]
  },
  {
   "cell_type": "code",
   "execution_count": 9,
   "metadata": {},
   "outputs": [],
   "source": [
    "# Инициализируем сетку параметров для перебора\n",
    "param_grid = {\n",
    "    'solver': ['lbfgs', 'liblinear', 'sag'],\n",
    "    'class_weight': [None, 'balanced'],\n",
    "    'max_iter': [100, 200]\n",
    "}"
   ]
  },
  {
   "cell_type": "code",
   "execution_count": 10,
   "metadata": {},
   "outputs": [],
   "source": [
    "\n",
    "# Инициализируем базовую модель\n",
    "logreg2 = LogisticRegression(random_state=22)\n",
    "\n",
    "# Модель для перебора параметров базовой модели\n",
    "randomized_search_rf = RandomizedSearchCV(\n",
    "    estimator=logreg2,\n",
    "    param_distributions=param_grid,\n",
    "    n_iter=3,\n",
    "    scoring='roc_auc',\n",
    "    verbose=5,\n",
    "    n_jobs=-1\n",
    ")"
   ]
  },
  {
   "cell_type": "code",
   "execution_count": 11,
   "metadata": {},
   "outputs": [
    {
     "name": "stdout",
     "output_type": "stream",
     "text": [
      "Fitting 5 folds for each of 3 candidates, totalling 15 fits\n"
     ]
    },
    {
     "name": "stderr",
     "output_type": "stream",
     "text": [
      "c:\\Users\\Ser\\anaconda3\\lib\\site-packages\\sklearn\\model_selection\\_validation.py:425: FitFailedWarning: \n",
      "11 fits failed out of a total of 15.\n",
      "The score on these train-test partitions for these parameters will be set to nan.\n",
      "If these failures are not expected, you can try to debug them by setting error_score='raise'.\n",
      "\n",
      "Below are more details about the failures:\n",
      "--------------------------------------------------------------------------------\n",
      "2 fits failed with the following error:\n",
      "Traceback (most recent call last):\n",
      "  File \"c:\\Users\\Ser\\anaconda3\\lib\\site-packages\\sklearn\\model_selection\\_validation.py\", line 732, in _fit_and_score\n",
      "    estimator.fit(X_train, y_train, **fit_params)\n",
      "  File \"c:\\Users\\Ser\\anaconda3\\lib\\site-packages\\sklearn\\base.py\", line 1151, in wrapper\n",
      "    return fit_method(estimator, *args, **kwargs)\n",
      "  File \"c:\\Users\\Ser\\anaconda3\\lib\\site-packages\\sklearn\\linear_model\\_logistic.py\", line 1207, in fit\n",
      "    X, y = self._validate_data(\n",
      "  File \"c:\\Users\\Ser\\anaconda3\\lib\\site-packages\\sklearn\\base.py\", line 621, in _validate_data\n",
      "    X, y = check_X_y(X, y, **check_params)\n",
      "  File \"c:\\Users\\Ser\\anaconda3\\lib\\site-packages\\sklearn\\utils\\validation.py\", line 1147, in check_X_y\n",
      "    X = check_array(\n",
      "  File \"c:\\Users\\Ser\\anaconda3\\lib\\site-packages\\sklearn\\utils\\validation.py\", line 917, in check_array\n",
      "    array = _asarray_with_order(array, order=order, dtype=dtype, xp=xp)\n",
      "  File \"c:\\Users\\Ser\\anaconda3\\lib\\site-packages\\sklearn\\utils\\_array_api.py\", line 380, in _asarray_with_order\n",
      "    array = numpy.asarray(array, order=order, dtype=dtype)\n",
      "numpy.core._exceptions._ArrayMemoryError: Unable to allocate 1.85 GiB for an array with shape (1225812, 203) and data type float64\n",
      "\n",
      "--------------------------------------------------------------------------------\n",
      "9 fits failed with the following error:\n",
      "Traceback (most recent call last):\n",
      "  File \"c:\\Users\\Ser\\anaconda3\\lib\\site-packages\\sklearn\\model_selection\\_validation.py\", line 732, in _fit_and_score\n",
      "    estimator.fit(X_train, y_train, **fit_params)\n",
      "  File \"c:\\Users\\Ser\\anaconda3\\lib\\site-packages\\sklearn\\base.py\", line 1151, in wrapper\n",
      "    return fit_method(estimator, *args, **kwargs)\n",
      "  File \"c:\\Users\\Ser\\anaconda3\\lib\\site-packages\\sklearn\\linear_model\\_logistic.py\", line 1207, in fit\n",
      "    X, y = self._validate_data(\n",
      "  File \"c:\\Users\\Ser\\anaconda3\\lib\\site-packages\\sklearn\\base.py\", line 621, in _validate_data\n",
      "    X, y = check_X_y(X, y, **check_params)\n",
      "  File \"c:\\Users\\Ser\\anaconda3\\lib\\site-packages\\sklearn\\utils\\validation.py\", line 1147, in check_X_y\n",
      "    X = check_array(\n",
      "  File \"c:\\Users\\Ser\\anaconda3\\lib\\site-packages\\sklearn\\utils\\validation.py\", line 917, in check_array\n",
      "    array = _asarray_with_order(array, order=order, dtype=dtype, xp=xp)\n",
      "  File \"c:\\Users\\Ser\\anaconda3\\lib\\site-packages\\sklearn\\utils\\_array_api.py\", line 380, in _asarray_with_order\n",
      "    array = numpy.asarray(array, order=order, dtype=dtype)\n",
      "numpy.core._exceptions._ArrayMemoryError: Unable to allocate 1.85 GiB for an array with shape (1225813, 203) and data type float64\n",
      "\n",
      "  warnings.warn(some_fits_failed_message, FitFailedWarning)\n",
      "c:\\Users\\Ser\\anaconda3\\lib\\site-packages\\sklearn\\model_selection\\_search.py:976: UserWarning: One or more of the test scores are non-finite: [nan nan nan]\n",
      "  warnings.warn(\n",
      "c:\\Users\\Ser\\anaconda3\\lib\\site-packages\\sklearn\\linear_model\\_logistic.py:1222: UserWarning: 'n_jobs' > 1 does not have any effect when 'solver' is set to 'liblinear'. Got 'n_jobs' = 12.\n",
      "  warnings.warn(\n"
     ]
    },
    {
     "name": "stdout",
     "output_type": "stream",
     "text": [
      "[LibLinear]"
     ]
    },
    {
     "data": {
      "text/html": [
       "<style>#sk-container-id-1 {color: black;}#sk-container-id-1 pre{padding: 0;}#sk-container-id-1 div.sk-toggleable {background-color: white;}#sk-container-id-1 label.sk-toggleable__label {cursor: pointer;display: block;width: 100%;margin-bottom: 0;padding: 0.3em;box-sizing: border-box;text-align: center;}#sk-container-id-1 label.sk-toggleable__label-arrow:before {content: \"▸\";float: left;margin-right: 0.25em;color: #696969;}#sk-container-id-1 label.sk-toggleable__label-arrow:hover:before {color: black;}#sk-container-id-1 div.sk-estimator:hover label.sk-toggleable__label-arrow:before {color: black;}#sk-container-id-1 div.sk-toggleable__content {max-height: 0;max-width: 0;overflow: hidden;text-align: left;background-color: #f0f8ff;}#sk-container-id-1 div.sk-toggleable__content pre {margin: 0.2em;color: black;border-radius: 0.25em;background-color: #f0f8ff;}#sk-container-id-1 input.sk-toggleable__control:checked~div.sk-toggleable__content {max-height: 200px;max-width: 100%;overflow: auto;}#sk-container-id-1 input.sk-toggleable__control:checked~label.sk-toggleable__label-arrow:before {content: \"▾\";}#sk-container-id-1 div.sk-estimator input.sk-toggleable__control:checked~label.sk-toggleable__label {background-color: #d4ebff;}#sk-container-id-1 div.sk-label input.sk-toggleable__control:checked~label.sk-toggleable__label {background-color: #d4ebff;}#sk-container-id-1 input.sk-hidden--visually {border: 0;clip: rect(1px 1px 1px 1px);clip: rect(1px, 1px, 1px, 1px);height: 1px;margin: -1px;overflow: hidden;padding: 0;position: absolute;width: 1px;}#sk-container-id-1 div.sk-estimator {font-family: monospace;background-color: #f0f8ff;border: 1px dotted black;border-radius: 0.25em;box-sizing: border-box;margin-bottom: 0.5em;}#sk-container-id-1 div.sk-estimator:hover {background-color: #d4ebff;}#sk-container-id-1 div.sk-parallel-item::after {content: \"\";width: 100%;border-bottom: 1px solid gray;flex-grow: 1;}#sk-container-id-1 div.sk-label:hover label.sk-toggleable__label {background-color: #d4ebff;}#sk-container-id-1 div.sk-serial::before {content: \"\";position: absolute;border-left: 1px solid gray;box-sizing: border-box;top: 0;bottom: 0;left: 50%;z-index: 0;}#sk-container-id-1 div.sk-serial {display: flex;flex-direction: column;align-items: center;background-color: white;padding-right: 0.2em;padding-left: 0.2em;position: relative;}#sk-container-id-1 div.sk-item {position: relative;z-index: 1;}#sk-container-id-1 div.sk-parallel {display: flex;align-items: stretch;justify-content: center;background-color: white;position: relative;}#sk-container-id-1 div.sk-item::before, #sk-container-id-1 div.sk-parallel-item::before {content: \"\";position: absolute;border-left: 1px solid gray;box-sizing: border-box;top: 0;bottom: 0;left: 50%;z-index: -1;}#sk-container-id-1 div.sk-parallel-item {display: flex;flex-direction: column;z-index: 1;position: relative;background-color: white;}#sk-container-id-1 div.sk-parallel-item:first-child::after {align-self: flex-end;width: 50%;}#sk-container-id-1 div.sk-parallel-item:last-child::after {align-self: flex-start;width: 50%;}#sk-container-id-1 div.sk-parallel-item:only-child::after {width: 0;}#sk-container-id-1 div.sk-dashed-wrapped {border: 1px dashed gray;margin: 0 0.4em 0.5em 0.4em;box-sizing: border-box;padding-bottom: 0.4em;background-color: white;}#sk-container-id-1 div.sk-label label {font-family: monospace;font-weight: bold;display: inline-block;line-height: 1.2em;}#sk-container-id-1 div.sk-label-container {text-align: center;}#sk-container-id-1 div.sk-container {/* jupyter's `normalize.less` sets `[hidden] { display: none; }` but bootstrap.min.css set `[hidden] { display: none !important; }` so we also need the `!important` here to be able to override the default hidden behavior on the sphinx rendered scikit-learn.org. See: https://github.com/scikit-learn/scikit-learn/issues/21755 */display: inline-block !important;position: relative;}#sk-container-id-1 div.sk-text-repr-fallback {display: none;}</style><div id=\"sk-container-id-1\" class=\"sk-top-container\"><div class=\"sk-text-repr-fallback\"><pre>RandomizedSearchCV(estimator=LogisticRegression(n_jobs=-1, random_state=22,\n",
       "                                                verbose=10),\n",
       "                   n_iter=3, n_jobs=-1,\n",
       "                   param_distributions={&#x27;class_weight&#x27;: [None, &#x27;balanced&#x27;],\n",
       "                                        &#x27;max_iter&#x27;: [100, 150],\n",
       "                                        &#x27;solver&#x27;: [&#x27;lbfgs&#x27;, &#x27;liblinear&#x27;,\n",
       "                                                   &#x27;sag&#x27;]},\n",
       "                   scoring=&#x27;roc_auc&#x27;, verbose=5)</pre><b>In a Jupyter environment, please rerun this cell to show the HTML representation or trust the notebook. <br />On GitHub, the HTML representation is unable to render, please try loading this page with nbviewer.org.</b></div><div class=\"sk-container\" hidden><div class=\"sk-item sk-dashed-wrapped\"><div class=\"sk-label-container\"><div class=\"sk-label sk-toggleable\"><input class=\"sk-toggleable__control sk-hidden--visually\" id=\"sk-estimator-id-1\" type=\"checkbox\" ><label for=\"sk-estimator-id-1\" class=\"sk-toggleable__label sk-toggleable__label-arrow\">RandomizedSearchCV</label><div class=\"sk-toggleable__content\"><pre>RandomizedSearchCV(estimator=LogisticRegression(n_jobs=-1, random_state=22,\n",
       "                                                verbose=10),\n",
       "                   n_iter=3, n_jobs=-1,\n",
       "                   param_distributions={&#x27;class_weight&#x27;: [None, &#x27;balanced&#x27;],\n",
       "                                        &#x27;max_iter&#x27;: [100, 150],\n",
       "                                        &#x27;solver&#x27;: [&#x27;lbfgs&#x27;, &#x27;liblinear&#x27;,\n",
       "                                                   &#x27;sag&#x27;]},\n",
       "                   scoring=&#x27;roc_auc&#x27;, verbose=5)</pre></div></div></div><div class=\"sk-parallel\"><div class=\"sk-parallel-item\"><div class=\"sk-item\"><div class=\"sk-label-container\"><div class=\"sk-label sk-toggleable\"><input class=\"sk-toggleable__control sk-hidden--visually\" id=\"sk-estimator-id-2\" type=\"checkbox\" ><label for=\"sk-estimator-id-2\" class=\"sk-toggleable__label sk-toggleable__label-arrow\">estimator: LogisticRegression</label><div class=\"sk-toggleable__content\"><pre>LogisticRegression(n_jobs=-1, random_state=22, verbose=10)</pre></div></div></div><div class=\"sk-serial\"><div class=\"sk-item\"><div class=\"sk-estimator sk-toggleable\"><input class=\"sk-toggleable__control sk-hidden--visually\" id=\"sk-estimator-id-3\" type=\"checkbox\" ><label for=\"sk-estimator-id-3\" class=\"sk-toggleable__label sk-toggleable__label-arrow\">LogisticRegression</label><div class=\"sk-toggleable__content\"><pre>LogisticRegression(n_jobs=-1, random_state=22, verbose=10)</pre></div></div></div></div></div></div></div></div></div></div>"
      ],
      "text/plain": [
       "RandomizedSearchCV(estimator=LogisticRegression(n_jobs=-1, random_state=22,\n",
       "                                                verbose=10),\n",
       "                   n_iter=3, n_jobs=-1,\n",
       "                   param_distributions={'class_weight': [None, 'balanced'],\n",
       "                                        'max_iter': [100, 150],\n",
       "                                        'solver': ['lbfgs', 'liblinear',\n",
       "                                                   'sag']},\n",
       "                   scoring='roc_auc', verbose=5)"
      ]
     },
     "execution_count": 11,
     "metadata": {},
     "output_type": "execute_result"
    }
   ],
   "source": [
    "# Выполняем перебор параметров\n",
    "randomized_search_rf.fit(x_train, y_train)"
   ]
  },
  {
   "cell_type": "code",
   "execution_count": null,
   "metadata": {},
   "outputs": [],
   "source": [
    "# Определим лучшие параметры\n",
    "best_params = randomized_search_rf.best_params_"
   ]
  },
  {
   "cell_type": "markdown",
   "metadata": {},
   "source": [
    "{'solver': 'liblinear', 'max_iter': 200, 'class_weight': 'balanced'}\n"
   ]
  },
  {
   "cell_type": "markdown",
   "metadata": {},
   "source": [
    "обучим модель на лучших параметрах"
   ]
  },
  {
   "cell_type": "code",
   "execution_count": 29,
   "metadata": {},
   "outputs": [
    {
     "name": "stdout",
     "output_type": "stream",
     "text": [
      "Tuned RF Model Accuracy: 0.67049\n"
     ]
    }
   ],
   "source": [
    "logreg2_tuned = LogisticRegression(random_state=42, solver='liblinear', max_iter=200, class_weight='balanced')\n",
    "logreg2_tuned.fit(x_train, y_train)\n",
    "\n",
    "preds2 = logreg2_tuned.predict_proba(x_test)[:, 1]\n",
    "roc_auc_score(y_test, preds2)\n",
    "print(f'Tuned RF Model Accuracy: {roc_auc_score(y_test, preds2):.5f}')"
   ]
  },
  {
   "cell_type": "markdown",
   "metadata": {},
   "source": [
    "запишем модель в pickle файл"
   ]
  },
  {
   "cell_type": "code",
   "execution_count": 24,
   "metadata": {},
   "outputs": [],
   "source": [
    "with open('model.pickle', 'wb') as file:\n",
    "    pickle.dump(logreg2_tuned, file)"
   ]
  },
  {
   "cell_type": "markdown",
   "metadata": {},
   "source": [
    "# *Results*"
   ]
  },
  {
   "cell_type": "markdown",
   "metadata": {},
   "source": [
    "В PyCharm соберем pipeline. Результат метрики roc_auc: 0.6874\n",
    "\n",
    "Условия работы выполнены"
   ]
  },
  {
   "cell_type": "markdown",
   "metadata": {},
   "source": [
    "![title](data/Pipeline.png)"
   ]
  },
  {
   "cell_type": "markdown",
   "metadata": {},
   "source": [
    "# API"
   ]
  },
  {
   "cell_type": "markdown",
   "metadata": {},
   "source": [
    "для тестирования сервиса создадим тестовый файл с полностью заполненными строками"
   ]
  },
  {
   "cell_type": "code",
   "execution_count": null,
   "metadata": {},
   "outputs": [
    {
     "data": {
      "text/html": [
       "<div>\n",
       "<style scoped>\n",
       "    .dataframe tbody tr th:only-of-type {\n",
       "        vertical-align: middle;\n",
       "    }\n",
       "\n",
       "    .dataframe tbody tr th {\n",
       "        vertical-align: top;\n",
       "    }\n",
       "\n",
       "    .dataframe thead th {\n",
       "        text-align: right;\n",
       "    }\n",
       "</style>\n",
       "<table border=\"1\" class=\"dataframe\">\n",
       "  <thead>\n",
       "    <tr style=\"text-align: right;\">\n",
       "      <th></th>\n",
       "      <th>session_id</th>\n",
       "      <th>target</th>\n",
       "      <th>client_id</th>\n",
       "      <th>visit_date</th>\n",
       "      <th>visit_time</th>\n",
       "      <th>visit_number</th>\n",
       "      <th>utm_source</th>\n",
       "      <th>utm_medium</th>\n",
       "      <th>utm_campaign</th>\n",
       "      <th>utm_adcontent</th>\n",
       "      <th>utm_keyword</th>\n",
       "      <th>device_category</th>\n",
       "      <th>device_os</th>\n",
       "      <th>device_brand</th>\n",
       "      <th>device_model</th>\n",
       "      <th>device_screen_resolution</th>\n",
       "      <th>device_browser</th>\n",
       "      <th>geo_country</th>\n",
       "      <th>geo_city</th>\n",
       "    </tr>\n",
       "  </thead>\n",
       "  <tbody>\n",
       "    <tr>\n",
       "      <th>153</th>\n",
       "      <td>1000673746057003683.1640596138.1640596138</td>\n",
       "      <td>0</td>\n",
       "      <td>2.329875e+08</td>\n",
       "      <td>2021-12-27</td>\n",
       "      <td>12:08:58</td>\n",
       "      <td>1</td>\n",
       "      <td>ZpYIoDJMcFzVoPFsHGJL</td>\n",
       "      <td>banner</td>\n",
       "      <td>LEoPHuyFvzoNfnzGgfcd</td>\n",
       "      <td>JNHcPlZPxEMWDnRiyoBf</td>\n",
       "      <td>puhZPIYqKXeFPaUviSjo</td>\n",
       "      <td>mobile</td>\n",
       "      <td>Android</td>\n",
       "      <td>(not set)</td>\n",
       "      <td>AuMdmADEIoPXiWpTsBEj</td>\n",
       "      <td>360x780</td>\n",
       "      <td>Chrome</td>\n",
       "      <td>Russia</td>\n",
       "      <td>Krasnodar</td>\n",
       "    </tr>\n",
       "    <tr>\n",
       "      <th>193</th>\n",
       "      <td>1000868020311219764.1639112251.1639112251</td>\n",
       "      <td>0</td>\n",
       "      <td>2.330327e+08</td>\n",
       "      <td>2021-12-10</td>\n",
       "      <td>07:57:31</td>\n",
       "      <td>1</td>\n",
       "      <td>ZpYIoDJMcFzVoPFsHGJL</td>\n",
       "      <td>banner</td>\n",
       "      <td>TmThBvoCcwkCZZUWACYq</td>\n",
       "      <td>JNHcPlZPxEMWDnRiyoBf</td>\n",
       "      <td>puhZPIYqKXeFPaUviSjo</td>\n",
       "      <td>mobile</td>\n",
       "      <td>Android</td>\n",
       "      <td>(not set)</td>\n",
       "      <td>AuMdmADEIoPXiWpTsBEj</td>\n",
       "      <td>360x780</td>\n",
       "      <td>YaBrowser</td>\n",
       "      <td>Russia</td>\n",
       "      <td>Vladivostok</td>\n",
       "    </tr>\n",
       "    <tr>\n",
       "      <th>194</th>\n",
       "      <td>1000868020311219764.1639112419.1639112419</td>\n",
       "      <td>0</td>\n",
       "      <td>2.330327e+08</td>\n",
       "      <td>2021-12-10</td>\n",
       "      <td>08:00:19</td>\n",
       "      <td>2</td>\n",
       "      <td>ZpYIoDJMcFzVoPFsHGJL</td>\n",
       "      <td>banner</td>\n",
       "      <td>LEoPHuyFvzoNfnzGgfcd</td>\n",
       "      <td>vCIpmpaGBnIQhyYNkXqp</td>\n",
       "      <td>puhZPIYqKXeFPaUviSjo</td>\n",
       "      <td>mobile</td>\n",
       "      <td>Android</td>\n",
       "      <td>(not set)</td>\n",
       "      <td>AuMdmADEIoPXiWpTsBEj</td>\n",
       "      <td>360x780</td>\n",
       "      <td>YaBrowser</td>\n",
       "      <td>Russia</td>\n",
       "      <td>Vladivostok</td>\n",
       "    </tr>\n",
       "    <tr>\n",
       "      <th>409</th>\n",
       "      <td>100190546293664305.1638902376.1638902376</td>\n",
       "      <td>0</td>\n",
       "      <td>2.332743e+07</td>\n",
       "      <td>2021-12-07</td>\n",
       "      <td>21:39:36</td>\n",
       "      <td>1</td>\n",
       "      <td>ZpYIoDJMcFzVoPFsHGJL</td>\n",
       "      <td>banner</td>\n",
       "      <td>LEoPHuyFvzoNfnzGgfcd</td>\n",
       "      <td>vCIpmpaGBnIQhyYNkXqp</td>\n",
       "      <td>puhZPIYqKXeFPaUviSjo</td>\n",
       "      <td>mobile</td>\n",
       "      <td>Android</td>\n",
       "      <td>(not set)</td>\n",
       "      <td>AuMdmADEIoPXiWpTsBEj</td>\n",
       "      <td>384x854</td>\n",
       "      <td>Chrome</td>\n",
       "      <td>Russia</td>\n",
       "      <td>Perm</td>\n",
       "    </tr>\n",
       "    <tr>\n",
       "      <th>674</th>\n",
       "      <td>1003228169263268578.1637499621.1637499621</td>\n",
       "      <td>0</td>\n",
       "      <td>2.335823e+08</td>\n",
       "      <td>2021-11-21</td>\n",
       "      <td>16:00:21</td>\n",
       "      <td>1</td>\n",
       "      <td>ZpYIoDJMcFzVoPFsHGJL</td>\n",
       "      <td>banner</td>\n",
       "      <td>LEoPHuyFvzoNfnzGgfcd</td>\n",
       "      <td>JNHcPlZPxEMWDnRiyoBf</td>\n",
       "      <td>puhZPIYqKXeFPaUviSjo</td>\n",
       "      <td>mobile</td>\n",
       "      <td>Android</td>\n",
       "      <td>(not set)</td>\n",
       "      <td>AuMdmADEIoPXiWpTsBEj</td>\n",
       "      <td>360x756</td>\n",
       "      <td>Chrome</td>\n",
       "      <td>Russia</td>\n",
       "      <td>Tula</td>\n",
       "    </tr>\n",
       "    <tr>\n",
       "      <th>...</th>\n",
       "      <td>...</td>\n",
       "      <td>...</td>\n",
       "      <td>...</td>\n",
       "      <td>...</td>\n",
       "      <td>...</td>\n",
       "      <td>...</td>\n",
       "      <td>...</td>\n",
       "      <td>...</td>\n",
       "      <td>...</td>\n",
       "      <td>...</td>\n",
       "      <td>...</td>\n",
       "      <td>...</td>\n",
       "      <td>...</td>\n",
       "      <td>...</td>\n",
       "      <td>...</td>\n",
       "      <td>...</td>\n",
       "      <td>...</td>\n",
       "      <td>...</td>\n",
       "      <td>...</td>\n",
       "    </tr>\n",
       "    <tr>\n",
       "      <th>1731698</th>\n",
       "      <td>997376512546207071.1638036831.1638036831</td>\n",
       "      <td>0</td>\n",
       "      <td>2.322198e+08</td>\n",
       "      <td>2021-11-27</td>\n",
       "      <td>21:13:51</td>\n",
       "      <td>1</td>\n",
       "      <td>ZpYIoDJMcFzVoPFsHGJL</td>\n",
       "      <td>banner</td>\n",
       "      <td>LEoPHuyFvzoNfnzGgfcd</td>\n",
       "      <td>vCIpmpaGBnIQhyYNkXqp</td>\n",
       "      <td>puhZPIYqKXeFPaUviSjo</td>\n",
       "      <td>mobile</td>\n",
       "      <td>Android</td>\n",
       "      <td>(not set)</td>\n",
       "      <td>AuMdmADEIoPXiWpTsBEj</td>\n",
       "      <td>320x640</td>\n",
       "      <td>Chrome</td>\n",
       "      <td>Russia</td>\n",
       "      <td>Yaroslavl</td>\n",
       "    </tr>\n",
       "    <tr>\n",
       "      <th>1731742</th>\n",
       "      <td>997589611644042100.1638513529.1638513529</td>\n",
       "      <td>0</td>\n",
       "      <td>2.322694e+08</td>\n",
       "      <td>2021-12-03</td>\n",
       "      <td>09:38:49</td>\n",
       "      <td>1</td>\n",
       "      <td>ZpYIoDJMcFzVoPFsHGJL</td>\n",
       "      <td>banner</td>\n",
       "      <td>LEoPHuyFvzoNfnzGgfcd</td>\n",
       "      <td>vCIpmpaGBnIQhyYNkXqp</td>\n",
       "      <td>puhZPIYqKXeFPaUviSjo</td>\n",
       "      <td>mobile</td>\n",
       "      <td>Android</td>\n",
       "      <td>Vivo</td>\n",
       "      <td>pcvPxfVFaAmhwFmvIeYd</td>\n",
       "      <td>360x780</td>\n",
       "      <td>Chrome</td>\n",
       "      <td>Russia</td>\n",
       "      <td>Lipetsk</td>\n",
       "    </tr>\n",
       "    <tr>\n",
       "      <th>1731800</th>\n",
       "      <td>997793317641890856.1632480297.1632480297</td>\n",
       "      <td>0</td>\n",
       "      <td>2.323169e+08</td>\n",
       "      <td>2021-09-24</td>\n",
       "      <td>13:44:57</td>\n",
       "      <td>1</td>\n",
       "      <td>MvfHsxITijuriZxsqZqt</td>\n",
       "      <td>cpm</td>\n",
       "      <td>FTjNLDyTrXaWYgZymFkV</td>\n",
       "      <td>PkybGvWbaqORmxjNunqZ</td>\n",
       "      <td>bGiswZbYCzmVgFSflZDj</td>\n",
       "      <td>mobile</td>\n",
       "      <td>Android</td>\n",
       "      <td>Vivo</td>\n",
       "      <td>pTgAEPipQxDXCjPrJbHo</td>\n",
       "      <td>360x780</td>\n",
       "      <td>Chrome</td>\n",
       "      <td>Russia</td>\n",
       "      <td>Lyubertsy</td>\n",
       "    </tr>\n",
       "    <tr>\n",
       "      <th>1731932</th>\n",
       "      <td>998350632605824738.1640085220.1640085220</td>\n",
       "      <td>0</td>\n",
       "      <td>2.324466e+08</td>\n",
       "      <td>2021-12-21</td>\n",
       "      <td>14:13:40</td>\n",
       "      <td>1</td>\n",
       "      <td>ZpYIoDJMcFzVoPFsHGJL</td>\n",
       "      <td>push</td>\n",
       "      <td>sbJRYgVfvcnqKJNDDYIr</td>\n",
       "      <td>JNHcPlZPxEMWDnRiyoBf</td>\n",
       "      <td>puhZPIYqKXeFPaUviSjo</td>\n",
       "      <td>mobile</td>\n",
       "      <td>Android</td>\n",
       "      <td>(not set)</td>\n",
       "      <td>AuMdmADEIoPXiWpTsBEj</td>\n",
       "      <td>360x804</td>\n",
       "      <td>Chrome</td>\n",
       "      <td>Russia</td>\n",
       "      <td>Saint Petersburg</td>\n",
       "    </tr>\n",
       "    <tr>\n",
       "      <th>1732179</th>\n",
       "      <td>999582858715433603.1635491471.1635491471</td>\n",
       "      <td>0</td>\n",
       "      <td>2.327335e+08</td>\n",
       "      <td>2021-10-29</td>\n",
       "      <td>10:11:11</td>\n",
       "      <td>2</td>\n",
       "      <td>RmEBuqrriAfAVsLQQmhk</td>\n",
       "      <td>cpc</td>\n",
       "      <td>KgicpPxiEQfzPlPwQZJq</td>\n",
       "      <td>JNHcPlZPxEMWDnRiyoBf</td>\n",
       "      <td>puhZPIYqKXeFPaUviSjo</td>\n",
       "      <td>mobile</td>\n",
       "      <td>Android</td>\n",
       "      <td>(not set)</td>\n",
       "      <td>AuMdmADEIoPXiWpTsBEj</td>\n",
       "      <td>393x873</td>\n",
       "      <td>Chrome</td>\n",
       "      <td>Israel</td>\n",
       "      <td>Tel Aviv-Yafo</td>\n",
       "    </tr>\n",
       "  </tbody>\n",
       "</table>\n",
       "<p>13829 rows × 19 columns</p>\n",
       "</div>"
      ],
      "text/plain": [
       "                                        session_id  target     client_id  \\\n",
       "153      1000673746057003683.1640596138.1640596138       0  2.329875e+08   \n",
       "193      1000868020311219764.1639112251.1639112251       0  2.330327e+08   \n",
       "194      1000868020311219764.1639112419.1639112419       0  2.330327e+08   \n",
       "409       100190546293664305.1638902376.1638902376       0  2.332743e+07   \n",
       "674      1003228169263268578.1637499621.1637499621       0  2.335823e+08   \n",
       "...                                            ...     ...           ...   \n",
       "1731698   997376512546207071.1638036831.1638036831       0  2.322198e+08   \n",
       "1731742   997589611644042100.1638513529.1638513529       0  2.322694e+08   \n",
       "1731800   997793317641890856.1632480297.1632480297       0  2.323169e+08   \n",
       "1731932   998350632605824738.1640085220.1640085220       0  2.324466e+08   \n",
       "1732179   999582858715433603.1635491471.1635491471       0  2.327335e+08   \n",
       "\n",
       "         visit_date visit_time  visit_number            utm_source utm_medium  \\\n",
       "153      2021-12-27   12:08:58             1  ZpYIoDJMcFzVoPFsHGJL     banner   \n",
       "193      2021-12-10   07:57:31             1  ZpYIoDJMcFzVoPFsHGJL     banner   \n",
       "194      2021-12-10   08:00:19             2  ZpYIoDJMcFzVoPFsHGJL     banner   \n",
       "409      2021-12-07   21:39:36             1  ZpYIoDJMcFzVoPFsHGJL     banner   \n",
       "674      2021-11-21   16:00:21             1  ZpYIoDJMcFzVoPFsHGJL     banner   \n",
       "...             ...        ...           ...                   ...        ...   \n",
       "1731698  2021-11-27   21:13:51             1  ZpYIoDJMcFzVoPFsHGJL     banner   \n",
       "1731742  2021-12-03   09:38:49             1  ZpYIoDJMcFzVoPFsHGJL     banner   \n",
       "1731800  2021-09-24   13:44:57             1  MvfHsxITijuriZxsqZqt        cpm   \n",
       "1731932  2021-12-21   14:13:40             1  ZpYIoDJMcFzVoPFsHGJL       push   \n",
       "1732179  2021-10-29   10:11:11             2  RmEBuqrriAfAVsLQQmhk        cpc   \n",
       "\n",
       "                 utm_campaign         utm_adcontent           utm_keyword  \\\n",
       "153      LEoPHuyFvzoNfnzGgfcd  JNHcPlZPxEMWDnRiyoBf  puhZPIYqKXeFPaUviSjo   \n",
       "193      TmThBvoCcwkCZZUWACYq  JNHcPlZPxEMWDnRiyoBf  puhZPIYqKXeFPaUviSjo   \n",
       "194      LEoPHuyFvzoNfnzGgfcd  vCIpmpaGBnIQhyYNkXqp  puhZPIYqKXeFPaUviSjo   \n",
       "409      LEoPHuyFvzoNfnzGgfcd  vCIpmpaGBnIQhyYNkXqp  puhZPIYqKXeFPaUviSjo   \n",
       "674      LEoPHuyFvzoNfnzGgfcd  JNHcPlZPxEMWDnRiyoBf  puhZPIYqKXeFPaUviSjo   \n",
       "...                       ...                   ...                   ...   \n",
       "1731698  LEoPHuyFvzoNfnzGgfcd  vCIpmpaGBnIQhyYNkXqp  puhZPIYqKXeFPaUviSjo   \n",
       "1731742  LEoPHuyFvzoNfnzGgfcd  vCIpmpaGBnIQhyYNkXqp  puhZPIYqKXeFPaUviSjo   \n",
       "1731800  FTjNLDyTrXaWYgZymFkV  PkybGvWbaqORmxjNunqZ  bGiswZbYCzmVgFSflZDj   \n",
       "1731932  sbJRYgVfvcnqKJNDDYIr  JNHcPlZPxEMWDnRiyoBf  puhZPIYqKXeFPaUviSjo   \n",
       "1732179  KgicpPxiEQfzPlPwQZJq  JNHcPlZPxEMWDnRiyoBf  puhZPIYqKXeFPaUviSjo   \n",
       "\n",
       "        device_category device_os device_brand          device_model  \\\n",
       "153              mobile   Android    (not set)  AuMdmADEIoPXiWpTsBEj   \n",
       "193              mobile   Android    (not set)  AuMdmADEIoPXiWpTsBEj   \n",
       "194              mobile   Android    (not set)  AuMdmADEIoPXiWpTsBEj   \n",
       "409              mobile   Android    (not set)  AuMdmADEIoPXiWpTsBEj   \n",
       "674              mobile   Android    (not set)  AuMdmADEIoPXiWpTsBEj   \n",
       "...                 ...       ...          ...                   ...   \n",
       "1731698          mobile   Android    (not set)  AuMdmADEIoPXiWpTsBEj   \n",
       "1731742          mobile   Android         Vivo  pcvPxfVFaAmhwFmvIeYd   \n",
       "1731800          mobile   Android         Vivo  pTgAEPipQxDXCjPrJbHo   \n",
       "1731932          mobile   Android    (not set)  AuMdmADEIoPXiWpTsBEj   \n",
       "1732179          mobile   Android    (not set)  AuMdmADEIoPXiWpTsBEj   \n",
       "\n",
       "        device_screen_resolution device_browser geo_country          geo_city  \n",
       "153                      360x780         Chrome      Russia         Krasnodar  \n",
       "193                      360x780      YaBrowser      Russia       Vladivostok  \n",
       "194                      360x780      YaBrowser      Russia       Vladivostok  \n",
       "409                      384x854         Chrome      Russia              Perm  \n",
       "674                      360x756         Chrome      Russia              Tula  \n",
       "...                          ...            ...         ...               ...  \n",
       "1731698                  320x640         Chrome      Russia         Yaroslavl  \n",
       "1731742                  360x780         Chrome      Russia           Lipetsk  \n",
       "1731800                  360x780         Chrome      Russia         Lyubertsy  \n",
       "1731932                  360x804         Chrome      Russia  Saint Petersburg  \n",
       "1732179                  393x873         Chrome      Israel     Tel Aviv-Yafo  \n",
       "\n",
       "[13829 rows x 19 columns]"
      ]
     },
     "metadata": {},
     "output_type": "display_data"
    }
   ],
   "source": [
    "df_cleaned = df_session_target[~df_session_target.isnull().any(axis=1)]\n",
    "df_cleaned"
   ]
  },
  {
   "cell_type": "code",
   "execution_count": null,
   "metadata": {},
   "outputs": [
    {
     "data": {
      "text/html": [
       "<div>\n",
       "<style scoped>\n",
       "    .dataframe tbody tr th:only-of-type {\n",
       "        vertical-align: middle;\n",
       "    }\n",
       "\n",
       "    .dataframe tbody tr th {\n",
       "        vertical-align: top;\n",
       "    }\n",
       "\n",
       "    .dataframe thead th {\n",
       "        text-align: right;\n",
       "    }\n",
       "</style>\n",
       "<table border=\"1\" class=\"dataframe\">\n",
       "  <thead>\n",
       "    <tr style=\"text-align: right;\">\n",
       "      <th></th>\n",
       "      <th>session_id</th>\n",
       "      <th>target</th>\n",
       "      <th>client_id</th>\n",
       "      <th>visit_date</th>\n",
       "      <th>visit_time</th>\n",
       "      <th>visit_number</th>\n",
       "      <th>utm_source</th>\n",
       "      <th>utm_medium</th>\n",
       "      <th>utm_campaign</th>\n",
       "      <th>utm_adcontent</th>\n",
       "      <th>utm_keyword</th>\n",
       "      <th>device_category</th>\n",
       "      <th>device_os</th>\n",
       "      <th>device_brand</th>\n",
       "      <th>device_model</th>\n",
       "      <th>device_screen_resolution</th>\n",
       "      <th>device_browser</th>\n",
       "      <th>geo_country</th>\n",
       "      <th>geo_city</th>\n",
       "    </tr>\n",
       "  </thead>\n",
       "  <tbody>\n",
       "    <tr>\n",
       "      <th>580670</th>\n",
       "      <td>3790173640946164764.1638212636.1638212636</td>\n",
       "      <td>1</td>\n",
       "      <td>8.824686e+08</td>\n",
       "      <td>2021-11-29</td>\n",
       "      <td>22:03:56</td>\n",
       "      <td>1</td>\n",
       "      <td>ZpYIoDJMcFzVoPFsHGJL</td>\n",
       "      <td>banner</td>\n",
       "      <td>LEoPHuyFvzoNfnzGgfcd</td>\n",
       "      <td>vCIpmpaGBnIQhyYNkXqp</td>\n",
       "      <td>puhZPIYqKXeFPaUviSjo</td>\n",
       "      <td>mobile</td>\n",
       "      <td>Android</td>\n",
       "      <td>(not set)</td>\n",
       "      <td>AuMdmADEIoPXiWpTsBEj</td>\n",
       "      <td>393x873</td>\n",
       "      <td>Chrome</td>\n",
       "      <td>Russia</td>\n",
       "      <td>Odintsovo</td>\n",
       "    </tr>\n",
       "    <tr>\n",
       "      <th>1480801</th>\n",
       "      <td>810034471499726948.1636827235.1636827235</td>\n",
       "      <td>0</td>\n",
       "      <td>1.886008e+08</td>\n",
       "      <td>2021-11-13</td>\n",
       "      <td>21:13:55</td>\n",
       "      <td>1</td>\n",
       "      <td>MvfHsxITijuriZxsqZqt</td>\n",
       "      <td>cpm</td>\n",
       "      <td>FTjNLDyTrXaWYgZymFkV</td>\n",
       "      <td>xhoenQgDQsgfEPYNPwKO</td>\n",
       "      <td>BmOOOIoWGHEfxEfoUezs</td>\n",
       "      <td>mobile</td>\n",
       "      <td>Android</td>\n",
       "      <td>Vivo</td>\n",
       "      <td>FJApgTrMAGHoxCxQVKws</td>\n",
       "      <td>360x772</td>\n",
       "      <td>Chrome</td>\n",
       "      <td>Russia</td>\n",
       "      <td>Moscow</td>\n",
       "    </tr>\n",
       "    <tr>\n",
       "      <th>1631088</th>\n",
       "      <td>881736949078615.1638046298.1638046298</td>\n",
       "      <td>0</td>\n",
       "      <td>2.052952e+05</td>\n",
       "      <td>2021-11-27</td>\n",
       "      <td>23:51:38</td>\n",
       "      <td>1</td>\n",
       "      <td>MvfHsxITijuriZxsqZqt</td>\n",
       "      <td>cpm</td>\n",
       "      <td>FTjNLDyTrXaWYgZymFkV</td>\n",
       "      <td>xhoenQgDQsgfEPYNPwKO</td>\n",
       "      <td>DpZgNFPlBxxSZpGFMXkk</td>\n",
       "      <td>mobile</td>\n",
       "      <td>Android</td>\n",
       "      <td>Vivo</td>\n",
       "      <td>wsPZygnUifLMgkSEnWLj</td>\n",
       "      <td>360x760</td>\n",
       "      <td>Chrome</td>\n",
       "      <td>Russia</td>\n",
       "      <td>Moscow</td>\n",
       "    </tr>\n",
       "    <tr>\n",
       "      <th>858892</th>\n",
       "      <td>5121238582127242988.1639460588.1639460588</td>\n",
       "      <td>0</td>\n",
       "      <td>1.192381e+09</td>\n",
       "      <td>2021-12-14</td>\n",
       "      <td>08:43:08</td>\n",
       "      <td>1</td>\n",
       "      <td>ZpYIoDJMcFzVoPFsHGJL</td>\n",
       "      <td>banner</td>\n",
       "      <td>zxoiLxhuSIFrCeTLQVWZ</td>\n",
       "      <td>JNHcPlZPxEMWDnRiyoBf</td>\n",
       "      <td>puhZPIYqKXeFPaUviSjo</td>\n",
       "      <td>mobile</td>\n",
       "      <td>Android</td>\n",
       "      <td>(not set)</td>\n",
       "      <td>AuMdmADEIoPXiWpTsBEj</td>\n",
       "      <td>393x873</td>\n",
       "      <td>Chrome</td>\n",
       "      <td>Russia</td>\n",
       "      <td>Moscow</td>\n",
       "    </tr>\n",
       "    <tr>\n",
       "      <th>433886</th>\n",
       "      <td>3085780128023129986.1640443778.1640443778</td>\n",
       "      <td>0</td>\n",
       "      <td>7.184642e+08</td>\n",
       "      <td>2021-12-25</td>\n",
       "      <td>17:49:38</td>\n",
       "      <td>1</td>\n",
       "      <td>ZpYIoDJMcFzVoPFsHGJL</td>\n",
       "      <td>banner</td>\n",
       "      <td>LEoPHuyFvzoNfnzGgfcd</td>\n",
       "      <td>vCIpmpaGBnIQhyYNkXqp</td>\n",
       "      <td>puhZPIYqKXeFPaUviSjo</td>\n",
       "      <td>mobile</td>\n",
       "      <td>Android</td>\n",
       "      <td>(not set)</td>\n",
       "      <td>AuMdmADEIoPXiWpTsBEj</td>\n",
       "      <td>412x915</td>\n",
       "      <td>Chrome</td>\n",
       "      <td>Russia</td>\n",
       "      <td>Tver</td>\n",
       "    </tr>\n",
       "  </tbody>\n",
       "</table>\n",
       "</div>"
      ],
      "text/plain": [
       "                                        session_id  target     client_id  \\\n",
       "580670   3790173640946164764.1638212636.1638212636       1  8.824686e+08   \n",
       "1480801   810034471499726948.1636827235.1636827235       0  1.886008e+08   \n",
       "1631088      881736949078615.1638046298.1638046298       0  2.052952e+05   \n",
       "858892   5121238582127242988.1639460588.1639460588       0  1.192381e+09   \n",
       "433886   3085780128023129986.1640443778.1640443778       0  7.184642e+08   \n",
       "\n",
       "         visit_date visit_time  visit_number            utm_source utm_medium  \\\n",
       "580670   2021-11-29   22:03:56             1  ZpYIoDJMcFzVoPFsHGJL     banner   \n",
       "1480801  2021-11-13   21:13:55             1  MvfHsxITijuriZxsqZqt        cpm   \n",
       "1631088  2021-11-27   23:51:38             1  MvfHsxITijuriZxsqZqt        cpm   \n",
       "858892   2021-12-14   08:43:08             1  ZpYIoDJMcFzVoPFsHGJL     banner   \n",
       "433886   2021-12-25   17:49:38             1  ZpYIoDJMcFzVoPFsHGJL     banner   \n",
       "\n",
       "                 utm_campaign         utm_adcontent           utm_keyword  \\\n",
       "580670   LEoPHuyFvzoNfnzGgfcd  vCIpmpaGBnIQhyYNkXqp  puhZPIYqKXeFPaUviSjo   \n",
       "1480801  FTjNLDyTrXaWYgZymFkV  xhoenQgDQsgfEPYNPwKO  BmOOOIoWGHEfxEfoUezs   \n",
       "1631088  FTjNLDyTrXaWYgZymFkV  xhoenQgDQsgfEPYNPwKO  DpZgNFPlBxxSZpGFMXkk   \n",
       "858892   zxoiLxhuSIFrCeTLQVWZ  JNHcPlZPxEMWDnRiyoBf  puhZPIYqKXeFPaUviSjo   \n",
       "433886   LEoPHuyFvzoNfnzGgfcd  vCIpmpaGBnIQhyYNkXqp  puhZPIYqKXeFPaUviSjo   \n",
       "\n",
       "        device_category device_os device_brand          device_model  \\\n",
       "580670           mobile   Android    (not set)  AuMdmADEIoPXiWpTsBEj   \n",
       "1480801          mobile   Android         Vivo  FJApgTrMAGHoxCxQVKws   \n",
       "1631088          mobile   Android         Vivo  wsPZygnUifLMgkSEnWLj   \n",
       "858892           mobile   Android    (not set)  AuMdmADEIoPXiWpTsBEj   \n",
       "433886           mobile   Android    (not set)  AuMdmADEIoPXiWpTsBEj   \n",
       "\n",
       "        device_screen_resolution device_browser geo_country   geo_city  \n",
       "580670                   393x873         Chrome      Russia  Odintsovo  \n",
       "1480801                  360x772         Chrome      Russia     Moscow  \n",
       "1631088                  360x760         Chrome      Russia     Moscow  \n",
       "858892                   393x873         Chrome      Russia     Moscow  \n",
       "433886                   412x915         Chrome      Russia       Tver  "
      ]
     },
     "metadata": {},
     "output_type": "display_data"
    }
   ],
   "source": [
    "df_test = df_cleaned.sample(n=5)\n",
    "df_test"
   ]
  },
  {
   "cell_type": "code",
   "execution_count": null,
   "metadata": {},
   "outputs": [
    {
     "data": {
      "text/plain": [
       "[{'session_id': '3790173640946164764.1638212636.1638212636',\n",
       "  'target': 1,\n",
       "  'client_id': 882468568.1638211,\n",
       "  'visit_date': '2021-11-29',\n",
       "  'visit_time': '22:03:56',\n",
       "  'visit_number': 1,\n",
       "  'utm_source': 'ZpYIoDJMcFzVoPFsHGJL',\n",
       "  'utm_medium': 'banner',\n",
       "  'utm_campaign': 'LEoPHuyFvzoNfnzGgfcd',\n",
       "  'utm_adcontent': 'vCIpmpaGBnIQhyYNkXqp',\n",
       "  'utm_keyword': 'puhZPIYqKXeFPaUviSjo',\n",
       "  'device_category': 'mobile',\n",
       "  'device_os': 'Android',\n",
       "  'device_brand': '(not set)',\n",
       "  'device_model': 'AuMdmADEIoPXiWpTsBEj',\n",
       "  'device_screen_resolution': '393x873',\n",
       "  'device_browser': 'Chrome',\n",
       "  'geo_country': 'Russia',\n",
       "  'geo_city': 'Odintsovo'},\n",
       " {'session_id': '810034471499726948.1636827235.1636827235',\n",
       "  'target': 0,\n",
       "  'client_id': 188600847.16368273,\n",
       "  'visit_date': '2021-11-13',\n",
       "  'visit_time': '21:13:55',\n",
       "  'visit_number': 1,\n",
       "  'utm_source': 'MvfHsxITijuriZxsqZqt',\n",
       "  'utm_medium': 'cpm',\n",
       "  'utm_campaign': 'FTjNLDyTrXaWYgZymFkV',\n",
       "  'utm_adcontent': 'xhoenQgDQsgfEPYNPwKO',\n",
       "  'utm_keyword': 'BmOOOIoWGHEfxEfoUezs',\n",
       "  'device_category': 'mobile',\n",
       "  'device_os': 'Android',\n",
       "  'device_brand': 'Vivo',\n",
       "  'device_model': 'FJApgTrMAGHoxCxQVKws',\n",
       "  'device_screen_resolution': '360x772',\n",
       "  'device_browser': 'Chrome',\n",
       "  'geo_country': 'Russia',\n",
       "  'geo_city': 'Moscow'},\n",
       " {'session_id': '881736949078615.1638046298.1638046298',\n",
       "  'target': 0,\n",
       "  'client_id': 205295.1638046295,\n",
       "  'visit_date': '2021-11-27',\n",
       "  'visit_time': '23:51:38',\n",
       "  'visit_number': 1,\n",
       "  'utm_source': 'MvfHsxITijuriZxsqZqt',\n",
       "  'utm_medium': 'cpm',\n",
       "  'utm_campaign': 'FTjNLDyTrXaWYgZymFkV',\n",
       "  'utm_adcontent': 'xhoenQgDQsgfEPYNPwKO',\n",
       "  'utm_keyword': 'DpZgNFPlBxxSZpGFMXkk',\n",
       "  'device_category': 'mobile',\n",
       "  'device_os': 'Android',\n",
       "  'device_brand': 'Vivo',\n",
       "  'device_model': 'wsPZygnUifLMgkSEnWLj',\n",
       "  'device_screen_resolution': '360x760',\n",
       "  'device_browser': 'Chrome',\n",
       "  'geo_country': 'Russia',\n",
       "  'geo_city': 'Moscow'},\n",
       " {'session_id': '5121238582127242988.1639460588.1639460588',\n",
       "  'target': 0,\n",
       "  'client_id': 1192381275.163946,\n",
       "  'visit_date': '2021-12-14',\n",
       "  'visit_time': '08:43:08',\n",
       "  'visit_number': 1,\n",
       "  'utm_source': 'ZpYIoDJMcFzVoPFsHGJL',\n",
       "  'utm_medium': 'banner',\n",
       "  'utm_campaign': 'zxoiLxhuSIFrCeTLQVWZ',\n",
       "  'utm_adcontent': 'JNHcPlZPxEMWDnRiyoBf',\n",
       "  'utm_keyword': 'puhZPIYqKXeFPaUviSjo',\n",
       "  'device_category': 'mobile',\n",
       "  'device_os': 'Android',\n",
       "  'device_brand': '(not set)',\n",
       "  'device_model': 'AuMdmADEIoPXiWpTsBEj',\n",
       "  'device_screen_resolution': '393x873',\n",
       "  'device_browser': 'Chrome',\n",
       "  'geo_country': 'Russia',\n",
       "  'geo_city': 'Moscow'},\n",
       " {'session_id': '3085780128023129986.1640443778.1640443778',\n",
       "  'target': 0,\n",
       "  'client_id': 718464173.1640444,\n",
       "  'visit_date': '2021-12-25',\n",
       "  'visit_time': '17:49:38',\n",
       "  'visit_number': 1,\n",
       "  'utm_source': 'ZpYIoDJMcFzVoPFsHGJL',\n",
       "  'utm_medium': 'banner',\n",
       "  'utm_campaign': 'LEoPHuyFvzoNfnzGgfcd',\n",
       "  'utm_adcontent': 'vCIpmpaGBnIQhyYNkXqp',\n",
       "  'utm_keyword': 'puhZPIYqKXeFPaUviSjo',\n",
       "  'device_category': 'mobile',\n",
       "  'device_os': 'Android',\n",
       "  'device_brand': '(not set)',\n",
       "  'device_model': 'AuMdmADEIoPXiWpTsBEj',\n",
       "  'device_screen_resolution': '412x915',\n",
       "  'device_browser': 'Chrome',\n",
       "  'geo_country': 'Russia',\n",
       "  'geo_city': 'Tver'}]"
      ]
     },
     "metadata": {},
     "output_type": "display_data"
    }
   ],
   "source": [
    "test = df_test.to_dict('sample')\n",
    "test"
   ]
  },
  {
   "cell_type": "markdown",
   "metadata": {},
   "source": [
    "запишем данные в файл"
   ]
  },
  {
   "cell_type": "code",
   "execution_count": null,
   "metadata": {},
   "outputs": [],
   "source": [
    "# запишем в файл\n",
    "with open(('data/test.json'), 'w') as fp:\n",
    "    json.dump(test, fp)"
   ]
  },
  {
   "cell_type": "markdown",
   "metadata": {},
   "source": [
    "посмотрим результаты вывода сервиса"
   ]
  },
  {
   "cell_type": "markdown",
   "metadata": {},
   "source": [
    "![title](data/Postman1.png)"
   ]
  },
  {
   "cell_type": "markdown",
   "metadata": {},
   "source": [
    "![title](data/Postman2.png)"
   ]
  },
  {
   "cell_type": "markdown",
   "metadata": {},
   "source": [
    "## *сервис работает, выводит id клиента, id сессии и предсказание*"
   ]
  }
 ],
 "metadata": {
  "kernelspec": {
   "display_name": "Python 3",
   "language": "python",
   "name": "python3"
  },
  "language_info": {
   "codemirror_mode": {
    "name": "ipython",
    "version": 3
   },
   "file_extension": ".py",
   "mimetype": "text/x-python",
   "name": "python",
   "nbconvert_exporter": "python",
   "pygments_lexer": "ipython3",
   "version": "3.12.8"
  }
 },
 "nbformat": 4,
 "nbformat_minor": 2
}
